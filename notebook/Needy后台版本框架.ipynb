{
  "nbformat": 4,
  "nbformat_minor": 0,
  "metadata": {
    "colab": {
      "provenance": [],
      "authorship_tag": "ABX9TyPD08+ORjeynG55N3pgN77J",
      "include_colab_link": true
    },
    "kernelspec": {
      "name": "python3",
      "display_name": "Python 3"
    },
    "language_info": {
      "name": "python"
    }
  },
  "cells": [
    {
      "cell_type": "markdown",
      "metadata": {
        "id": "view-in-github",
        "colab_type": "text"
      },
      "source": [
        "<a href=\"https://colab.research.google.com/github/LC1332/Needy-Haruhi/blob/main/notebook/Needy%E5%90%8E%E5%8F%B0%E7%89%88%E6%9C%AC%E6%A1%86%E6%9E%B6.ipynb\" target=\"_parent\"><img src=\"https://colab.research.google.com/assets/colab-badge.svg\" alt=\"Open In Colab\"/></a>"
      ]
    },
    {
      "cell_type": "markdown",
      "source": [
        "# Agent系统"
      ],
      "metadata": {
        "id": "fvfT09AXlr7z"
      }
    },
    {
      "cell_type": "markdown",
      "source": [
        "我希望实现一个Agent类\n",
        "\n",
        "这个agent有多个属性（目前设计有 Stress , Darkness和Affection）\n",
        "\n",
        "可以通过类似agent[\"Stress\"]这样的形式调用\n",
        "\n",
        "请用self.attributes 字典形式存储，并且重载[]操作符使得agent的行为和字典一致\n",
        "\n",
        "同时实现一个成员函数apply_attribute_change( attribute_change )\n",
        "\n",
        "attribute_change是一个形如{\"Darkness\":-1, \"Stress\":1}的字典，如果字典key的值在self.attributes中存在，则累加在上面，不然则汇报warning并跳过"
      ],
      "metadata": {
        "id": "IX0PJDnHql9i"
      }
    },
    {
      "cell_type": "code",
      "source": [
        "class Agent:\n",
        "    def __init__(self):\n",
        "        self.attributes = {\n",
        "            \"Stress\": 0,\n",
        "            \"Darkness\": 0,\n",
        "            \"Affection\": 0,\n",
        "        }\n",
        "\n",
        "    def __getitem__(self, key):\n",
        "        return self.attributes.get(key)\n",
        "\n",
        "    def __setitem__(self, key, value):\n",
        "        self.attributes[key] = value\n",
        "\n",
        "    def apply_attribute_change(self, attribute_change):\n",
        "        for key, value in attribute_change.items():\n",
        "            if key in self.attributes:\n",
        "                self.attributes[key] += value\n",
        "            else:\n",
        "                print(f\"Warning: {key} not in attributes, skipping\")\n",
        "\n",
        "# 示例用法\n",
        "agent = Agent()\n",
        "print(agent[\"Stress\"])  # 输出 0\n",
        "agent[\"Stress\"] += 1\n",
        "print(agent[\"Stress\"])  # 输出 1\n",
        "agent.apply_attribute_change({\"Darkness\": -1, \"Stress\": 1})\n",
        "print(agent[\"Darkness\"])  # 输出 -1\n",
        "print(agent[\"Stress\"])  # 输出 2\n",
        "agent.apply_attribute_change({\"Nonexistent\": 5})  # 输出 Warning: Nonexistent not in attributes, skipping\n"
      ],
      "metadata": {
        "colab": {
          "base_uri": "https://localhost:8080/"
        },
        "id": "Fv_uu-YLrXtz",
        "outputId": "364bc438-be68-4b45-f5a7-ad730cfb5187"
      },
      "execution_count": null,
      "outputs": [
        {
          "output_type": "stream",
          "name": "stdout",
          "text": [
            "0\n",
            "1\n",
            "-1\n",
            "2\n",
            "Warning: Nonexistent not in attributes, skipping\n"
          ]
        }
      ]
    },
    {
      "cell_type": "markdown",
      "source": [],
      "metadata": {
        "id": "cxmHB7Syv1WD"
      }
    },
    {
      "cell_type": "markdown",
      "source": [
        "## Attribute String解析\n",
        "\n",
        "我希望实现一个字符串解析函数，输入是一个string，输出是一个dict，如果字符串中出现\n",
        "\"Strees:\", \"Affection:\"或者\"Darkness:\"，则把后面的一个有正负的浮点数作为value，对应的字符串作为key，记录在dict中\n",
        "\n",
        "如果后面是？或者非数字，则记录成0\n",
        "\n",
        "example input:\n",
        "Stress: -1.0, Affection: +0.5\n",
        "example output:\n",
        "{\"Stress\":-1,\"Affection\":0.5 }\n",
        "\n",
        "exmple input:\n",
        "Affection: +4.0, Stress: -2.0, Darkness: -1.0\n",
        "example output:\n",
        "{\"Stress\":-1,\"Affection\":0.5 }\n",
        "\n",
        "example input:\n",
        "Affection: +2.0, Stress: -1.0, Darkness: ?\n",
        "example output:\n",
        "{\"Affection\": 2, \"Stress\": -1, \"Darkness\": 0 }\n",
        "\n",
        "example input:\n",
        "Stress: -1.0\n",
        "example output:\n",
        "{\"Stress\":-1}\n"
      ],
      "metadata": {
        "id": "1O-TQ4I2yQBs"
      }
    },
    {
      "cell_type": "code",
      "source": [
        "import re\n",
        "\n",
        "def parse_attribute_string(attribute_str):\n",
        "    result = {}\n",
        "    patterns = {\n",
        "        \"Stress\": r\"Stress:\\s*([+-]?\\d+(\\.\\d+)?)?\",\n",
        "        \"Affection\": r\"Affection:\\s*([+-]?\\d+(\\.\\d+)?)?\",\n",
        "        \"Darkness\": r\"Darkness:\\s*([+-]?\\d+(\\.\\d+)?)?\"\n",
        "    }\n",
        "\n",
        "    for key, pattern in patterns.items():\n",
        "        match = re.search(pattern, attribute_str)\n",
        "        if match:\n",
        "            value = match.group(1)\n",
        "            if value is None:\n",
        "                result[key] = 0\n",
        "            else:\n",
        "                result[key] = float(value)\n",
        "\n",
        "    return result\n",
        "\n",
        "# Test cases\n",
        "print(parse_attribute_string(\"Stress: -1.0, Affection: +0.5\"))  # Output: {'Stress': -1.0, 'Affection': 0.5}\n",
        "print(parse_attribute_string(\"Affection: +4.0, Stress: -2.0, Darkness: -1.0\"))  # Output: {'Affection': 4.0, 'Stress': -2.0, 'Darkness': -1.0}\n",
        "print(parse_attribute_string(\"Affection: +2.0, Stress: -1.0, Darkness: ?\"))  # Output: {'Affection': 2.0, 'Stress': -1.0, 'Darkness': 0}\n",
        "print(parse_attribute_string(\"Stress: -1.0\"))  # Output: {'Stress': -1.0}\n"
      ],
      "metadata": {
        "colab": {
          "base_uri": "https://localhost:8080/"
        },
        "id": "U86M9L_Qzbck",
        "outputId": "4ac6489d-031c-4dc1-e0b4-f161acc0f8b1"
      },
      "execution_count": 38,
      "outputs": [
        {
          "output_type": "stream",
          "name": "stdout",
          "text": [
            "{'Stress': -1.0, 'Affection': 0.5}\n",
            "{'Stress': -2.0, 'Affection': 4.0, 'Darkness': -1.0}\n",
            "{'Stress': -1.0, 'Affection': 2.0, 'Darkness': 0}\n",
            "{'Stress': -1.0}\n"
          ]
        }
      ]
    },
    {
      "cell_type": "markdown",
      "source": [
        "# DialogueEvent"
      ],
      "metadata": {
        "id": "Uls9L_inl1sg"
      }
    },
    {
      "cell_type": "code",
      "source": [
        "import json\n",
        "\n",
        "class DialogueEvent:\n",
        "    def __init__(self, json_str=None, user_role = None):\n",
        "        if json_str:\n",
        "            try:\n",
        "                self.data = json.loads(json_str)\n",
        "            except json.JSONDecodeError:\n",
        "                print(\"输入的字符串不是有效的JSON格式。\")\n",
        "                self.data = {}\n",
        "        else:\n",
        "            self.data = {}\n",
        "\n",
        "        if \"Condition\" not in self.data:\n",
        "            self.data[\"Condition\"] = \"\"\n",
        "\n",
        "        if user_role is None:\n",
        "            self.user_role = \"男主\"\n",
        "\n",
        "\n",
        "    def __getitem__(self, key):\n",
        "        return self.data.get(key, None)\n",
        "\n",
        "    def __setitem__(self, key, value):\n",
        "        self.data[key] = value\n",
        "\n",
        "    def __repr__(self):\n",
        "        return str(self.data)\n",
        "\n",
        "    def transfer_output( self, choice_id ):\n",
        "        ans = self.data[\"prefix\"] + \"\\n\"\n",
        "        user_text = self.user_role + \": \" + self.data[\"options\"][choice_id][\"user\"] + \"\\n\"\n",
        "        ans += user_text\n",
        "        ans += self.data[\"options\"][choice_id][\"reply\"] + \"\\n\"\n",
        "\n",
        "        # print(self.data[\"options\"][choice_id]['attribute_change'])\n",
        "        return ans\n",
        "\n",
        "\n",
        "example_json_str = \"\"\"{\"prefix\": \"糖糖: 嘿嘿，最近我在想要不要改变直播风格，你觉得我应该怎么做呀？\", \"options\": [{\"user\": \"你可以试试唱歌直播呀！\", \"reply\": \"糖糖: 哇！唱歌直播是个好主意！我可以把我的可爱音色展现给大家听听！谢谢你的建议！\", \"attribute_change\": \"Stress: -1.0\"}, {\"user\": \"你可以尝试做一些搞笑的小品，逗大家开心。\", \"reply\": \"糖糖: 哈哈哈，小品确实挺有趣的！我可以挑战一些搞笑角色，给大家带来欢乐！谢谢你的建议！\", \"attribute_change\": \"Stress: -1.0\"}, {\"user\": \"你可以尝试做游戏直播，和观众一起玩游戏。\", \"reply\": \"糖糖: 游戏直播也不错！我可以和观众一起玩游戏，互动更加有趣！谢谢你的建议！\", \"attribute_change\": \"Stress: -1.0\"}]}\"\"\"\n",
        "\n",
        "# 通过给定的json字符串初始化DialogueEvent实例\n",
        "event = DialogueEvent(example_json_str)\n",
        "\n",
        "# 通过类似字典的方式访问数据\n",
        "# print(event[\"options\"])  # 打印options字段的内容\n",
        "\n",
        "print(event.transfer_output(0) )"
      ],
      "metadata": {
        "colab": {
          "base_uri": "https://localhost:8080/"
        },
        "id": "_99jUS3-l3xR",
        "outputId": "36803a43-edaf-42d5-e944-3b101ebce35a"
      },
      "execution_count": 37,
      "outputs": [
        {
          "output_type": "stream",
          "name": "stdout",
          "text": [
            "Stress: -1.0\n",
            "糖糖: 嘿嘿，最近我在想要不要改变直播风格，你觉得我应该怎么做呀？\n",
            "男主: 你可以试试唱歌直播呀！\n",
            "糖糖: 哇！唱歌直播是个好主意！我可以把我的可爱音色展现给大家听听！谢谢你的建议！\n",
            "\n"
          ]
        }
      ]
    },
    {
      "cell_type": "markdown",
      "source": [
        "给定 example_json_str = \"\"\"{\"prefix\": \"糖糖: 嘿嘿，最近我在想要不要改变直播风格，你觉得我应该怎么做呀？\", \"options\": [{\"user\": \"你可以试试唱歌直播呀！\", \"reply\": \"糖糖: 哇！唱歌直播是个好主意！我可以把我的可爱音色展现给大家听听！谢谢你的建议！\", \"attribute_change\": \"Stress: -1.0\"}, {\"user\": \"你可以尝试做一些搞笑的小品，逗大家开心。\", \"reply\": \"糖糖: 哈哈哈，小品确实挺有趣的！我可以挑战一些搞笑角色，给大家带来欢乐！谢谢你的建议！\", \"attribute_change\": \"Stress: -1.0\"}, {\"user\": \"你可以尝试做游戏直播，和观众一起玩游戏。\", \"reply\": \"糖糖: 游戏直播也不错！我可以和观众一起玩游戏，互动更加有趣！谢谢你的建议！\", \"attribute_change\": \"Stress: -1.0\"}]}\"\"\"\n",
        "\n",
        "我希望建立一个DialogueEvent类\n",
        "\n",
        "这个类可以凭空初始化\n",
        "\n",
        "也可以通过DialogueEvent(str)的方式来初始化\n",
        "\n",
        "并且json_str解析后，会以self.data的字典形式存储在类中\n",
        "\n",
        "并且可以通过类似 event[\"options\"]的方式进行调用\n",
        "\n",
        "请用python为我实现"
      ],
      "metadata": {
        "id": "VcjLweERmCZZ"
      }
    },
    {
      "cell_type": "markdown",
      "source": [
        "# Memory\n",
        "\n",
        "memory我们希望Event和Memory是分离的Event的标准字段如下\n",
        "\n",
        "- Name， Event的Name，用来后续如果玩家进行游戏修改的话可以根据\n",
        "- Text， 这个event下完整的对话文本\n",
        "- Embedding， text的embedding\n",
        "- Condition， 这个event对应的出现条件\n",
        "- Emoji， 这个memory的缩写显示emoji\n",
        "\n",
        "Memory应该可以从Event去默认load一个"
      ],
      "metadata": {
        "id": "vNoYQxJGntqL"
      }
    },
    {
      "cell_type": "code",
      "source": [
        "example_memory_json = {\n",
        "    \"Name\": \"EventName\",\n",
        "    \"Text\": \"Sample Text\",\n",
        "    \"Embedding\": [0,0,0],\n",
        "    \"Condition\": \"\",\n",
        "    \"Emoji\": \"😓🤯\"\n",
        "}"
      ],
      "metadata": {
        "id": "FCr1unIRqql5"
      },
      "execution_count": 23,
      "outputs": []
    },
    {
      "cell_type": "markdown",
      "source": [
        "Memory会包含下面几个字段\n",
        "\n",
        "example_memory_json = {\n",
        "    \"Name\": \"EventName\",\n",
        "    \"Text\": \"Sample Text\",\n",
        "    \"Embedding\": [0,0,0],\n",
        "    \"Condition\": \"\",\n",
        "    \"Emoji\": \"😓🤯\"\n",
        "}\n",
        "\n",
        "请为我创建一个Memory类\n",
        "\n",
        "这个memory类可以通过Memory(json_str)来载入\n",
        "\n",
        "同时这个类也有和DIalogueEvent类似的get和setitem的功能"
      ],
      "metadata": {
        "id": "FMt9G2m1rTNR"
      }
    },
    {
      "cell_type": "code",
      "source": [
        "import json\n",
        "\n",
        "class Memory:\n",
        "    def __init__(self, json_str=None):\n",
        "        if json_str:\n",
        "            try:\n",
        "                self.data = json.loads(json_str)\n",
        "            except json.JSONDecodeError:\n",
        "                print(\"输入的字符串不是有效的JSON格式。\")\n",
        "                self.data = {}\n",
        "        else:\n",
        "            self.data = {}\n",
        "\n",
        "    def load_from_event( event ):\n",
        "        pass\n",
        "\n",
        "    def __getitem__(self, key):\n",
        "        return self.data.get(key, None)\n",
        "\n",
        "    def __setitem__(self, key, value):\n",
        "        self.data[key] = value\n",
        "\n",
        "    def __repr__(self):\n",
        "        return str(self.data)\n",
        "\n",
        "\n",
        "example_memory_json = {\n",
        "    \"Name\": \"EventName\",\n",
        "    \"Text\": \"Sample Text\",\n",
        "    \"Embedding\": [0, 0, 0],\n",
        "    \"Condition\": \"\",\n",
        "    \"Emoji\": \"😓🤯\"\n",
        "}\n",
        "\n",
        "# 通过给定的json字符串初始化Memory实例\n",
        "memory = Memory(json.dumps(example_memory_json))\n",
        "\n",
        "# 通过类似字典的方式访问数据\n",
        "print(memory[\"Name\"])  # 打印Name字段的内容\n",
        "print(memory[\"Emoji\"])  # 打印Emoji字段的内容\n"
      ],
      "metadata": {
        "colab": {
          "base_uri": "https://localhost:8080/"
        },
        "id": "1DO_kek5rR94",
        "outputId": "3af7c023-8f42-4d68-e43f-b4c8a13716d1"
      },
      "execution_count": 24,
      "outputs": [
        {
          "output_type": "stream",
          "name": "stdout",
          "text": [
            "EventName\n",
            "😓🤯\n"
          ]
        }
      ]
    },
    {
      "cell_type": "markdown",
      "source": [],
      "metadata": {
        "id": "DHIvsRljqnj1"
      }
    },
    {
      "cell_type": "markdown",
      "source": [
        "我希望使用python实现一个简单的文字对话游戏\n",
        "\n",
        "我希望先实现一个GameMaster类\n",
        "\n",
        "这个类会不断的和用户对话\n",
        "\n",
        "GameMaster类会有三个状态，\n",
        "\n",
        "在Menu状态下，GameMaster会询问玩家是\n",
        "\n",
        "```\n",
        "1. 随机一个事件\n",
        "2. 自由聊天\n",
        "```\n",
        "\n",
        "当玩家选择1的时候，GameMaster的交互会交给 EventMaster\n",
        "\n",
        "当玩家选择2的时候，GameMaster的交互会交给 ChatMaster\n",
        "\n",
        "当玩家在EventMaster的时候，会经历一次选择，之后就会退出\n",
        "\n",
        "在ChatMaster的时候，如果玩家输入quit，则会退出，不然则会继续聊天。\n",
        "\n",
        "请为我编写合适的框架，如果有一些具体的函数，可以先用pass实现。"
      ],
      "metadata": {
        "id": "SYk3meZdouUm"
      }
    },
    {
      "cell_type": "code",
      "source": [
        "class EventMaster:\n",
        "    def run(self, agent ):\n",
        "        print(\"事件发生了！\")\n",
        "        # 这里可以添加事件相关的逻辑\n",
        "        input(\"按任意键继续...\")\n"
      ],
      "metadata": {
        "id": "jQ6MS0cpuSrP"
      },
      "execution_count": null,
      "outputs": []
    },
    {
      "cell_type": "markdown",
      "source": [
        "ChatMaster实际上需要\n",
        "\n",
        "根据agent的属性 先去filter一遍事件\n",
        "\n",
        "然后从剩余事件中，找到和当前text最接近的k个embedding，放入ChatHaruhi架构中"
      ],
      "metadata": {
        "id": "3vhG1DVEucfT"
      }
    },
    {
      "cell_type": "code",
      "source": [
        "class MemoryPool:\n",
        "    def __init__(self):\n",
        "        memory = {}\n",
        "\n",
        "    def change_memory( memory_name , new_text ):\n",
        "        pass\n",
        "\n",
        "    def retrieve( agent, query_text ):\n",
        "        pass\n",
        "\n",
        "\n",
        "class ChatMaster:\n",
        "\n",
        "    def __init__(self):\n",
        "        self.top_K = 7\n",
        "\n",
        "        self.memory_pool = MemoryPool()\n",
        "\n",
        "\n",
        "    def run(self, agent):\n",
        "        while True:\n",
        "            user_input = input(\"聊天：\")\n",
        "            user_input = user_input.strip()\n",
        "\n",
        "            if \"quit\" in user_input or \"Quit\" in user_input:\n",
        "                break\n",
        "\n",
        "            # 首先根据当前的agent，判断每个事件的条件是不是吻合，如果吻合则加入搜索\n",
        "\n",
        "            #\n"
      ],
      "metadata": {
        "id": "0c7nCT4qubll"
      },
      "execution_count": null,
      "outputs": []
    },
    {
      "cell_type": "code",
      "execution_count": null,
      "metadata": {
        "id": "BDEdz_RBol7Y"
      },
      "outputs": [],
      "source": [
        "class GameMaster:\n",
        "    def __init__(self, agent = None):\n",
        "        self.state = \"Menu\"\n",
        "        if agent is None:\n",
        "            self.agent = Agent()\n",
        "\n",
        "\n",
        "    def run(self):\n",
        "        while True:\n",
        "            if self.state == \"Menu\":\n",
        "                self.menu()\n",
        "            elif self.state == \"EventMaster\":\n",
        "                self.event_master()\n",
        "                self.state = \"Menu\"\n",
        "            elif self.state == \"ChatMaster\":\n",
        "                self.chat_master()\n",
        "            elif self.state == \"Quit\":\n",
        "                break\n",
        "\n",
        "    def menu(self):\n",
        "        print(\"1. 随机一个事件\")\n",
        "        print(\"2. 自由聊天\")\n",
        "        print(\"或者输入Quit退出\")\n",
        "        choice = input(\"请选择一个选项: \")\n",
        "        if choice == \"1\":\n",
        "            self.state = \"EventMaster\"\n",
        "        elif choice == \"2\":\n",
        "            self.state = \"ChatMaster\"\n",
        "        elif \"quit\" in choice or \"Quit\" in choice or \"QUIT\" in choice:\n",
        "            self.state = \"Quit\"\n",
        "        else:\n",
        "            print(\"无效的选项，请重新选择\")\n",
        "\n",
        "    def event_master(self):\n",
        "        event_master = EventMaster()\n",
        "        event_master.run(self.agent)\n",
        "        self.state = \"Menu\"\n",
        "\n",
        "    def chat_master(self):\n",
        "        chat_master = ChatMaster()\n",
        "        chat_master.run(self.agent)\n",
        "        self.state = \"Menu\"\n",
        "\n",
        "\n"
      ]
    },
    {
      "cell_type": "code",
      "source": [
        "game_master = GameMaster()\n",
        "game_master.run()"
      ],
      "metadata": {
        "colab": {
          "base_uri": "https://localhost:8080/"
        },
        "id": "zPmr9kVepwjh",
        "outputId": "43550794-74dc-4513-8069-79b444b60c0c"
      },
      "execution_count": null,
      "outputs": [
        {
          "name": "stdout",
          "output_type": "stream",
          "text": [
            "1. 随机一个事件\n",
            "2. 自由聊天\n",
            "请选择一个选项: 1\n",
            "事件发生了！\n",
            "按任意键继续...\n",
            "1. 随机一个事件\n",
            "2. 自由聊天\n",
            "请选择一个选项: 2\n",
            "聊天：\n",
            "\n",
            "False\n",
            "聊天：Quit\n",
            "Quit\n",
            "False\n",
            "聊天：Quit\n",
            "Quit\n",
            "False\n",
            "聊天：quit\n",
            "quit\n",
            "True\n",
            "1. 随机一个事件\n",
            "2. 自由聊天\n",
            "请选择一个选项: quit\n"
          ]
        }
      ]
    }
  ]
}