{
  "nbformat": 4,
  "nbformat_minor": 0,
  "metadata": {
    "colab": {
      "provenance": [],
      "authorship_tag": "ABX9TyOwPgsspWG398x/IvaYiUkN",
      "include_colab_link": true
    },
    "kernelspec": {
      "name": "python3",
      "display_name": "Python 3"
    },
    "language_info": {
      "name": "python"
    },
    "widgets": {
      "application/vnd.jupyter.widget-state+json": {
        "68697cb8df3e4997b744a8d011084320": {
          "model_module": "@jupyter-widgets/controls",
          "model_name": "HBoxModel",
          "model_module_version": "1.5.0",
          "state": {
            "_dom_classes": [],
            "_model_module": "@jupyter-widgets/controls",
            "_model_module_version": "1.5.0",
            "_model_name": "HBoxModel",
            "_view_count": null,
            "_view_module": "@jupyter-widgets/controls",
            "_view_module_version": "1.5.0",
            "_view_name": "HBoxView",
            "box_style": "",
            "children": [
              "IPY_MODEL_8b0e3053135a4e5f8d9075596499df39",
              "IPY_MODEL_e608cc0c59ca48d8868ebbeb38ed546a",
              "IPY_MODEL_e8a44ee97c5146c2bb2b929637fcf984"
            ],
            "layout": "IPY_MODEL_04499f098ccf4925ad76e33c01bb1f63"
          }
        },
        "8b0e3053135a4e5f8d9075596499df39": {
          "model_module": "@jupyter-widgets/controls",
          "model_name": "HTMLModel",
          "model_module_version": "1.5.0",
          "state": {
            "_dom_classes": [],
            "_model_module": "@jupyter-widgets/controls",
            "_model_module_version": "1.5.0",
            "_model_name": "HTMLModel",
            "_view_count": null,
            "_view_module": "@jupyter-widgets/controls",
            "_view_module_version": "1.5.0",
            "_view_name": "HTMLView",
            "description": "",
            "description_tooltip": null,
            "layout": "IPY_MODEL_c2bae9c91eb24326bc562c1146b735e5",
            "placeholder": "​",
            "style": "IPY_MODEL_31c355431ef64191833c099988693341",
            "value": "Downloading (…)okenizer_config.json: 100%"
          }
        },
        "e608cc0c59ca48d8868ebbeb38ed546a": {
          "model_module": "@jupyter-widgets/controls",
          "model_name": "FloatProgressModel",
          "model_module_version": "1.5.0",
          "state": {
            "_dom_classes": [],
            "_model_module": "@jupyter-widgets/controls",
            "_model_module_version": "1.5.0",
            "_model_name": "FloatProgressModel",
            "_view_count": null,
            "_view_module": "@jupyter-widgets/controls",
            "_view_module_version": "1.5.0",
            "_view_name": "ProgressView",
            "bar_style": "success",
            "description": "",
            "description_tooltip": null,
            "layout": "IPY_MODEL_4c6022dc8cc74b35b8ae0fbffde160ef",
            "max": 367,
            "min": 0,
            "orientation": "horizontal",
            "style": "IPY_MODEL_35979638b4444c8ba6f5ef6b6432a10d",
            "value": 367
          }
        },
        "e8a44ee97c5146c2bb2b929637fcf984": {
          "model_module": "@jupyter-widgets/controls",
          "model_name": "HTMLModel",
          "model_module_version": "1.5.0",
          "state": {
            "_dom_classes": [],
            "_model_module": "@jupyter-widgets/controls",
            "_model_module_version": "1.5.0",
            "_model_name": "HTMLModel",
            "_view_count": null,
            "_view_module": "@jupyter-widgets/controls",
            "_view_module_version": "1.5.0",
            "_view_name": "HTMLView",
            "description": "",
            "description_tooltip": null,
            "layout": "IPY_MODEL_086a45b4f78c4f3eb99c3c9c5e2a25b2",
            "placeholder": "​",
            "style": "IPY_MODEL_2af1d2d3908e4427838b16aa3284a19d",
            "value": " 367/367 [00:00&lt;00:00, 7.88kB/s]"
          }
        },
        "04499f098ccf4925ad76e33c01bb1f63": {
          "model_module": "@jupyter-widgets/base",
          "model_name": "LayoutModel",
          "model_module_version": "1.2.0",
          "state": {
            "_model_module": "@jupyter-widgets/base",
            "_model_module_version": "1.2.0",
            "_model_name": "LayoutModel",
            "_view_count": null,
            "_view_module": "@jupyter-widgets/base",
            "_view_module_version": "1.2.0",
            "_view_name": "LayoutView",
            "align_content": null,
            "align_items": null,
            "align_self": null,
            "border": null,
            "bottom": null,
            "display": null,
            "flex": null,
            "flex_flow": null,
            "grid_area": null,
            "grid_auto_columns": null,
            "grid_auto_flow": null,
            "grid_auto_rows": null,
            "grid_column": null,
            "grid_gap": null,
            "grid_row": null,
            "grid_template_areas": null,
            "grid_template_columns": null,
            "grid_template_rows": null,
            "height": null,
            "justify_content": null,
            "justify_items": null,
            "left": null,
            "margin": null,
            "max_height": null,
            "max_width": null,
            "min_height": null,
            "min_width": null,
            "object_fit": null,
            "object_position": null,
            "order": null,
            "overflow": null,
            "overflow_x": null,
            "overflow_y": null,
            "padding": null,
            "right": null,
            "top": null,
            "visibility": null,
            "width": null
          }
        },
        "c2bae9c91eb24326bc562c1146b735e5": {
          "model_module": "@jupyter-widgets/base",
          "model_name": "LayoutModel",
          "model_module_version": "1.2.0",
          "state": {
            "_model_module": "@jupyter-widgets/base",
            "_model_module_version": "1.2.0",
            "_model_name": "LayoutModel",
            "_view_count": null,
            "_view_module": "@jupyter-widgets/base",
            "_view_module_version": "1.2.0",
            "_view_name": "LayoutView",
            "align_content": null,
            "align_items": null,
            "align_self": null,
            "border": null,
            "bottom": null,
            "display": null,
            "flex": null,
            "flex_flow": null,
            "grid_area": null,
            "grid_auto_columns": null,
            "grid_auto_flow": null,
            "grid_auto_rows": null,
            "grid_column": null,
            "grid_gap": null,
            "grid_row": null,
            "grid_template_areas": null,
            "grid_template_columns": null,
            "grid_template_rows": null,
            "height": null,
            "justify_content": null,
            "justify_items": null,
            "left": null,
            "margin": null,
            "max_height": null,
            "max_width": null,
            "min_height": null,
            "min_width": null,
            "object_fit": null,
            "object_position": null,
            "order": null,
            "overflow": null,
            "overflow_x": null,
            "overflow_y": null,
            "padding": null,
            "right": null,
            "top": null,
            "visibility": null,
            "width": null
          }
        },
        "31c355431ef64191833c099988693341": {
          "model_module": "@jupyter-widgets/controls",
          "model_name": "DescriptionStyleModel",
          "model_module_version": "1.5.0",
          "state": {
            "_model_module": "@jupyter-widgets/controls",
            "_model_module_version": "1.5.0",
            "_model_name": "DescriptionStyleModel",
            "_view_count": null,
            "_view_module": "@jupyter-widgets/base",
            "_view_module_version": "1.2.0",
            "_view_name": "StyleView",
            "description_width": ""
          }
        },
        "4c6022dc8cc74b35b8ae0fbffde160ef": {
          "model_module": "@jupyter-widgets/base",
          "model_name": "LayoutModel",
          "model_module_version": "1.2.0",
          "state": {
            "_model_module": "@jupyter-widgets/base",
            "_model_module_version": "1.2.0",
            "_model_name": "LayoutModel",
            "_view_count": null,
            "_view_module": "@jupyter-widgets/base",
            "_view_module_version": "1.2.0",
            "_view_name": "LayoutView",
            "align_content": null,
            "align_items": null,
            "align_self": null,
            "border": null,
            "bottom": null,
            "display": null,
            "flex": null,
            "flex_flow": null,
            "grid_area": null,
            "grid_auto_columns": null,
            "grid_auto_flow": null,
            "grid_auto_rows": null,
            "grid_column": null,
            "grid_gap": null,
            "grid_row": null,
            "grid_template_areas": null,
            "grid_template_columns": null,
            "grid_template_rows": null,
            "height": null,
            "justify_content": null,
            "justify_items": null,
            "left": null,
            "margin": null,
            "max_height": null,
            "max_width": null,
            "min_height": null,
            "min_width": null,
            "object_fit": null,
            "object_position": null,
            "order": null,
            "overflow": null,
            "overflow_x": null,
            "overflow_y": null,
            "padding": null,
            "right": null,
            "top": null,
            "visibility": null,
            "width": null
          }
        },
        "35979638b4444c8ba6f5ef6b6432a10d": {
          "model_module": "@jupyter-widgets/controls",
          "model_name": "ProgressStyleModel",
          "model_module_version": "1.5.0",
          "state": {
            "_model_module": "@jupyter-widgets/controls",
            "_model_module_version": "1.5.0",
            "_model_name": "ProgressStyleModel",
            "_view_count": null,
            "_view_module": "@jupyter-widgets/base",
            "_view_module_version": "1.2.0",
            "_view_name": "StyleView",
            "bar_color": null,
            "description_width": ""
          }
        },
        "086a45b4f78c4f3eb99c3c9c5e2a25b2": {
          "model_module": "@jupyter-widgets/base",
          "model_name": "LayoutModel",
          "model_module_version": "1.2.0",
          "state": {
            "_model_module": "@jupyter-widgets/base",
            "_model_module_version": "1.2.0",
            "_model_name": "LayoutModel",
            "_view_count": null,
            "_view_module": "@jupyter-widgets/base",
            "_view_module_version": "1.2.0",
            "_view_name": "LayoutView",
            "align_content": null,
            "align_items": null,
            "align_self": null,
            "border": null,
            "bottom": null,
            "display": null,
            "flex": null,
            "flex_flow": null,
            "grid_area": null,
            "grid_auto_columns": null,
            "grid_auto_flow": null,
            "grid_auto_rows": null,
            "grid_column": null,
            "grid_gap": null,
            "grid_row": null,
            "grid_template_areas": null,
            "grid_template_columns": null,
            "grid_template_rows": null,
            "height": null,
            "justify_content": null,
            "justify_items": null,
            "left": null,
            "margin": null,
            "max_height": null,
            "max_width": null,
            "min_height": null,
            "min_width": null,
            "object_fit": null,
            "object_position": null,
            "order": null,
            "overflow": null,
            "overflow_x": null,
            "overflow_y": null,
            "padding": null,
            "right": null,
            "top": null,
            "visibility": null,
            "width": null
          }
        },
        "2af1d2d3908e4427838b16aa3284a19d": {
          "model_module": "@jupyter-widgets/controls",
          "model_name": "DescriptionStyleModel",
          "model_module_version": "1.5.0",
          "state": {
            "_model_module": "@jupyter-widgets/controls",
            "_model_module_version": "1.5.0",
            "_model_name": "DescriptionStyleModel",
            "_view_count": null,
            "_view_module": "@jupyter-widgets/base",
            "_view_module_version": "1.2.0",
            "_view_name": "StyleView",
            "description_width": ""
          }
        },
        "de0fdef747ca45cf8605e029bbb459e7": {
          "model_module": "@jupyter-widgets/controls",
          "model_name": "HBoxModel",
          "model_module_version": "1.5.0",
          "state": {
            "_dom_classes": [],
            "_model_module": "@jupyter-widgets/controls",
            "_model_module_version": "1.5.0",
            "_model_name": "HBoxModel",
            "_view_count": null,
            "_view_module": "@jupyter-widgets/controls",
            "_view_module_version": "1.5.0",
            "_view_name": "HBoxView",
            "box_style": "",
            "children": [
              "IPY_MODEL_f772fd0ae2fd4cb999c87b655fb2d3f4",
              "IPY_MODEL_836b591a47c245e28d6dc207dde19dcd",
              "IPY_MODEL_3bdf1d74385a42159c7e504e45aca868"
            ],
            "layout": "IPY_MODEL_ce20f6c9ba6e4f419c7d746c6abda50b"
          }
        },
        "f772fd0ae2fd4cb999c87b655fb2d3f4": {
          "model_module": "@jupyter-widgets/controls",
          "model_name": "HTMLModel",
          "model_module_version": "1.5.0",
          "state": {
            "_dom_classes": [],
            "_model_module": "@jupyter-widgets/controls",
            "_model_module_version": "1.5.0",
            "_model_name": "HTMLModel",
            "_view_count": null,
            "_view_module": "@jupyter-widgets/controls",
            "_view_module_version": "1.5.0",
            "_view_name": "HTMLView",
            "description": "",
            "description_tooltip": null,
            "layout": "IPY_MODEL_926521f0c40d45d698c40f84ea6a037b",
            "placeholder": "​",
            "style": "IPY_MODEL_6d94c105e8e24914aac169061c2c717e",
            "value": "Downloading (…)solve/main/vocab.txt: 100%"
          }
        },
        "836b591a47c245e28d6dc207dde19dcd": {
          "model_module": "@jupyter-widgets/controls",
          "model_name": "FloatProgressModel",
          "model_module_version": "1.5.0",
          "state": {
            "_dom_classes": [],
            "_model_module": "@jupyter-widgets/controls",
            "_model_module_version": "1.5.0",
            "_model_name": "FloatProgressModel",
            "_view_count": null,
            "_view_module": "@jupyter-widgets/controls",
            "_view_module_version": "1.5.0",
            "_view_name": "ProgressView",
            "bar_style": "success",
            "description": "",
            "description_tooltip": null,
            "layout": "IPY_MODEL_1ab88eed459245cda0abf14b976f934a",
            "max": 109540,
            "min": 0,
            "orientation": "horizontal",
            "style": "IPY_MODEL_50fd4993bee043ff985fe71b468b188f",
            "value": 109540
          }
        },
        "3bdf1d74385a42159c7e504e45aca868": {
          "model_module": "@jupyter-widgets/controls",
          "model_name": "HTMLModel",
          "model_module_version": "1.5.0",
          "state": {
            "_dom_classes": [],
            "_model_module": "@jupyter-widgets/controls",
            "_model_module_version": "1.5.0",
            "_model_name": "HTMLModel",
            "_view_count": null,
            "_view_module": "@jupyter-widgets/controls",
            "_view_module_version": "1.5.0",
            "_view_name": "HTMLView",
            "description": "",
            "description_tooltip": null,
            "layout": "IPY_MODEL_c39c6ec2ad6a47f5928b48f80695a00c",
            "placeholder": "​",
            "style": "IPY_MODEL_fa9bbc6d453e43c2a89f8d2bfdb3d971",
            "value": " 110k/110k [00:00&lt;00:00, 1.85MB/s]"
          }
        },
        "ce20f6c9ba6e4f419c7d746c6abda50b": {
          "model_module": "@jupyter-widgets/base",
          "model_name": "LayoutModel",
          "model_module_version": "1.2.0",
          "state": {
            "_model_module": "@jupyter-widgets/base",
            "_model_module_version": "1.2.0",
            "_model_name": "LayoutModel",
            "_view_count": null,
            "_view_module": "@jupyter-widgets/base",
            "_view_module_version": "1.2.0",
            "_view_name": "LayoutView",
            "align_content": null,
            "align_items": null,
            "align_self": null,
            "border": null,
            "bottom": null,
            "display": null,
            "flex": null,
            "flex_flow": null,
            "grid_area": null,
            "grid_auto_columns": null,
            "grid_auto_flow": null,
            "grid_auto_rows": null,
            "grid_column": null,
            "grid_gap": null,
            "grid_row": null,
            "grid_template_areas": null,
            "grid_template_columns": null,
            "grid_template_rows": null,
            "height": null,
            "justify_content": null,
            "justify_items": null,
            "left": null,
            "margin": null,
            "max_height": null,
            "max_width": null,
            "min_height": null,
            "min_width": null,
            "object_fit": null,
            "object_position": null,
            "order": null,
            "overflow": null,
            "overflow_x": null,
            "overflow_y": null,
            "padding": null,
            "right": null,
            "top": null,
            "visibility": null,
            "width": null
          }
        },
        "926521f0c40d45d698c40f84ea6a037b": {
          "model_module": "@jupyter-widgets/base",
          "model_name": "LayoutModel",
          "model_module_version": "1.2.0",
          "state": {
            "_model_module": "@jupyter-widgets/base",
            "_model_module_version": "1.2.0",
            "_model_name": "LayoutModel",
            "_view_count": null,
            "_view_module": "@jupyter-widgets/base",
            "_view_module_version": "1.2.0",
            "_view_name": "LayoutView",
            "align_content": null,
            "align_items": null,
            "align_self": null,
            "border": null,
            "bottom": null,
            "display": null,
            "flex": null,
            "flex_flow": null,
            "grid_area": null,
            "grid_auto_columns": null,
            "grid_auto_flow": null,
            "grid_auto_rows": null,
            "grid_column": null,
            "grid_gap": null,
            "grid_row": null,
            "grid_template_areas": null,
            "grid_template_columns": null,
            "grid_template_rows": null,
            "height": null,
            "justify_content": null,
            "justify_items": null,
            "left": null,
            "margin": null,
            "max_height": null,
            "max_width": null,
            "min_height": null,
            "min_width": null,
            "object_fit": null,
            "object_position": null,
            "order": null,
            "overflow": null,
            "overflow_x": null,
            "overflow_y": null,
            "padding": null,
            "right": null,
            "top": null,
            "visibility": null,
            "width": null
          }
        },
        "6d94c105e8e24914aac169061c2c717e": {
          "model_module": "@jupyter-widgets/controls",
          "model_name": "DescriptionStyleModel",
          "model_module_version": "1.5.0",
          "state": {
            "_model_module": "@jupyter-widgets/controls",
            "_model_module_version": "1.5.0",
            "_model_name": "DescriptionStyleModel",
            "_view_count": null,
            "_view_module": "@jupyter-widgets/base",
            "_view_module_version": "1.2.0",
            "_view_name": "StyleView",
            "description_width": ""
          }
        },
        "1ab88eed459245cda0abf14b976f934a": {
          "model_module": "@jupyter-widgets/base",
          "model_name": "LayoutModel",
          "model_module_version": "1.2.0",
          "state": {
            "_model_module": "@jupyter-widgets/base",
            "_model_module_version": "1.2.0",
            "_model_name": "LayoutModel",
            "_view_count": null,
            "_view_module": "@jupyter-widgets/base",
            "_view_module_version": "1.2.0",
            "_view_name": "LayoutView",
            "align_content": null,
            "align_items": null,
            "align_self": null,
            "border": null,
            "bottom": null,
            "display": null,
            "flex": null,
            "flex_flow": null,
            "grid_area": null,
            "grid_auto_columns": null,
            "grid_auto_flow": null,
            "grid_auto_rows": null,
            "grid_column": null,
            "grid_gap": null,
            "grid_row": null,
            "grid_template_areas": null,
            "grid_template_columns": null,
            "grid_template_rows": null,
            "height": null,
            "justify_content": null,
            "justify_items": null,
            "left": null,
            "margin": null,
            "max_height": null,
            "max_width": null,
            "min_height": null,
            "min_width": null,
            "object_fit": null,
            "object_position": null,
            "order": null,
            "overflow": null,
            "overflow_x": null,
            "overflow_y": null,
            "padding": null,
            "right": null,
            "top": null,
            "visibility": null,
            "width": null
          }
        },
        "50fd4993bee043ff985fe71b468b188f": {
          "model_module": "@jupyter-widgets/controls",
          "model_name": "ProgressStyleModel",
          "model_module_version": "1.5.0",
          "state": {
            "_model_module": "@jupyter-widgets/controls",
            "_model_module_version": "1.5.0",
            "_model_name": "ProgressStyleModel",
            "_view_count": null,
            "_view_module": "@jupyter-widgets/base",
            "_view_module_version": "1.2.0",
            "_view_name": "StyleView",
            "bar_color": null,
            "description_width": ""
          }
        },
        "c39c6ec2ad6a47f5928b48f80695a00c": {
          "model_module": "@jupyter-widgets/base",
          "model_name": "LayoutModel",
          "model_module_version": "1.2.0",
          "state": {
            "_model_module": "@jupyter-widgets/base",
            "_model_module_version": "1.2.0",
            "_model_name": "LayoutModel",
            "_view_count": null,
            "_view_module": "@jupyter-widgets/base",
            "_view_module_version": "1.2.0",
            "_view_name": "LayoutView",
            "align_content": null,
            "align_items": null,
            "align_self": null,
            "border": null,
            "bottom": null,
            "display": null,
            "flex": null,
            "flex_flow": null,
            "grid_area": null,
            "grid_auto_columns": null,
            "grid_auto_flow": null,
            "grid_auto_rows": null,
            "grid_column": null,
            "grid_gap": null,
            "grid_row": null,
            "grid_template_areas": null,
            "grid_template_columns": null,
            "grid_template_rows": null,
            "height": null,
            "justify_content": null,
            "justify_items": null,
            "left": null,
            "margin": null,
            "max_height": null,
            "max_width": null,
            "min_height": null,
            "min_width": null,
            "object_fit": null,
            "object_position": null,
            "order": null,
            "overflow": null,
            "overflow_x": null,
            "overflow_y": null,
            "padding": null,
            "right": null,
            "top": null,
            "visibility": null,
            "width": null
          }
        },
        "fa9bbc6d453e43c2a89f8d2bfdb3d971": {
          "model_module": "@jupyter-widgets/controls",
          "model_name": "DescriptionStyleModel",
          "model_module_version": "1.5.0",
          "state": {
            "_model_module": "@jupyter-widgets/controls",
            "_model_module_version": "1.5.0",
            "_model_name": "DescriptionStyleModel",
            "_view_count": null,
            "_view_module": "@jupyter-widgets/base",
            "_view_module_version": "1.2.0",
            "_view_name": "StyleView",
            "description_width": ""
          }
        },
        "ffc0a47b8ce14b9984498172a46fa322": {
          "model_module": "@jupyter-widgets/controls",
          "model_name": "HBoxModel",
          "model_module_version": "1.5.0",
          "state": {
            "_dom_classes": [],
            "_model_module": "@jupyter-widgets/controls",
            "_model_module_version": "1.5.0",
            "_model_name": "HBoxModel",
            "_view_count": null,
            "_view_module": "@jupyter-widgets/controls",
            "_view_module_version": "1.5.0",
            "_view_name": "HBoxView",
            "box_style": "",
            "children": [
              "IPY_MODEL_6f2260e4651d43e8811eece69240dc30",
              "IPY_MODEL_c27cb0459f264e7694bd6d9acb3a3874",
              "IPY_MODEL_17505a2963f8469c9def4ed123edddc7"
            ],
            "layout": "IPY_MODEL_3d231930bedb48c2ab806837b4a552b7"
          }
        },
        "6f2260e4651d43e8811eece69240dc30": {
          "model_module": "@jupyter-widgets/controls",
          "model_name": "HTMLModel",
          "model_module_version": "1.5.0",
          "state": {
            "_dom_classes": [],
            "_model_module": "@jupyter-widgets/controls",
            "_model_module_version": "1.5.0",
            "_model_name": "HTMLModel",
            "_view_count": null,
            "_view_module": "@jupyter-widgets/controls",
            "_view_module_version": "1.5.0",
            "_view_name": "HTMLView",
            "description": "",
            "description_tooltip": null,
            "layout": "IPY_MODEL_43ea152d8b0b4f3abae916702648f315",
            "placeholder": "​",
            "style": "IPY_MODEL_41676a3cee2f4141aa69ffe90b42f4d6",
            "value": "Downloading (…)/main/tokenizer.json: 100%"
          }
        },
        "c27cb0459f264e7694bd6d9acb3a3874": {
          "model_module": "@jupyter-widgets/controls",
          "model_name": "FloatProgressModel",
          "model_module_version": "1.5.0",
          "state": {
            "_dom_classes": [],
            "_model_module": "@jupyter-widgets/controls",
            "_model_module_version": "1.5.0",
            "_model_name": "FloatProgressModel",
            "_view_count": null,
            "_view_module": "@jupyter-widgets/controls",
            "_view_module_version": "1.5.0",
            "_view_name": "ProgressView",
            "bar_style": "success",
            "description": "",
            "description_tooltip": null,
            "layout": "IPY_MODEL_20250a663b7d496b847051a83580cd7a",
            "max": 439125,
            "min": 0,
            "orientation": "horizontal",
            "style": "IPY_MODEL_a28a7eca2171485f8359e29321583671",
            "value": 439125
          }
        },
        "17505a2963f8469c9def4ed123edddc7": {
          "model_module": "@jupyter-widgets/controls",
          "model_name": "HTMLModel",
          "model_module_version": "1.5.0",
          "state": {
            "_dom_classes": [],
            "_model_module": "@jupyter-widgets/controls",
            "_model_module_version": "1.5.0",
            "_model_name": "HTMLModel",
            "_view_count": null,
            "_view_module": "@jupyter-widgets/controls",
            "_view_module_version": "1.5.0",
            "_view_name": "HTMLView",
            "description": "",
            "description_tooltip": null,
            "layout": "IPY_MODEL_329582e2bd68462f9e48f24b6da8db61",
            "placeholder": "​",
            "style": "IPY_MODEL_d431e07dd2a94d4e8f4a107741ff0242",
            "value": " 439k/439k [00:00&lt;00:00, 3.37MB/s]"
          }
        },
        "3d231930bedb48c2ab806837b4a552b7": {
          "model_module": "@jupyter-widgets/base",
          "model_name": "LayoutModel",
          "model_module_version": "1.2.0",
          "state": {
            "_model_module": "@jupyter-widgets/base",
            "_model_module_version": "1.2.0",
            "_model_name": "LayoutModel",
            "_view_count": null,
            "_view_module": "@jupyter-widgets/base",
            "_view_module_version": "1.2.0",
            "_view_name": "LayoutView",
            "align_content": null,
            "align_items": null,
            "align_self": null,
            "border": null,
            "bottom": null,
            "display": null,
            "flex": null,
            "flex_flow": null,
            "grid_area": null,
            "grid_auto_columns": null,
            "grid_auto_flow": null,
            "grid_auto_rows": null,
            "grid_column": null,
            "grid_gap": null,
            "grid_row": null,
            "grid_template_areas": null,
            "grid_template_columns": null,
            "grid_template_rows": null,
            "height": null,
            "justify_content": null,
            "justify_items": null,
            "left": null,
            "margin": null,
            "max_height": null,
            "max_width": null,
            "min_height": null,
            "min_width": null,
            "object_fit": null,
            "object_position": null,
            "order": null,
            "overflow": null,
            "overflow_x": null,
            "overflow_y": null,
            "padding": null,
            "right": null,
            "top": null,
            "visibility": null,
            "width": null
          }
        },
        "43ea152d8b0b4f3abae916702648f315": {
          "model_module": "@jupyter-widgets/base",
          "model_name": "LayoutModel",
          "model_module_version": "1.2.0",
          "state": {
            "_model_module": "@jupyter-widgets/base",
            "_model_module_version": "1.2.0",
            "_model_name": "LayoutModel",
            "_view_count": null,
            "_view_module": "@jupyter-widgets/base",
            "_view_module_version": "1.2.0",
            "_view_name": "LayoutView",
            "align_content": null,
            "align_items": null,
            "align_self": null,
            "border": null,
            "bottom": null,
            "display": null,
            "flex": null,
            "flex_flow": null,
            "grid_area": null,
            "grid_auto_columns": null,
            "grid_auto_flow": null,
            "grid_auto_rows": null,
            "grid_column": null,
            "grid_gap": null,
            "grid_row": null,
            "grid_template_areas": null,
            "grid_template_columns": null,
            "grid_template_rows": null,
            "height": null,
            "justify_content": null,
            "justify_items": null,
            "left": null,
            "margin": null,
            "max_height": null,
            "max_width": null,
            "min_height": null,
            "min_width": null,
            "object_fit": null,
            "object_position": null,
            "order": null,
            "overflow": null,
            "overflow_x": null,
            "overflow_y": null,
            "padding": null,
            "right": null,
            "top": null,
            "visibility": null,
            "width": null
          }
        },
        "41676a3cee2f4141aa69ffe90b42f4d6": {
          "model_module": "@jupyter-widgets/controls",
          "model_name": "DescriptionStyleModel",
          "model_module_version": "1.5.0",
          "state": {
            "_model_module": "@jupyter-widgets/controls",
            "_model_module_version": "1.5.0",
            "_model_name": "DescriptionStyleModel",
            "_view_count": null,
            "_view_module": "@jupyter-widgets/base",
            "_view_module_version": "1.2.0",
            "_view_name": "StyleView",
            "description_width": ""
          }
        },
        "20250a663b7d496b847051a83580cd7a": {
          "model_module": "@jupyter-widgets/base",
          "model_name": "LayoutModel",
          "model_module_version": "1.2.0",
          "state": {
            "_model_module": "@jupyter-widgets/base",
            "_model_module_version": "1.2.0",
            "_model_name": "LayoutModel",
            "_view_count": null,
            "_view_module": "@jupyter-widgets/base",
            "_view_module_version": "1.2.0",
            "_view_name": "LayoutView",
            "align_content": null,
            "align_items": null,
            "align_self": null,
            "border": null,
            "bottom": null,
            "display": null,
            "flex": null,
            "flex_flow": null,
            "grid_area": null,
            "grid_auto_columns": null,
            "grid_auto_flow": null,
            "grid_auto_rows": null,
            "grid_column": null,
            "grid_gap": null,
            "grid_row": null,
            "grid_template_areas": null,
            "grid_template_columns": null,
            "grid_template_rows": null,
            "height": null,
            "justify_content": null,
            "justify_items": null,
            "left": null,
            "margin": null,
            "max_height": null,
            "max_width": null,
            "min_height": null,
            "min_width": null,
            "object_fit": null,
            "object_position": null,
            "order": null,
            "overflow": null,
            "overflow_x": null,
            "overflow_y": null,
            "padding": null,
            "right": null,
            "top": null,
            "visibility": null,
            "width": null
          }
        },
        "a28a7eca2171485f8359e29321583671": {
          "model_module": "@jupyter-widgets/controls",
          "model_name": "ProgressStyleModel",
          "model_module_version": "1.5.0",
          "state": {
            "_model_module": "@jupyter-widgets/controls",
            "_model_module_version": "1.5.0",
            "_model_name": "ProgressStyleModel",
            "_view_count": null,
            "_view_module": "@jupyter-widgets/base",
            "_view_module_version": "1.2.0",
            "_view_name": "StyleView",
            "bar_color": null,
            "description_width": ""
          }
        },
        "329582e2bd68462f9e48f24b6da8db61": {
          "model_module": "@jupyter-widgets/base",
          "model_name": "LayoutModel",
          "model_module_version": "1.2.0",
          "state": {
            "_model_module": "@jupyter-widgets/base",
            "_model_module_version": "1.2.0",
            "_model_name": "LayoutModel",
            "_view_count": null,
            "_view_module": "@jupyter-widgets/base",
            "_view_module_version": "1.2.0",
            "_view_name": "LayoutView",
            "align_content": null,
            "align_items": null,
            "align_self": null,
            "border": null,
            "bottom": null,
            "display": null,
            "flex": null,
            "flex_flow": null,
            "grid_area": null,
            "grid_auto_columns": null,
            "grid_auto_flow": null,
            "grid_auto_rows": null,
            "grid_column": null,
            "grid_gap": null,
            "grid_row": null,
            "grid_template_areas": null,
            "grid_template_columns": null,
            "grid_template_rows": null,
            "height": null,
            "justify_content": null,
            "justify_items": null,
            "left": null,
            "margin": null,
            "max_height": null,
            "max_width": null,
            "min_height": null,
            "min_width": null,
            "object_fit": null,
            "object_position": null,
            "order": null,
            "overflow": null,
            "overflow_x": null,
            "overflow_y": null,
            "padding": null,
            "right": null,
            "top": null,
            "visibility": null,
            "width": null
          }
        },
        "d431e07dd2a94d4e8f4a107741ff0242": {
          "model_module": "@jupyter-widgets/controls",
          "model_name": "DescriptionStyleModel",
          "model_module_version": "1.5.0",
          "state": {
            "_model_module": "@jupyter-widgets/controls",
            "_model_module_version": "1.5.0",
            "_model_name": "DescriptionStyleModel",
            "_view_count": null,
            "_view_module": "@jupyter-widgets/base",
            "_view_module_version": "1.2.0",
            "_view_name": "StyleView",
            "description_width": ""
          }
        },
        "d12261cda74b47d1a31f5ad2e60f0420": {
          "model_module": "@jupyter-widgets/controls",
          "model_name": "HBoxModel",
          "model_module_version": "1.5.0",
          "state": {
            "_dom_classes": [],
            "_model_module": "@jupyter-widgets/controls",
            "_model_module_version": "1.5.0",
            "_model_name": "HBoxModel",
            "_view_count": null,
            "_view_module": "@jupyter-widgets/controls",
            "_view_module_version": "1.5.0",
            "_view_name": "HBoxView",
            "box_style": "",
            "children": [
              "IPY_MODEL_4094600778f946bfafed1e1ba0dc41ae",
              "IPY_MODEL_3200e2815fff4cd58373df701998bc12",
              "IPY_MODEL_bd23b811be6144168fe010aaad949247"
            ],
            "layout": "IPY_MODEL_591834e0ede34ffca259d37911e05de0"
          }
        },
        "4094600778f946bfafed1e1ba0dc41ae": {
          "model_module": "@jupyter-widgets/controls",
          "model_name": "HTMLModel",
          "model_module_version": "1.5.0",
          "state": {
            "_dom_classes": [],
            "_model_module": "@jupyter-widgets/controls",
            "_model_module_version": "1.5.0",
            "_model_name": "HTMLModel",
            "_view_count": null,
            "_view_module": "@jupyter-widgets/controls",
            "_view_module_version": "1.5.0",
            "_view_name": "HTMLView",
            "description": "",
            "description_tooltip": null,
            "layout": "IPY_MODEL_6fac0979d10a4e05a27beb712f9a4146",
            "placeholder": "​",
            "style": "IPY_MODEL_4cd66eb58e78468e98ea552eb3e57f31",
            "value": "Downloading (…)cial_tokens_map.json: 100%"
          }
        },
        "3200e2815fff4cd58373df701998bc12": {
          "model_module": "@jupyter-widgets/controls",
          "model_name": "FloatProgressModel",
          "model_module_version": "1.5.0",
          "state": {
            "_dom_classes": [],
            "_model_module": "@jupyter-widgets/controls",
            "_model_module_version": "1.5.0",
            "_model_name": "FloatProgressModel",
            "_view_count": null,
            "_view_module": "@jupyter-widgets/controls",
            "_view_module_version": "1.5.0",
            "_view_name": "ProgressView",
            "bar_style": "success",
            "description": "",
            "description_tooltip": null,
            "layout": "IPY_MODEL_7646ad4ae844460d9b8c21f63a40f48a",
            "max": 125,
            "min": 0,
            "orientation": "horizontal",
            "style": "IPY_MODEL_0c6d2cc79cd14d859edeb4145904a457",
            "value": 125
          }
        },
        "bd23b811be6144168fe010aaad949247": {
          "model_module": "@jupyter-widgets/controls",
          "model_name": "HTMLModel",
          "model_module_version": "1.5.0",
          "state": {
            "_dom_classes": [],
            "_model_module": "@jupyter-widgets/controls",
            "_model_module_version": "1.5.0",
            "_model_name": "HTMLModel",
            "_view_count": null,
            "_view_module": "@jupyter-widgets/controls",
            "_view_module_version": "1.5.0",
            "_view_name": "HTMLView",
            "description": "",
            "description_tooltip": null,
            "layout": "IPY_MODEL_4aa30e5e40f24a61af27c6581bfda0d5",
            "placeholder": "​",
            "style": "IPY_MODEL_913a183e76314f7e9523171b99d65b72",
            "value": " 125/125 [00:00&lt;00:00, 6.84kB/s]"
          }
        },
        "591834e0ede34ffca259d37911e05de0": {
          "model_module": "@jupyter-widgets/base",
          "model_name": "LayoutModel",
          "model_module_version": "1.2.0",
          "state": {
            "_model_module": "@jupyter-widgets/base",
            "_model_module_version": "1.2.0",
            "_model_name": "LayoutModel",
            "_view_count": null,
            "_view_module": "@jupyter-widgets/base",
            "_view_module_version": "1.2.0",
            "_view_name": "LayoutView",
            "align_content": null,
            "align_items": null,
            "align_self": null,
            "border": null,
            "bottom": null,
            "display": null,
            "flex": null,
            "flex_flow": null,
            "grid_area": null,
            "grid_auto_columns": null,
            "grid_auto_flow": null,
            "grid_auto_rows": null,
            "grid_column": null,
            "grid_gap": null,
            "grid_row": null,
            "grid_template_areas": null,
            "grid_template_columns": null,
            "grid_template_rows": null,
            "height": null,
            "justify_content": null,
            "justify_items": null,
            "left": null,
            "margin": null,
            "max_height": null,
            "max_width": null,
            "min_height": null,
            "min_width": null,
            "object_fit": null,
            "object_position": null,
            "order": null,
            "overflow": null,
            "overflow_x": null,
            "overflow_y": null,
            "padding": null,
            "right": null,
            "top": null,
            "visibility": null,
            "width": null
          }
        },
        "6fac0979d10a4e05a27beb712f9a4146": {
          "model_module": "@jupyter-widgets/base",
          "model_name": "LayoutModel",
          "model_module_version": "1.2.0",
          "state": {
            "_model_module": "@jupyter-widgets/base",
            "_model_module_version": "1.2.0",
            "_model_name": "LayoutModel",
            "_view_count": null,
            "_view_module": "@jupyter-widgets/base",
            "_view_module_version": "1.2.0",
            "_view_name": "LayoutView",
            "align_content": null,
            "align_items": null,
            "align_self": null,
            "border": null,
            "bottom": null,
            "display": null,
            "flex": null,
            "flex_flow": null,
            "grid_area": null,
            "grid_auto_columns": null,
            "grid_auto_flow": null,
            "grid_auto_rows": null,
            "grid_column": null,
            "grid_gap": null,
            "grid_row": null,
            "grid_template_areas": null,
            "grid_template_columns": null,
            "grid_template_rows": null,
            "height": null,
            "justify_content": null,
            "justify_items": null,
            "left": null,
            "margin": null,
            "max_height": null,
            "max_width": null,
            "min_height": null,
            "min_width": null,
            "object_fit": null,
            "object_position": null,
            "order": null,
            "overflow": null,
            "overflow_x": null,
            "overflow_y": null,
            "padding": null,
            "right": null,
            "top": null,
            "visibility": null,
            "width": null
          }
        },
        "4cd66eb58e78468e98ea552eb3e57f31": {
          "model_module": "@jupyter-widgets/controls",
          "model_name": "DescriptionStyleModel",
          "model_module_version": "1.5.0",
          "state": {
            "_model_module": "@jupyter-widgets/controls",
            "_model_module_version": "1.5.0",
            "_model_name": "DescriptionStyleModel",
            "_view_count": null,
            "_view_module": "@jupyter-widgets/base",
            "_view_module_version": "1.2.0",
            "_view_name": "StyleView",
            "description_width": ""
          }
        },
        "7646ad4ae844460d9b8c21f63a40f48a": {
          "model_module": "@jupyter-widgets/base",
          "model_name": "LayoutModel",
          "model_module_version": "1.2.0",
          "state": {
            "_model_module": "@jupyter-widgets/base",
            "_model_module_version": "1.2.0",
            "_model_name": "LayoutModel",
            "_view_count": null,
            "_view_module": "@jupyter-widgets/base",
            "_view_module_version": "1.2.0",
            "_view_name": "LayoutView",
            "align_content": null,
            "align_items": null,
            "align_self": null,
            "border": null,
            "bottom": null,
            "display": null,
            "flex": null,
            "flex_flow": null,
            "grid_area": null,
            "grid_auto_columns": null,
            "grid_auto_flow": null,
            "grid_auto_rows": null,
            "grid_column": null,
            "grid_gap": null,
            "grid_row": null,
            "grid_template_areas": null,
            "grid_template_columns": null,
            "grid_template_rows": null,
            "height": null,
            "justify_content": null,
            "justify_items": null,
            "left": null,
            "margin": null,
            "max_height": null,
            "max_width": null,
            "min_height": null,
            "min_width": null,
            "object_fit": null,
            "object_position": null,
            "order": null,
            "overflow": null,
            "overflow_x": null,
            "overflow_y": null,
            "padding": null,
            "right": null,
            "top": null,
            "visibility": null,
            "width": null
          }
        },
        "0c6d2cc79cd14d859edeb4145904a457": {
          "model_module": "@jupyter-widgets/controls",
          "model_name": "ProgressStyleModel",
          "model_module_version": "1.5.0",
          "state": {
            "_model_module": "@jupyter-widgets/controls",
            "_model_module_version": "1.5.0",
            "_model_name": "ProgressStyleModel",
            "_view_count": null,
            "_view_module": "@jupyter-widgets/base",
            "_view_module_version": "1.2.0",
            "_view_name": "StyleView",
            "bar_color": null,
            "description_width": ""
          }
        },
        "4aa30e5e40f24a61af27c6581bfda0d5": {
          "model_module": "@jupyter-widgets/base",
          "model_name": "LayoutModel",
          "model_module_version": "1.2.0",
          "state": {
            "_model_module": "@jupyter-widgets/base",
            "_model_module_version": "1.2.0",
            "_model_name": "LayoutModel",
            "_view_count": null,
            "_view_module": "@jupyter-widgets/base",
            "_view_module_version": "1.2.0",
            "_view_name": "LayoutView",
            "align_content": null,
            "align_items": null,
            "align_self": null,
            "border": null,
            "bottom": null,
            "display": null,
            "flex": null,
            "flex_flow": null,
            "grid_area": null,
            "grid_auto_columns": null,
            "grid_auto_flow": null,
            "grid_auto_rows": null,
            "grid_column": null,
            "grid_gap": null,
            "grid_row": null,
            "grid_template_areas": null,
            "grid_template_columns": null,
            "grid_template_rows": null,
            "height": null,
            "justify_content": null,
            "justify_items": null,
            "left": null,
            "margin": null,
            "max_height": null,
            "max_width": null,
            "min_height": null,
            "min_width": null,
            "object_fit": null,
            "object_position": null,
            "order": null,
            "overflow": null,
            "overflow_x": null,
            "overflow_y": null,
            "padding": null,
            "right": null,
            "top": null,
            "visibility": null,
            "width": null
          }
        },
        "913a183e76314f7e9523171b99d65b72": {
          "model_module": "@jupyter-widgets/controls",
          "model_name": "DescriptionStyleModel",
          "model_module_version": "1.5.0",
          "state": {
            "_model_module": "@jupyter-widgets/controls",
            "_model_module_version": "1.5.0",
            "_model_name": "DescriptionStyleModel",
            "_view_count": null,
            "_view_module": "@jupyter-widgets/base",
            "_view_module_version": "1.2.0",
            "_view_name": "StyleView",
            "description_width": ""
          }
        },
        "12c7ce98fa4f4eb0abf5d8b4386b1505": {
          "model_module": "@jupyter-widgets/controls",
          "model_name": "HBoxModel",
          "model_module_version": "1.5.0",
          "state": {
            "_dom_classes": [],
            "_model_module": "@jupyter-widgets/controls",
            "_model_module_version": "1.5.0",
            "_model_name": "HBoxModel",
            "_view_count": null,
            "_view_module": "@jupyter-widgets/controls",
            "_view_module_version": "1.5.0",
            "_view_name": "HBoxView",
            "box_style": "",
            "children": [
              "IPY_MODEL_d8e11a9557a04bc4bf71f444a5ac9009",
              "IPY_MODEL_9d3e47abae674fd080e4b02fd2d1bcc5",
              "IPY_MODEL_d38afb74ef1f4d5b86978b9caaeec7f9"
            ],
            "layout": "IPY_MODEL_0982845d7748445b8e5d16dd77f3d77e"
          }
        },
        "d8e11a9557a04bc4bf71f444a5ac9009": {
          "model_module": "@jupyter-widgets/controls",
          "model_name": "HTMLModel",
          "model_module_version": "1.5.0",
          "state": {
            "_dom_classes": [],
            "_model_module": "@jupyter-widgets/controls",
            "_model_module_version": "1.5.0",
            "_model_name": "HTMLModel",
            "_view_count": null,
            "_view_module": "@jupyter-widgets/controls",
            "_view_module_version": "1.5.0",
            "_view_name": "HTMLView",
            "description": "",
            "description_tooltip": null,
            "layout": "IPY_MODEL_bea0f02a63134c029ce13fe178d7eb83",
            "placeholder": "​",
            "style": "IPY_MODEL_38e740f1cbbc432185da98d2131df66c",
            "value": "Downloading (…)lve/main/config.json: 100%"
          }
        },
        "9d3e47abae674fd080e4b02fd2d1bcc5": {
          "model_module": "@jupyter-widgets/controls",
          "model_name": "FloatProgressModel",
          "model_module_version": "1.5.0",
          "state": {
            "_dom_classes": [],
            "_model_module": "@jupyter-widgets/controls",
            "_model_module_version": "1.5.0",
            "_model_name": "FloatProgressModel",
            "_view_count": null,
            "_view_module": "@jupyter-widgets/controls",
            "_view_module_version": "1.5.0",
            "_view_name": "ProgressView",
            "bar_style": "success",
            "description": "",
            "description_tooltip": null,
            "layout": "IPY_MODEL_3bf5f912860c4a0fb61f9b203c4675d6",
            "max": 776,
            "min": 0,
            "orientation": "horizontal",
            "style": "IPY_MODEL_0fca62fe093c418fb95fe67c74f6e682",
            "value": 776
          }
        },
        "d38afb74ef1f4d5b86978b9caaeec7f9": {
          "model_module": "@jupyter-widgets/controls",
          "model_name": "HTMLModel",
          "model_module_version": "1.5.0",
          "state": {
            "_dom_classes": [],
            "_model_module": "@jupyter-widgets/controls",
            "_model_module_version": "1.5.0",
            "_model_name": "HTMLModel",
            "_view_count": null,
            "_view_module": "@jupyter-widgets/controls",
            "_view_module_version": "1.5.0",
            "_view_name": "HTMLView",
            "description": "",
            "description_tooltip": null,
            "layout": "IPY_MODEL_fa70a7a092994c4599efe5cc57936aef",
            "placeholder": "​",
            "style": "IPY_MODEL_559ee586b1734a968a56d0cbd4af9459",
            "value": " 776/776 [00:00&lt;00:00, 35.3kB/s]"
          }
        },
        "0982845d7748445b8e5d16dd77f3d77e": {
          "model_module": "@jupyter-widgets/base",
          "model_name": "LayoutModel",
          "model_module_version": "1.2.0",
          "state": {
            "_model_module": "@jupyter-widgets/base",
            "_model_module_version": "1.2.0",
            "_model_name": "LayoutModel",
            "_view_count": null,
            "_view_module": "@jupyter-widgets/base",
            "_view_module_version": "1.2.0",
            "_view_name": "LayoutView",
            "align_content": null,
            "align_items": null,
            "align_self": null,
            "border": null,
            "bottom": null,
            "display": null,
            "flex": null,
            "flex_flow": null,
            "grid_area": null,
            "grid_auto_columns": null,
            "grid_auto_flow": null,
            "grid_auto_rows": null,
            "grid_column": null,
            "grid_gap": null,
            "grid_row": null,
            "grid_template_areas": null,
            "grid_template_columns": null,
            "grid_template_rows": null,
            "height": null,
            "justify_content": null,
            "justify_items": null,
            "left": null,
            "margin": null,
            "max_height": null,
            "max_width": null,
            "min_height": null,
            "min_width": null,
            "object_fit": null,
            "object_position": null,
            "order": null,
            "overflow": null,
            "overflow_x": null,
            "overflow_y": null,
            "padding": null,
            "right": null,
            "top": null,
            "visibility": null,
            "width": null
          }
        },
        "bea0f02a63134c029ce13fe178d7eb83": {
          "model_module": "@jupyter-widgets/base",
          "model_name": "LayoutModel",
          "model_module_version": "1.2.0",
          "state": {
            "_model_module": "@jupyter-widgets/base",
            "_model_module_version": "1.2.0",
            "_model_name": "LayoutModel",
            "_view_count": null,
            "_view_module": "@jupyter-widgets/base",
            "_view_module_version": "1.2.0",
            "_view_name": "LayoutView",
            "align_content": null,
            "align_items": null,
            "align_self": null,
            "border": null,
            "bottom": null,
            "display": null,
            "flex": null,
            "flex_flow": null,
            "grid_area": null,
            "grid_auto_columns": null,
            "grid_auto_flow": null,
            "grid_auto_rows": null,
            "grid_column": null,
            "grid_gap": null,
            "grid_row": null,
            "grid_template_areas": null,
            "grid_template_columns": null,
            "grid_template_rows": null,
            "height": null,
            "justify_content": null,
            "justify_items": null,
            "left": null,
            "margin": null,
            "max_height": null,
            "max_width": null,
            "min_height": null,
            "min_width": null,
            "object_fit": null,
            "object_position": null,
            "order": null,
            "overflow": null,
            "overflow_x": null,
            "overflow_y": null,
            "padding": null,
            "right": null,
            "top": null,
            "visibility": null,
            "width": null
          }
        },
        "38e740f1cbbc432185da98d2131df66c": {
          "model_module": "@jupyter-widgets/controls",
          "model_name": "DescriptionStyleModel",
          "model_module_version": "1.5.0",
          "state": {
            "_model_module": "@jupyter-widgets/controls",
            "_model_module_version": "1.5.0",
            "_model_name": "DescriptionStyleModel",
            "_view_count": null,
            "_view_module": "@jupyter-widgets/base",
            "_view_module_version": "1.2.0",
            "_view_name": "StyleView",
            "description_width": ""
          }
        },
        "3bf5f912860c4a0fb61f9b203c4675d6": {
          "model_module": "@jupyter-widgets/base",
          "model_name": "LayoutModel",
          "model_module_version": "1.2.0",
          "state": {
            "_model_module": "@jupyter-widgets/base",
            "_model_module_version": "1.2.0",
            "_model_name": "LayoutModel",
            "_view_count": null,
            "_view_module": "@jupyter-widgets/base",
            "_view_module_version": "1.2.0",
            "_view_name": "LayoutView",
            "align_content": null,
            "align_items": null,
            "align_self": null,
            "border": null,
            "bottom": null,
            "display": null,
            "flex": null,
            "flex_flow": null,
            "grid_area": null,
            "grid_auto_columns": null,
            "grid_auto_flow": null,
            "grid_auto_rows": null,
            "grid_column": null,
            "grid_gap": null,
            "grid_row": null,
            "grid_template_areas": null,
            "grid_template_columns": null,
            "grid_template_rows": null,
            "height": null,
            "justify_content": null,
            "justify_items": null,
            "left": null,
            "margin": null,
            "max_height": null,
            "max_width": null,
            "min_height": null,
            "min_width": null,
            "object_fit": null,
            "object_position": null,
            "order": null,
            "overflow": null,
            "overflow_x": null,
            "overflow_y": null,
            "padding": null,
            "right": null,
            "top": null,
            "visibility": null,
            "width": null
          }
        },
        "0fca62fe093c418fb95fe67c74f6e682": {
          "model_module": "@jupyter-widgets/controls",
          "model_name": "ProgressStyleModel",
          "model_module_version": "1.5.0",
          "state": {
            "_model_module": "@jupyter-widgets/controls",
            "_model_module_version": "1.5.0",
            "_model_name": "ProgressStyleModel",
            "_view_count": null,
            "_view_module": "@jupyter-widgets/base",
            "_view_module_version": "1.2.0",
            "_view_name": "StyleView",
            "bar_color": null,
            "description_width": ""
          }
        },
        "fa70a7a092994c4599efe5cc57936aef": {
          "model_module": "@jupyter-widgets/base",
          "model_name": "LayoutModel",
          "model_module_version": "1.2.0",
          "state": {
            "_model_module": "@jupyter-widgets/base",
            "_model_module_version": "1.2.0",
            "_model_name": "LayoutModel",
            "_view_count": null,
            "_view_module": "@jupyter-widgets/base",
            "_view_module_version": "1.2.0",
            "_view_name": "LayoutView",
            "align_content": null,
            "align_items": null,
            "align_self": null,
            "border": null,
            "bottom": null,
            "display": null,
            "flex": null,
            "flex_flow": null,
            "grid_area": null,
            "grid_auto_columns": null,
            "grid_auto_flow": null,
            "grid_auto_rows": null,
            "grid_column": null,
            "grid_gap": null,
            "grid_row": null,
            "grid_template_areas": null,
            "grid_template_columns": null,
            "grid_template_rows": null,
            "height": null,
            "justify_content": null,
            "justify_items": null,
            "left": null,
            "margin": null,
            "max_height": null,
            "max_width": null,
            "min_height": null,
            "min_width": null,
            "object_fit": null,
            "object_position": null,
            "order": null,
            "overflow": null,
            "overflow_x": null,
            "overflow_y": null,
            "padding": null,
            "right": null,
            "top": null,
            "visibility": null,
            "width": null
          }
        },
        "559ee586b1734a968a56d0cbd4af9459": {
          "model_module": "@jupyter-widgets/controls",
          "model_name": "DescriptionStyleModel",
          "model_module_version": "1.5.0",
          "state": {
            "_model_module": "@jupyter-widgets/controls",
            "_model_module_version": "1.5.0",
            "_model_name": "DescriptionStyleModel",
            "_view_count": null,
            "_view_module": "@jupyter-widgets/base",
            "_view_module_version": "1.2.0",
            "_view_name": "StyleView",
            "description_width": ""
          }
        },
        "227a592ddc824070875234af3a8399de": {
          "model_module": "@jupyter-widgets/controls",
          "model_name": "HBoxModel",
          "model_module_version": "1.5.0",
          "state": {
            "_dom_classes": [],
            "_model_module": "@jupyter-widgets/controls",
            "_model_module_version": "1.5.0",
            "_model_name": "HBoxModel",
            "_view_count": null,
            "_view_module": "@jupyter-widgets/controls",
            "_view_module_version": "1.5.0",
            "_view_name": "HBoxView",
            "box_style": "",
            "children": [
              "IPY_MODEL_f52523a5738240d299c65e1a95756393",
              "IPY_MODEL_20c312a28bc442f9be97b021186a6ca4",
              "IPY_MODEL_0ab5003c48294884889f1c0ae923b5fd"
            ],
            "layout": "IPY_MODEL_542af24ef4064bbfa8a8576009ad5a2e"
          }
        },
        "f52523a5738240d299c65e1a95756393": {
          "model_module": "@jupyter-widgets/controls",
          "model_name": "HTMLModel",
          "model_module_version": "1.5.0",
          "state": {
            "_dom_classes": [],
            "_model_module": "@jupyter-widgets/controls",
            "_model_module_version": "1.5.0",
            "_model_name": "HTMLModel",
            "_view_count": null,
            "_view_module": "@jupyter-widgets/controls",
            "_view_module_version": "1.5.0",
            "_view_name": "HTMLView",
            "description": "",
            "description_tooltip": null,
            "layout": "IPY_MODEL_2978094e128e4678813e214740d724db",
            "placeholder": "​",
            "style": "IPY_MODEL_56c2ddfa3869469fae600eb6c0bab68a",
            "value": "Downloading model.safetensors: 100%"
          }
        },
        "20c312a28bc442f9be97b021186a6ca4": {
          "model_module": "@jupyter-widgets/controls",
          "model_name": "FloatProgressModel",
          "model_module_version": "1.5.0",
          "state": {
            "_dom_classes": [],
            "_model_module": "@jupyter-widgets/controls",
            "_model_module_version": "1.5.0",
            "_model_name": "FloatProgressModel",
            "_view_count": null,
            "_view_module": "@jupyter-widgets/controls",
            "_view_module_version": "1.5.0",
            "_view_name": "ProgressView",
            "bar_style": "success",
            "description": "",
            "description_tooltip": null,
            "layout": "IPY_MODEL_4ac2e50aa8c846baa88ec39385f343da",
            "max": 95827648,
            "min": 0,
            "orientation": "horizontal",
            "style": "IPY_MODEL_c58b2ba714834815a448969ba96af661",
            "value": 95827648
          }
        },
        "0ab5003c48294884889f1c0ae923b5fd": {
          "model_module": "@jupyter-widgets/controls",
          "model_name": "HTMLModel",
          "model_module_version": "1.5.0",
          "state": {
            "_dom_classes": [],
            "_model_module": "@jupyter-widgets/controls",
            "_model_module_version": "1.5.0",
            "_model_name": "HTMLModel",
            "_view_count": null,
            "_view_module": "@jupyter-widgets/controls",
            "_view_module_version": "1.5.0",
            "_view_name": "HTMLView",
            "description": "",
            "description_tooltip": null,
            "layout": "IPY_MODEL_09d30ff6bc664755bcbeaa5705c8163d",
            "placeholder": "​",
            "style": "IPY_MODEL_ee8c5fc056a648a598bc9f3d214229ed",
            "value": " 95.8M/95.8M [00:02&lt;00:00, 34.0MB/s]"
          }
        },
        "542af24ef4064bbfa8a8576009ad5a2e": {
          "model_module": "@jupyter-widgets/base",
          "model_name": "LayoutModel",
          "model_module_version": "1.2.0",
          "state": {
            "_model_module": "@jupyter-widgets/base",
            "_model_module_version": "1.2.0",
            "_model_name": "LayoutModel",
            "_view_count": null,
            "_view_module": "@jupyter-widgets/base",
            "_view_module_version": "1.2.0",
            "_view_name": "LayoutView",
            "align_content": null,
            "align_items": null,
            "align_self": null,
            "border": null,
            "bottom": null,
            "display": null,
            "flex": null,
            "flex_flow": null,
            "grid_area": null,
            "grid_auto_columns": null,
            "grid_auto_flow": null,
            "grid_auto_rows": null,
            "grid_column": null,
            "grid_gap": null,
            "grid_row": null,
            "grid_template_areas": null,
            "grid_template_columns": null,
            "grid_template_rows": null,
            "height": null,
            "justify_content": null,
            "justify_items": null,
            "left": null,
            "margin": null,
            "max_height": null,
            "max_width": null,
            "min_height": null,
            "min_width": null,
            "object_fit": null,
            "object_position": null,
            "order": null,
            "overflow": null,
            "overflow_x": null,
            "overflow_y": null,
            "padding": null,
            "right": null,
            "top": null,
            "visibility": null,
            "width": null
          }
        },
        "2978094e128e4678813e214740d724db": {
          "model_module": "@jupyter-widgets/base",
          "model_name": "LayoutModel",
          "model_module_version": "1.2.0",
          "state": {
            "_model_module": "@jupyter-widgets/base",
            "_model_module_version": "1.2.0",
            "_model_name": "LayoutModel",
            "_view_count": null,
            "_view_module": "@jupyter-widgets/base",
            "_view_module_version": "1.2.0",
            "_view_name": "LayoutView",
            "align_content": null,
            "align_items": null,
            "align_self": null,
            "border": null,
            "bottom": null,
            "display": null,
            "flex": null,
            "flex_flow": null,
            "grid_area": null,
            "grid_auto_columns": null,
            "grid_auto_flow": null,
            "grid_auto_rows": null,
            "grid_column": null,
            "grid_gap": null,
            "grid_row": null,
            "grid_template_areas": null,
            "grid_template_columns": null,
            "grid_template_rows": null,
            "height": null,
            "justify_content": null,
            "justify_items": null,
            "left": null,
            "margin": null,
            "max_height": null,
            "max_width": null,
            "min_height": null,
            "min_width": null,
            "object_fit": null,
            "object_position": null,
            "order": null,
            "overflow": null,
            "overflow_x": null,
            "overflow_y": null,
            "padding": null,
            "right": null,
            "top": null,
            "visibility": null,
            "width": null
          }
        },
        "56c2ddfa3869469fae600eb6c0bab68a": {
          "model_module": "@jupyter-widgets/controls",
          "model_name": "DescriptionStyleModel",
          "model_module_version": "1.5.0",
          "state": {
            "_model_module": "@jupyter-widgets/controls",
            "_model_module_version": "1.5.0",
            "_model_name": "DescriptionStyleModel",
            "_view_count": null,
            "_view_module": "@jupyter-widgets/base",
            "_view_module_version": "1.2.0",
            "_view_name": "StyleView",
            "description_width": ""
          }
        },
        "4ac2e50aa8c846baa88ec39385f343da": {
          "model_module": "@jupyter-widgets/base",
          "model_name": "LayoutModel",
          "model_module_version": "1.2.0",
          "state": {
            "_model_module": "@jupyter-widgets/base",
            "_model_module_version": "1.2.0",
            "_model_name": "LayoutModel",
            "_view_count": null,
            "_view_module": "@jupyter-widgets/base",
            "_view_module_version": "1.2.0",
            "_view_name": "LayoutView",
            "align_content": null,
            "align_items": null,
            "align_self": null,
            "border": null,
            "bottom": null,
            "display": null,
            "flex": null,
            "flex_flow": null,
            "grid_area": null,
            "grid_auto_columns": null,
            "grid_auto_flow": null,
            "grid_auto_rows": null,
            "grid_column": null,
            "grid_gap": null,
            "grid_row": null,
            "grid_template_areas": null,
            "grid_template_columns": null,
            "grid_template_rows": null,
            "height": null,
            "justify_content": null,
            "justify_items": null,
            "left": null,
            "margin": null,
            "max_height": null,
            "max_width": null,
            "min_height": null,
            "min_width": null,
            "object_fit": null,
            "object_position": null,
            "order": null,
            "overflow": null,
            "overflow_x": null,
            "overflow_y": null,
            "padding": null,
            "right": null,
            "top": null,
            "visibility": null,
            "width": null
          }
        },
        "c58b2ba714834815a448969ba96af661": {
          "model_module": "@jupyter-widgets/controls",
          "model_name": "ProgressStyleModel",
          "model_module_version": "1.5.0",
          "state": {
            "_model_module": "@jupyter-widgets/controls",
            "_model_module_version": "1.5.0",
            "_model_name": "ProgressStyleModel",
            "_view_count": null,
            "_view_module": "@jupyter-widgets/base",
            "_view_module_version": "1.2.0",
            "_view_name": "StyleView",
            "bar_color": null,
            "description_width": ""
          }
        },
        "09d30ff6bc664755bcbeaa5705c8163d": {
          "model_module": "@jupyter-widgets/base",
          "model_name": "LayoutModel",
          "model_module_version": "1.2.0",
          "state": {
            "_model_module": "@jupyter-widgets/base",
            "_model_module_version": "1.2.0",
            "_model_name": "LayoutModel",
            "_view_count": null,
            "_view_module": "@jupyter-widgets/base",
            "_view_module_version": "1.2.0",
            "_view_name": "LayoutView",
            "align_content": null,
            "align_items": null,
            "align_self": null,
            "border": null,
            "bottom": null,
            "display": null,
            "flex": null,
            "flex_flow": null,
            "grid_area": null,
            "grid_auto_columns": null,
            "grid_auto_flow": null,
            "grid_auto_rows": null,
            "grid_column": null,
            "grid_gap": null,
            "grid_row": null,
            "grid_template_areas": null,
            "grid_template_columns": null,
            "grid_template_rows": null,
            "height": null,
            "justify_content": null,
            "justify_items": null,
            "left": null,
            "margin": null,
            "max_height": null,
            "max_width": null,
            "min_height": null,
            "min_width": null,
            "object_fit": null,
            "object_position": null,
            "order": null,
            "overflow": null,
            "overflow_x": null,
            "overflow_y": null,
            "padding": null,
            "right": null,
            "top": null,
            "visibility": null,
            "width": null
          }
        },
        "ee8c5fc056a648a598bc9f3d214229ed": {
          "model_module": "@jupyter-widgets/controls",
          "model_name": "DescriptionStyleModel",
          "model_module_version": "1.5.0",
          "state": {
            "_model_module": "@jupyter-widgets/controls",
            "_model_module_version": "1.5.0",
            "_model_name": "DescriptionStyleModel",
            "_view_count": null,
            "_view_module": "@jupyter-widgets/base",
            "_view_module_version": "1.2.0",
            "_view_name": "StyleView",
            "description_width": ""
          }
        }
      }
    }
  },
  "cells": [
    {
      "cell_type": "markdown",
      "metadata": {
        "id": "view-in-github",
        "colab_type": "text"
      },
      "source": [
        "<a href=\"https://colab.research.google.com/github/LC1332/Needy-Haruhi/blob/main/notebook/Needy%E5%90%8E%E5%8F%B0%E7%89%88%E6%9C%AC%E6%A1%86%E6%9E%B6.ipynb\" target=\"_parent\"><img src=\"https://colab.research.google.com/assets/colab-badge.svg\" alt=\"Open In Colab\"/></a>"
      ]
    },
    {
      "cell_type": "code",
      "source": [
        "%cd /content\n",
        "!rm -rf /content/Needy-Haruhi\n",
        "!git clone https://github.com/LC1332/Needy-Haruhi.git\n"
      ],
      "metadata": {
        "colab": {
          "base_uri": "https://localhost:8080/"
        },
        "id": "Fc5MKTS5q90b",
        "outputId": "66de6756-25e6-4be5-ced2-0f31e1635e2c"
      },
      "execution_count": 1,
      "outputs": [
        {
          "output_type": "stream",
          "name": "stdout",
          "text": [
            "/content\n",
            "Cloning into 'Needy-Haruhi'...\n",
            "remote: Enumerating objects: 45, done.\u001b[K\n",
            "remote: Counting objects: 100% (45/45), done.\u001b[K\n",
            "remote: Compressing objects: 100% (39/39), done.\u001b[K\n",
            "remote: Total 45 (delta 15), reused 22 (delta 4), pack-reused 0\u001b[K\n",
            "Receiving objects: 100% (45/45), 26.75 KiB | 3.34 MiB/s, done.\n",
            "Resolving deltas: 100% (15/15), done.\n"
          ]
        }
      ]
    },
    {
      "cell_type": "code",
      "source": [
        "import sys\n",
        "sys.path.append('/content/Needy-Haruhi/src')\n"
      ],
      "metadata": {
        "id": "WywHifBOrr7q"
      },
      "execution_count": 2,
      "outputs": []
    },
    {
      "cell_type": "markdown",
      "source": [
        "# Agent系统"
      ],
      "metadata": {
        "id": "fvfT09AXlr7z"
      }
    },
    {
      "cell_type": "markdown",
      "source": [
        "agent已经被移动到 src/Agent.py"
      ],
      "metadata": {
        "id": "IX0PJDnHql9i"
      }
    },
    {
      "cell_type": "code",
      "source": [
        "from Agent import Agent\n",
        "\n",
        "if __name__ == \"__main__\":\n",
        "    # 示例用法\n",
        "    agent = Agent()\n",
        "    print(agent[\"Stress\"])  # 输出 0\n",
        "    agent[\"Stress\"] += 1\n",
        "    print(agent[\"Stress\"])  # 输出 1\n",
        "    agent.apply_attribute_change({\"Darkness\": -1, \"Stress\": 1})\n",
        "    print(agent[\"Darkness\"])  # 输出 -1\n",
        "    print(agent[\"Stress\"])  # 输出 2\n",
        "    agent.apply_attribute_change({\"Nonexistent\": 5})  # 输出 Warning: Nonexistent not in attributes, skipping\n",
        "\n",
        "    condition = ('Stress', 0, 19)\n",
        "\n",
        "    print( agent.in_condition( condition ) )"
      ],
      "metadata": {
        "colab": {
          "base_uri": "https://localhost:8080/"
        },
        "id": "Fv_uu-YLrXtz",
        "outputId": "5a058756-3d64-4bc3-b214-3b8d6e650418"
      },
      "execution_count": 3,
      "outputs": [
        {
          "output_type": "stream",
          "name": "stdout",
          "text": [
            "0\n",
            "1\n",
            "-1\n",
            "2\n",
            "Warning: Nonexistent not in attributes, skipping\n",
            "True\n"
          ]
        }
      ]
    },
    {
      "cell_type": "markdown",
      "source": [
        "## Attribute String解析\n",
        "\n"
      ],
      "metadata": {
        "id": "1O-TQ4I2yQBs"
      }
    },
    {
      "cell_type": "code",
      "source": [
        "from util import parse_attribute_string\n",
        "\n",
        "# Test cases\n",
        "print(parse_attribute_string(\"Stress: -1.0, Affection: +0.5\"))  # Output: {'Stress': -1.0, 'Affection': 0.5}\n",
        "print(parse_attribute_string(\"Affection: +4.0, Stress: -2.0, Darkness: -1.0\"))  # Output: {'Affection': 4.0, 'Stress': -2.0, 'Darkness': -1.0}\n",
        "print(parse_attribute_string(\"Affection: +2.0, Stress: -1.0, Darkness: ?\"))  # Output: {'Affection': 2.0, 'Stress': -1.0, 'Darkness': 0}\n",
        "print(parse_attribute_string(\"Stress: -1.0\"))  # Output: {'Stress': -1.0}\n"
      ],
      "metadata": {
        "colab": {
          "base_uri": "https://localhost:8080/"
        },
        "id": "U86M9L_Qzbck",
        "outputId": "fbaeaf55-9290-413e-e71f-b7b210cbda73"
      },
      "execution_count": 4,
      "outputs": [
        {
          "output_type": "stream",
          "name": "stdout",
          "text": [
            "{'Stress': -1.0, 'Affection': 0.5}\n",
            "{'Stress': -2.0, 'Affection': 4.0, 'Darkness': -1.0}\n",
            "{'Stress': -1.0, 'Affection': 2.0, 'Darkness': 0}\n",
            "{'Stress': -1.0}\n"
          ]
        }
      ]
    },
    {
      "cell_type": "markdown",
      "source": [
        "## Condition字符串解析 parsing_condition_string"
      ],
      "metadata": {
        "id": "ReRe5cf8n6x_"
      }
    },
    {
      "cell_type": "code",
      "source": [
        "from util import parsing_condition_string\n",
        "\n",
        "# 测试例子\n",
        "example_inputs = [\n",
        "    \"Random Noon Event: Darkness 0-39\",\n",
        "    \"Random Noon Event: Stress 0-19\",\n",
        "    \"Random Noon Event: Affection 61+\",\n",
        "    \"Random Noon Event: No Attribute\"\n",
        "]\n",
        "\n",
        "for example_input in example_inputs:\n",
        "    print(f\"example_input:\\n{example_input}\\nexample_output\\n{parsing_condition_string(example_input)}\\n\")\n"
      ],
      "metadata": {
        "colab": {
          "base_uri": "https://localhost:8080/"
        },
        "id": "So42a3n3pKKQ",
        "outputId": "c72c6724-b848-4d09-8f6b-24a1f593d564"
      },
      "execution_count": 5,
      "outputs": [
        {
          "output_type": "stream",
          "name": "stdout",
          "text": [
            "example_input:\n",
            "Random Noon Event: Darkness 0-39\n",
            "example_output\n",
            "('Darkness', 0, 39)\n",
            "\n",
            "example_input:\n",
            "Random Noon Event: Stress 0-19\n",
            "example_output\n",
            "('Stress', 0, 19)\n",
            "\n",
            "example_input:\n",
            "Random Noon Event: Affection 61+\n",
            "example_output\n",
            "('Affection', 61, 100)\n",
            "\n",
            "example_input:\n",
            "Random Noon Event: No Attribute\n",
            "example_output\n",
            "None\n",
            "\n"
          ]
        }
      ]
    },
    {
      "cell_type": "markdown",
      "source": [
        "# DialogueEvent"
      ],
      "metadata": {
        "id": "Uls9L_inl1sg"
      }
    },
    {
      "cell_type": "markdown",
      "source": [
        "移动DialogueEvent 到src/DialogueEvent.py"
      ],
      "metadata": {
        "id": "r6evvoizwW0I"
      }
    },
    {
      "cell_type": "code",
      "source": [
        "from DialogueEvent import DialogueEvent\n",
        "\n",
        "\n",
        "example_json_str = \"\"\"{\"prefix\": \"糖糖: 嘿嘿，最近我在想要不要改变直播风格，你觉得我应该怎么做呀？\", \"options\": [{\"user\": \"你可以试试唱歌直播呀！\", \"reply\": \"糖糖: 哇！唱歌直播是个好主意！我可以把我的可爱音色展现给大家听听！谢谢你的建议！\", \"attribute_change\": \"Stress: -1.0\"}, {\"user\": \"你可以尝试做一些搞笑的小品，逗大家开心。\", \"reply\": \"糖糖: 哈哈哈，小品确实挺有趣的！我可以挑战一些搞笑角色，给大家带来欢乐！谢谢你的建议！\", \"attribute_change\": \"Stress: -1.0\"}, {\"user\": \"你可以尝试做游戏直播，和观众一起玩游戏。\", \"reply\": \"糖糖: 游戏直播也不错！我可以和观众一起玩游戏，互动更加有趣！谢谢你的建议！\", \"attribute_change\": \"Stress: -1.0\"}]}\"\"\"\n",
        "\n",
        "# 通过给定的json字符串初始化DialogueEvent实例\n",
        "event = DialogueEvent(example_json_str)\n",
        "\n",
        "# 通过类似字典的方式访问数据\n",
        "# print(event[\"options\"])  # 打印options字段的内容\n",
        "\n",
        "print(event.transfer_output(1) )\n",
        "\n",
        "print(event.get_most_neutral())\n",
        "\n",
        "print(event.most_neutral_output())\n",
        "\n"
      ],
      "metadata": {
        "colab": {
          "base_uri": "https://localhost:8080/"
        },
        "id": "_99jUS3-l3xR",
        "outputId": "9411d442-9daf-4c9a-f6f0-d5cfeed39d66"
      },
      "execution_count": 6,
      "outputs": [
        {
          "output_type": "stream",
          "name": "stdout",
          "text": [
            "糖糖: 嘿嘿，最近我在想要不要改变直播风格，你觉得我应该怎么做呀？\n",
            "男主: 你可以尝试做一些搞笑的小品，逗大家开心。\n",
            "糖糖: 哈哈哈，小品确实挺有趣的！我可以挑战一些搞笑角色，给大家带来欢乐！谢谢你的建议！\n",
            "\n",
            "0\n",
            "糖糖: 嘿嘿，最近我在想要不要改变直播风格，你觉得我应该怎么做呀？\n",
            "男主: 你可以试试唱歌直播呀！\n",
            "糖糖: 哇！唱歌直播是个好主意！我可以把我的可爱音色展现给大家听听！谢谢你的建议！\n",
            "\n"
          ]
        }
      ]
    },
    {
      "cell_type": "markdown",
      "source": [
        "批量载入，形成events"
      ],
      "metadata": {
        "id": "4ndNSFqDwwMB"
      }
    },
    {
      "cell_type": "code",
      "source": [
        "file_name =  \"/content/Needy-Haruhi/data/original_story_23.jsonl\"\n",
        "\n",
        "import json\n",
        "\n",
        "events = []\n",
        "\n",
        "with open(file_name, encoding='utf-8') as f:\n",
        "    for line in f:\n",
        "        event = DialogueEvent( line )\n",
        "        events.append( event )\n",
        "\n",
        "print(events[0].most_neutral_output())\n",
        "\n",
        "print(events[0][\"id\"])\n",
        "\n",
        "print(events[0][\"category\"])\n",
        "\n",
        "print(events[0][\"name\"])\n",
        "\n",
        "print(events[0][\"condition\"])\n",
        "\n",
        "print(events[0].get_emoji(0))"
      ],
      "metadata": {
        "colab": {
          "base_uri": "https://localhost:8080/"
        },
        "id": "VPishF9yvGne",
        "outputId": "831f134a-e227-4252-e774-0bdc5a405f7b"
      },
      "execution_count": 7,
      "outputs": [
        {
          "output_type": "stream",
          "name": "stdout",
          "text": [
            "糖糖: 我正在想下次搞什么企划呢～阿P帮帮我 出出主意\n",
            "男主: 比如一直打游戏到通关？\n",
            "糖糖:那就这么办吧（超听话）\n",
            "\n",
            "Event_Advice_JINE001\n",
            "Random Noon Event: Darkness 0-39\n",
            "Event_Advice_JINE001\n",
            "('Darkness', 0, 39)\n",
            "📄📄\n"
          ]
        }
      ]
    },
    {
      "cell_type": "markdown",
      "source": [
        "# Memory\n",
        "\n",
        "memory我们希望Event和Memory是分离的Event的标准字段如下\n",
        "\n",
        "- Name， Event的Name，用来后续如果玩家进行游戏修改的话可以根据\n",
        "- Text， 这个event下完整的对话文本\n",
        "- Embedding， text的embedding\n",
        "- Condition， 这个event对应的出现条件\n",
        "- Emoji， 这个memory的缩写显示emoji\n",
        "\n",
        "Memory应该可以从Event去默认load一个"
      ],
      "metadata": {
        "id": "vNoYQxJGntqL"
      }
    },
    {
      "cell_type": "code",
      "source": [
        "example_memory_json = {\n",
        "    \"Name\": \"EventName\",\n",
        "    \"Text\": \"Sample Text\",\n",
        "    \"Embedding\": [0,0,0],\n",
        "    \"Condition\": \"\",\n",
        "    \"Emoji\": \"😓🤯\"\n",
        "}"
      ],
      "metadata": {
        "id": "FCr1unIRqql5"
      },
      "execution_count": 8,
      "outputs": []
    },
    {
      "cell_type": "markdown",
      "source": [
        "Memory会包含下面几个字段\n",
        "\n",
        "example_memory_json = {\n",
        "    \"Name\": \"EventName\",\n",
        "    \"Text\": \"Sample Text\",\n",
        "    \"Embedding\": [0,0,0],\n",
        "    \"Condition\": \"\",\n",
        "    \"Emoji\": \"😓🤯\"\n",
        "}\n",
        "\n",
        "请为我创建一个Memory类\n",
        "\n",
        "这个memory类可以通过Memory(json_str)来载入\n",
        "\n",
        "同时这个类也有和DIalogueEvent类似的get和setitem的功能"
      ],
      "metadata": {
        "id": "FMt9G2m1rTNR"
      }
    },
    {
      "cell_type": "markdown",
      "source": [
        "我感觉memory直接使用一个MemoryPool的类来进行管理就可以\n",
        "\n",
        "MemoryPool会有几个方法\n",
        "\n",
        "- load_from_events 这个是不带Embedding的，会自动抽取Embedding\n",
        "- save， 保存成一个jsonl格式，其中embedding是base64压缩的\n",
        "- load， 从jsonl读取\n",
        "-"
      ],
      "metadata": {
        "id": "0vvqiVGH7VYg"
      }
    },
    {
      "cell_type": "code",
      "source": [
        "# Memory 类不再使用\n",
        "\n",
        "# import json\n",
        "\n",
        "# class Memory:\n",
        "#     def __init__(self, json_str=None):\n",
        "#         if json_str:\n",
        "#             try:\n",
        "#                 self.data = json.loads(json_str)\n",
        "#             except json.JSONDecodeError:\n",
        "#                 print(\"输入的字符串不是有效的JSON格式。\")\n",
        "#                 self.data = {}\n",
        "#         else:\n",
        "#             self.data = {}\n",
        "\n",
        "#     def load_from_event( event ):\n",
        "#         pass\n",
        "\n",
        "#     def __getitem__(self, key):\n",
        "#         return self.data.get(key, None)\n",
        "\n",
        "#     def __setitem__(self, key, value):\n",
        "#         self.data[key] = value\n",
        "\n",
        "#     def __repr__(self):\n",
        "#         return str(self.data)\n",
        "\n",
        "\n",
        "# example_memory_json = {\n",
        "#     \"Name\": \"EventName\",\n",
        "#     \"Text\": \"Sample Text\",\n",
        "#     \"Embedding\": [0, 0, 0],\n",
        "#     \"Condition\": \"\",\n",
        "#     \"Emoji\": \"😓🤯\"\n",
        "# }\n",
        "\n",
        "# # 通过给定的json字符串初始化Memory实例\n",
        "# memory = Memory(json.dumps(example_memory_json))\n",
        "\n",
        "# # 通过类似字典的方式访问数据\n",
        "# print(memory[\"Name\"])  # 打印Name字段的内容\n",
        "# print(memory[\"Emoji\"])  # 打印Emoji字段的内容\n"
      ],
      "metadata": {
        "colab": {
          "base_uri": "https://localhost:8080/"
        },
        "id": "1DO_kek5rR94",
        "outputId": "dc5feaa1-e54a-4f6c-de34-675e9fb39050"
      },
      "execution_count": 9,
      "outputs": [
        {
          "output_type": "stream",
          "name": "stdout",
          "text": [
            "EventName\n",
            "😓🤯\n"
          ]
        }
      ]
    },
    {
      "cell_type": "code",
      "source": [
        "!pip install -q transformers\n"
      ],
      "metadata": {
        "colab": {
          "base_uri": "https://localhost:8080/"
        },
        "id": "rb0ZfU-NP0G0",
        "outputId": "2999f7c8-6128-4539-96d3-59753af1759a"
      },
      "execution_count": 10,
      "outputs": [
        {
          "output_type": "stream",
          "name": "stdout",
          "text": [
            "\u001b[2K     \u001b[90m━━━━━━━━━━━━━━━━━━━━━━━━━━━━━━━━━━━━━━━━\u001b[0m \u001b[32m7.9/7.9 MB\u001b[0m \u001b[31m49.8 MB/s\u001b[0m eta \u001b[36m0:00:00\u001b[0m\n",
            "\u001b[2K     \u001b[90m━━━━━━━━━━━━━━━━━━━━━━━━━━━━━━━━━━━━━━━━\u001b[0m \u001b[32m302.0/302.0 kB\u001b[0m \u001b[31m24.0 MB/s\u001b[0m eta \u001b[36m0:00:00\u001b[0m\n",
            "\u001b[2K     \u001b[90m━━━━━━━━━━━━━━━━━━━━━━━━━━━━━━━━━━━━━━━━\u001b[0m \u001b[32m3.8/3.8 MB\u001b[0m \u001b[31m94.1 MB/s\u001b[0m eta \u001b[36m0:00:00\u001b[0m\n",
            "\u001b[2K     \u001b[90m━━━━━━━━━━━━━━━━━━━━━━━━━━━━━━━━━━━━━━━━\u001b[0m \u001b[32m1.3/1.3 MB\u001b[0m \u001b[31m73.0 MB/s\u001b[0m eta \u001b[36m0:00:00\u001b[0m\n",
            "\u001b[2K     \u001b[90m━━━━━━━━━━━━━━━━━━━━━━━━━━━━━━━━━━━━━━━━\u001b[0m \u001b[32m295.0/295.0 kB\u001b[0m \u001b[31m27.2 MB/s\u001b[0m eta \u001b[36m0:00:00\u001b[0m\n",
            "\u001b[?25h"
          ]
        }
      ]
    },
    {
      "cell_type": "code",
      "source": [
        "from transformers import AutoModel, AutoTokenizer\n",
        "import torch\n",
        "\n",
        "_bge_model_zh = None\n",
        "_bge_tokenizer_zh = None\n",
        "\n",
        "def get_bge_embeddings_zh( sentences ):\n",
        "    # unsafe ensure batch size by yourself\n",
        "\n",
        "    global _bge_model_zh\n",
        "    global _bge_tokenizer_zh\n",
        "\n",
        "    if _bge_model_zh is None:\n",
        "        from transformers import AutoTokenizer, AutoModel\n",
        "        _bge_tokenizer_zh = AutoTokenizer.from_pretrained('BAAI/bge-small-zh-v1.5')\n",
        "        _bge_model_zh = AutoModel.from_pretrained('BAAI/bge-small-zh-v1.5')\n",
        "\n",
        "    _bge_model_zh.eval()\n",
        "\n",
        "    # Tokenize sentences\n",
        "    encoded_input = _bge_tokenizer_zh(sentences, padding=True, truncation=True, return_tensors='pt', max_length = 512)\n",
        "\n",
        "    # Compute token embeddings\n",
        "    with torch.no_grad():\n",
        "        model_output = _bge_model_zh(**encoded_input)\n",
        "        # Perform pooling. In this case, cls pooling.\n",
        "        sentence_embeddings = model_output[0][:, 0]\n",
        "    # normalize embeddings\n",
        "    sentence_embeddings = torch.nn.functional.normalize(sentence_embeddings, p=2, dim=1)\n",
        "    return sentence_embeddings.cpu().tolist()\n",
        "\n",
        "def get_bge_embedding_zh( text_or_texts ):\n",
        "    if isinstance(text_or_texts, str):\n",
        "        return get_bge_embeddings_zh([text_or_texts])[0]\n",
        "    else:\n",
        "        return get_bge_embeddings_zh(text_or_texts)\n",
        "\n"
      ],
      "metadata": {
        "id": "7u-szbT8PwzC"
      },
      "execution_count": 11,
      "outputs": []
    },
    {
      "cell_type": "code",
      "source": [
        "result = get_bge_embedding_zh(\"你好\")\n",
        "print( result )"
      ],
      "metadata": {
        "colab": {
          "base_uri": "https://localhost:8080/",
          "height": 246,
          "referenced_widgets": [
            "68697cb8df3e4997b744a8d011084320",
            "8b0e3053135a4e5f8d9075596499df39",
            "e608cc0c59ca48d8868ebbeb38ed546a",
            "e8a44ee97c5146c2bb2b929637fcf984",
            "04499f098ccf4925ad76e33c01bb1f63",
            "c2bae9c91eb24326bc562c1146b735e5",
            "31c355431ef64191833c099988693341",
            "4c6022dc8cc74b35b8ae0fbffde160ef",
            "35979638b4444c8ba6f5ef6b6432a10d",
            "086a45b4f78c4f3eb99c3c9c5e2a25b2",
            "2af1d2d3908e4427838b16aa3284a19d",
            "de0fdef747ca45cf8605e029bbb459e7",
            "f772fd0ae2fd4cb999c87b655fb2d3f4",
            "836b591a47c245e28d6dc207dde19dcd",
            "3bdf1d74385a42159c7e504e45aca868",
            "ce20f6c9ba6e4f419c7d746c6abda50b",
            "926521f0c40d45d698c40f84ea6a037b",
            "6d94c105e8e24914aac169061c2c717e",
            "1ab88eed459245cda0abf14b976f934a",
            "50fd4993bee043ff985fe71b468b188f",
            "c39c6ec2ad6a47f5928b48f80695a00c",
            "fa9bbc6d453e43c2a89f8d2bfdb3d971",
            "ffc0a47b8ce14b9984498172a46fa322",
            "6f2260e4651d43e8811eece69240dc30",
            "c27cb0459f264e7694bd6d9acb3a3874",
            "17505a2963f8469c9def4ed123edddc7",
            "3d231930bedb48c2ab806837b4a552b7",
            "43ea152d8b0b4f3abae916702648f315",
            "41676a3cee2f4141aa69ffe90b42f4d6",
            "20250a663b7d496b847051a83580cd7a",
            "a28a7eca2171485f8359e29321583671",
            "329582e2bd68462f9e48f24b6da8db61",
            "d431e07dd2a94d4e8f4a107741ff0242",
            "d12261cda74b47d1a31f5ad2e60f0420",
            "4094600778f946bfafed1e1ba0dc41ae",
            "3200e2815fff4cd58373df701998bc12",
            "bd23b811be6144168fe010aaad949247",
            "591834e0ede34ffca259d37911e05de0",
            "6fac0979d10a4e05a27beb712f9a4146",
            "4cd66eb58e78468e98ea552eb3e57f31",
            "7646ad4ae844460d9b8c21f63a40f48a",
            "0c6d2cc79cd14d859edeb4145904a457",
            "4aa30e5e40f24a61af27c6581bfda0d5",
            "913a183e76314f7e9523171b99d65b72",
            "12c7ce98fa4f4eb0abf5d8b4386b1505",
            "d8e11a9557a04bc4bf71f444a5ac9009",
            "9d3e47abae674fd080e4b02fd2d1bcc5",
            "d38afb74ef1f4d5b86978b9caaeec7f9",
            "0982845d7748445b8e5d16dd77f3d77e",
            "bea0f02a63134c029ce13fe178d7eb83",
            "38e740f1cbbc432185da98d2131df66c",
            "3bf5f912860c4a0fb61f9b203c4675d6",
            "0fca62fe093c418fb95fe67c74f6e682",
            "fa70a7a092994c4599efe5cc57936aef",
            "559ee586b1734a968a56d0cbd4af9459",
            "227a592ddc824070875234af3a8399de",
            "f52523a5738240d299c65e1a95756393",
            "20c312a28bc442f9be97b021186a6ca4",
            "0ab5003c48294884889f1c0ae923b5fd",
            "542af24ef4064bbfa8a8576009ad5a2e",
            "2978094e128e4678813e214740d724db",
            "56c2ddfa3869469fae600eb6c0bab68a",
            "4ac2e50aa8c846baa88ec39385f343da",
            "c58b2ba714834815a448969ba96af661",
            "09d30ff6bc664755bcbeaa5705c8163d",
            "ee8c5fc056a648a598bc9f3d214229ed"
          ]
        },
        "id": "6y9Y8D7PRMEP",
        "outputId": "d339ee76-678a-4852-97d1-047528c5873b"
      },
      "execution_count": 12,
      "outputs": [
        {
          "output_type": "display_data",
          "data": {
            "text/plain": [
              "Downloading (…)okenizer_config.json:   0%|          | 0.00/367 [00:00<?, ?B/s]"
            ],
            "application/vnd.jupyter.widget-view+json": {
              "version_major": 2,
              "version_minor": 0,
              "model_id": "68697cb8df3e4997b744a8d011084320"
            }
          },
          "metadata": {}
        },
        {
          "output_type": "display_data",
          "data": {
            "text/plain": [
              "Downloading (…)solve/main/vocab.txt:   0%|          | 0.00/110k [00:00<?, ?B/s]"
            ],
            "application/vnd.jupyter.widget-view+json": {
              "version_major": 2,
              "version_minor": 0,
              "model_id": "de0fdef747ca45cf8605e029bbb459e7"
            }
          },
          "metadata": {}
        },
        {
          "output_type": "display_data",
          "data": {
            "text/plain": [
              "Downloading (…)/main/tokenizer.json:   0%|          | 0.00/439k [00:00<?, ?B/s]"
            ],
            "application/vnd.jupyter.widget-view+json": {
              "version_major": 2,
              "version_minor": 0,
              "model_id": "ffc0a47b8ce14b9984498172a46fa322"
            }
          },
          "metadata": {}
        },
        {
          "output_type": "display_data",
          "data": {
            "text/plain": [
              "Downloading (…)cial_tokens_map.json:   0%|          | 0.00/125 [00:00<?, ?B/s]"
            ],
            "application/vnd.jupyter.widget-view+json": {
              "version_major": 2,
              "version_minor": 0,
              "model_id": "d12261cda74b47d1a31f5ad2e60f0420"
            }
          },
          "metadata": {}
        },
        {
          "output_type": "display_data",
          "data": {
            "text/plain": [
              "Downloading (…)lve/main/config.json:   0%|          | 0.00/776 [00:00<?, ?B/s]"
            ],
            "application/vnd.jupyter.widget-view+json": {
              "version_major": 2,
              "version_minor": 0,
              "model_id": "12c7ce98fa4f4eb0abf5d8b4386b1505"
            }
          },
          "metadata": {}
        },
        {
          "output_type": "display_data",
          "data": {
            "text/plain": [
              "Downloading model.safetensors:   0%|          | 0.00/95.8M [00:00<?, ?B/s]"
            ],
            "application/vnd.jupyter.widget-view+json": {
              "version_major": 2,
              "version_minor": 0,
              "model_id": "227a592ddc824070875234af3a8399de"
            }
          },
          "metadata": {}
        },
        {
          "output_type": "stream",
          "name": "stdout",
          "text": [
            "[0.05038850009441376, 0.043097615242004395, 0.08578279614448547, 0.006132005248218775, 0.044682249426841736, -0.03542076051235199, 0.025161979719996452, 0.028210807591676712, 0.024695759639143944, 0.027889616787433624, 0.10825352370738983, -0.3072983920574188, -0.0445849634706974, -0.0006574562285095453, -0.022935776039958, 0.009746355935931206, -0.013806928880512714, 0.008809655904769897, -0.06698809564113617, -0.030989129096269608, 0.009912646375596523, -0.041775815188884735, 0.008844621479511261, -0.007083534728735685, 0.040530014783144, 0.027941545471549034, 0.022158024832606316, -0.03800597041845322, -0.05458453670144081, -0.025864573195576668, -0.003181352047249675, -0.08981309831142426, -0.005509674083441496, 0.00936888623982668, -0.034590937197208405, -0.019204378128051758, -0.05919954180717468, 0.013990611769258976, -0.016512390226125717, 0.0300595685839653, -0.01522169541567564, 0.007623304147273302, -0.02415050007402897, -0.006122570484876633, 0.006361173931509256, -0.04660579562187195, -0.06339544802904129, 0.05919988453388214, -0.0330817885696888, 0.04168006405234337, -0.020908553153276443, -0.014462284743785858, 0.049474481493234634, 0.03681883588433266, 0.04906994104385376, -0.05786186084151268, -0.00443091057240963, 0.04153811186552048, -0.045824144035577774, 0.006755430717021227, -0.006898951716721058, -0.053410012274980545, 0.00915116723626852, 0.006548499222844839, 0.0734037309885025, -0.0014170221984386444, -0.03538437932729721, -0.013691890984773636, -0.011196919716894627, 0.06581100821495056, 0.02054412104189396, -0.012876523658633232, -0.01301924604922533, -0.002299047540873289, 0.023465702310204506, -0.060713645070791245, 0.007168990559875965, 0.005331904627382755, -0.029648957774043083, 0.005982660222798586, 0.04507313296198845, 0.040944430977106094, 0.00992091279476881, 0.07857027649879456, -0.00896592065691948, -0.0038952401373535395, -0.09045662730932236, -0.012496723793447018, -0.010171297006309032, 0.015415366739034653, -0.11215484142303467, -0.07074978202581406, -0.009713548235595226, 0.04646452143788338, -0.003735551843419671, 0.06629628688097, -0.05412789806723595, -0.000825128925498575, 0.05046204477548599, -0.07161187380552292, -0.012390535324811935, 0.025103632360696793, -0.016258571296930313, 0.010163976810872555, -0.04867507144808769, 0.05409470945596695, -0.07124028354883194, -0.0348963588476181, 0.08365128934383392, -0.00806521251797676, -0.037734195590019226, -0.05423460900783539, -0.052513062953948975, 0.07216913998126984, -0.032369088381528854, 0.007069111801683903, -0.0017150925705209374, -0.019261129200458527, -0.015089126303792, 0.09525268524885178, -0.03419814631342888, 0.026638897135853767, 0.0515282079577446, -0.03983788564801216, -0.06695345789194107, -0.040240269154310226, 0.01606607623398304, -0.023309551179409027, -0.07403779029846191, -0.05648253485560417, 0.06441036611795425, 0.0533946231007576, 0.015907272696495056, -0.04337159916758537, -0.015023057349026203, 0.011675531044602394, -0.001136964070610702, 0.01282365620136261, -0.022957291454076767, 0.004792410880327225, -0.01926441304385662, 0.03235047310590744, -0.09358654916286469, -0.047921210527420044, 0.008570922538638115, -0.004247912671416998, 0.009914868511259556, 0.043425098061561584, 0.10224933177232742, 0.044771671295166016, -0.011997202411293983, 0.010081468150019646, 0.026200085878372192, -0.013175703585147858, -0.0792812630534172, 0.03342106565833092, -0.03305841609835625, 0.06825457513332367, -0.01996338739991188, -0.04043254256248474, 0.07355745881795883, -0.021440936252474785, 0.01528505515307188, 0.0936007872223854, -0.03664662316441536, 0.0004929741844534874, 0.0024474328383803368, 0.06991375982761383, -0.02469288371503353, -0.007276664488017559, -0.046748582273721695, -0.018822889775037766, -0.10496531426906586, 0.007935827597975731, -0.0034714341163635254, -0.044441867619752884, 0.004171477630734444, -0.08252425491809845, 0.03513616323471069, -0.0051358891651034355, -0.057433489710092545, -0.021391676738858223, -0.020810244604945183, -0.031918324530124664, -0.021958861500024796, 0.008851218037307262, -0.010881287977099419, -0.027041995897889137, -0.022705374285578728, -0.012919164262712002, 0.014312258921563625, -0.016587547957897186, 0.017444835975766182, -0.03675774857401848, -0.018504582345485687, -0.027139322832226753, -0.010013529099524021, 0.03836953267455101, -0.017097922042012215, -0.01840362697839737, -0.016755374148488045, -0.010035530664026737, 0.018314694985747337, 0.016545627266168594, 0.02098163776099682, -0.030555548146367073, -0.02163955383002758, -0.01438687089830637, -0.03473883494734764, -0.012086893431842327, -0.01801936700940132, -0.02261122316122055, -0.030231425538659096, -0.00227011414244771, 0.03769923374056816, 0.03688393533229828, 0.04376038908958435, -0.002572898054495454, 0.010885030962526798, -0.05229572206735611, 0.017747601494193077, 0.017748137935996056, 0.08319626748561859, -0.08157969266176224, -0.028087297454476357, 0.04462447762489319, -0.015378611162304878, 0.033493347465991974, -0.023586111143231392, -0.03816428780555725, 0.0325164794921875, 0.06068924814462662, -0.019521409645676613, -0.05040452629327774, 0.07497859746217728, -0.012499728240072727, -0.016916977241635323, 0.027757951989769936, 0.01831762120127678, 0.010857600718736649, -0.06676141172647476, 0.13955703377723694, -0.027710065245628357, 0.04883105307817459, -0.04116373509168625, -0.021014124155044556, -0.03312843292951584, -0.01400596834719181, 0.0007959466893225908, -0.06729311496019363, -0.023342346772551537, -0.005743864458054304, -0.04564035311341286, -0.014219941571354866, 0.03760839253664017, -0.039841558784246445, 0.027665216475725174, 0.018606822937726974, 0.013397615402936935, -0.008726751431822777, -0.0329456590116024, 0.04076449200510979, -0.06696964800357819, 0.04023990035057068, 0.02782548777759075, -0.006117578595876694, 0.013653233647346497, 0.05468897521495819, -0.08011984080076218, -0.050540097057819366, -0.006989782210439444, -0.031828850507736206, -0.010739999823272228, -0.018996868282556534, -0.040265053510665894, -0.05915316566824913, -0.02457844279706478, 0.037475913763046265, 0.03292561322450638, 0.010166225954890251, 0.03416629135608673, 0.003569490509107709, 0.020238053053617477, 0.05664543807506561, -0.08125978708267212, 0.02088296413421631, -0.06609246879816055, 0.02216489613056183, 0.0024391028564423323, -0.01486430037766695, -0.0055029671639204025, 0.006335136480629444, 0.05967162549495697, 0.03965047746896744, -0.0072934748604893684, -0.03606443107128143, -0.0344075970351696, -0.015274133533239365, 0.017371315509080887, -0.010807408019900322, 0.010229474864900112, 0.016729513183236122, -0.022194020450115204, -0.023602986708283424, -0.029992802068591118, -0.011967848986387253, -0.023971663787961006, -0.016660528257489204, 0.02746770717203617, -0.0011833258904516697, -0.047494858503341675, -0.025937488302588463, 0.01177679281681776, -0.045235827565193176, -0.018534844741225243, 0.004082628525793552, 0.07831621170043945, -0.05383242294192314, -0.022730981931090355, -0.04176759347319603, -0.019811520352959633, 0.025364233180880547, 0.0005885215941816568, -0.0015747443540021777, 0.05283374711871147, 0.02801339328289032, 0.06240648403763771, 0.024025343358516693, -0.051996756345033646, 0.017521414905786514, 0.02432830259203911, -0.003774454817175865, 0.018935713917016983, -0.006874316371977329, -0.06380721926689148, -0.022424763068556786, -0.012755217961966991, -0.008277736604213715, -0.0006159261683933437, 0.019278084859251976, 0.017667999491095543, 0.04252603277564049, -0.006710330490022898, 0.045697279274463654, 0.004900848958641291, 0.026732798665761948, -0.0022969539277255535, -0.05561666563153267, 0.029260648414492607, 0.010884050279855728, 0.015243401750922203, -0.007036356721073389, 0.03242470324039459, -0.06328248977661133, -0.003102779621258378, -0.04339459910988808, 0.07474780827760696, -0.007460437249392271, 0.010228103958070278, 0.05478436127305031, -0.060690443962812424, -0.035235997289419174, -0.023676691576838493, -0.020124688744544983, 0.0655653178691864, -0.012475406751036644, -0.01271846704185009, -0.013404201716184616, -0.01578131876885891, 0.008244524709880352, -0.014761137776076794, -0.0027442064601927996, 0.06429657340049744, -0.0752611979842186, 0.05906234309077263, -0.07104960829019547, 0.0120389424264431, -0.03436807170510292, -0.04439437761902809, -0.053434547036886215, 0.030759762972593307, 0.05608948692679405, -0.022733893245458603, -0.03982843458652496, 0.03725508973002434, -0.0811549574136734, -0.08510805666446686, 0.012936912477016449, 0.052879609167575836, 0.008458958007395267, 0.03928002715110779, -0.022429341450333595, 0.06666714698076248, 0.02297101356089115, 0.0295263584703207, -0.09690336138010025, -2.1195923181949183e-05, -0.009081052616238594, 0.052801214158535004, -0.04230983182787895, 0.05544663593173027, -0.01686876080930233, -0.01835639961063862, 0.0022048233076930046, -0.0015983241610229015, 0.018374580889940262, 0.020803187042474747, 0.04138736054301262, 0.02735433541238308, -0.06662114709615707, 0.253132164478302, -0.05880687013268471, -0.012670492753386497, 0.041599370539188385, 0.029473572969436646, 0.0013141524977982044, -0.07115434855222702, 0.03707722947001457, 0.020557919517159462, -0.02225675992667675, -0.0696382001042366, -0.01977292075753212, 0.011533103883266449, -0.051747873425483704, 0.08042764663696289, -0.021497434005141258, -0.04116024821996689, -0.05983719974756241, -0.05716056004166603, -0.03188135847449303, 0.055154092609882355, 0.025047607719898224, 0.010125985369086266, -0.09685877710580826, -0.006790942046791315, 0.0018721834057942033, -0.044154755771160126, 0.05661073699593544, -0.0006149884429760277, -0.034163784235715866, -0.03135652840137482, 0.02696634829044342, 0.012882893905043602, -0.001121287583373487, 0.040675535798072815, 0.0707612931728363, 0.0579630583524704, 0.0510743074119091, 0.027808619663119316, -0.026982497423887253, 0.02901408262550831, 0.03945454582571983, 0.006399675738066435, 0.04357914254069328, 0.035153936594724655, 0.07629334926605225, -0.06337828189134598, 0.025268565863370895, 0.04058104380965233, -0.087691530585289, -0.01753491535782814, -0.05743737146258354, -0.014070487581193447, 0.033223167061805725, -0.06349500268697739, -0.0056739007122814655, 0.0013136268826201558, -0.0032617009710520506, -0.012969180010259151, 0.024842064827680588, -0.056172844022512436, -0.024516800418496132, -0.049583978950977325, -0.003426825162023306, 0.026348430663347244, 0.07676421850919724, -0.026788366958498955, 0.08650223910808563, 0.06255465000867844, 0.028974264860153198, -0.021507780998945236, -0.07418552041053772, 0.015656137838959694, 0.06943619251251221, 0.00034757298999466, 0.096514992415905, 0.04354989528656006, -0.036487508565187454, 0.05349158123135567, -0.016332222148776054, -0.058854032307863235, 0.021627038717269897, -0.0018287567654624581, -0.01483153272420168, -0.048685651272535324, -0.01934719830751419, -0.014440382830798626, 0.05000951886177063, -0.009526746347546577, -0.028338303789496422, -0.028573719784617424, 0.03464018180966377, -0.021733583882451057, -0.021623969078063965, -0.07129769027233124, -0.01921420730650425, 0.05832148715853691, 0.0263044573366642, -0.05874352157115936, 0.030416125431656837, 0.08117933571338654, 0.0022760808933526278]\n"
          ]
        }
      ]
    },
    {
      "cell_type": "markdown",
      "source": [
        "TODO:\n",
        "\n",
        "- [x] 调一下bge_small\n",
        "- [x] 写一下load_from_events\n",
        "- [x] 写一下save和load"
      ],
      "metadata": {
        "id": "Z5DozLvdDkQP"
      }
    },
    {
      "cell_type": "code",
      "source": [
        "from tqdm import tqdm\n",
        "\n",
        "class MemoryPool:\n",
        "    def __init__(self):\n",
        "        self.memories = {}\n",
        "\n",
        "        self.set_embedding( get_bge_embedding_zh )\n",
        "\n",
        "    def set_embedding( self, embedding ):\n",
        "        self.embedding = embedding\n",
        "\n",
        "    def load_from_events( self, events ):\n",
        "        for event in tqdm( events ):\n",
        "            text = event.most_neutral_output()\n",
        "            embedding = self.embedding( text )\n",
        "            emoji = event[\"prefix_emoji\"]\n",
        "            memory_attribute = \"\" # TODO\n",
        "            name = event[\"name\"]\n",
        "\n",
        "            memory = {\n",
        "                \"name\": name,\n",
        "                \"text\": text,\n",
        "                \"embedding\": embedding,\n",
        "                \"memory_attribute\": memory_attribute,\n",
        "                \"emoji\": emoji # TODO\n",
        "            }\n",
        "\n",
        "            self.memories[ name ] = memory\n",
        "\n",
        "# 我希望为这个类进一步实现save和load函数，save函数可以将memories中的每一个value对应的dict，存储到一个jsonl中，load函数可以读取回来。注意编码都要使用utf-8, ensure_ascii = False\n",
        "\n",
        "    def save(self, file_name):\n",
        "        \"\"\"\n",
        "        Save the memories dictionary to a jsonl file.\n",
        "        \"\"\"\n",
        "        with open(file_name, 'w', encoding='utf-8') as file:\n",
        "            for memory in tqdm(self.memories.values()):\n",
        "                json_record = json.dumps(memory, ensure_ascii=False)\n",
        "                file.write(json_record + '\\n')\n",
        "\n",
        "    def load(self, file_name):\n",
        "        \"\"\"\n",
        "        Load memories from a jsonl file into the memories dictionary.\n",
        "        \"\"\"\n",
        "        with open(file_name, 'r', encoding='utf-8') as file:\n",
        "            for line in tqdm(file):\n",
        "                memory = json.loads(line.strip())\n",
        "                self.memories[memory['name']] = memory\n",
        "\n",
        "\n",
        "    def change_memory( self, memory_name , new_text ):\n",
        "        pass\n",
        "\n",
        "    def retrieve( agent, query_text ):\n",
        "        pass\n",
        "\n",
        "memory_pool = MemoryPool()\n",
        "memory_pool.load_from_events( events )\n",
        "\n",
        "memory_pool.save(\"memory_pool.jsonl\")\n",
        "memory_pool.load(\"memory_pool.jsonl\")\n",
        "\n"
      ],
      "metadata": {
        "colab": {
          "base_uri": "https://localhost:8080/"
        },
        "id": "1Wovn_zeBvF6",
        "outputId": "72112b55-491b-47cb-8eba-e89df547d89c"
      },
      "execution_count": 15,
      "outputs": [
        {
          "output_type": "stream",
          "name": "stderr",
          "text": [
            "100%|██████████| 23/23 [00:02<00:00, 10.06it/s]\n",
            "100%|██████████| 23/23 [00:00<00:00, 1027.41it/s]\n",
            "23it [00:00, 1332.85it/s]\n"
          ]
        }
      ]
    },
    {
      "cell_type": "code",
      "source": [
        "print(memory_pool.memories[list(memory_pool.memories.keys())[0]])\n",
        "\n",
        "\n",
        "\n"
      ],
      "metadata": {
        "colab": {
          "base_uri": "https://localhost:8080/"
        },
        "id": "4movk9D8rfk7",
        "outputId": "1a3c2a4d-87b2-41c9-c4d3-f896ec8f55ca"
      },
      "execution_count": 17,
      "outputs": [
        {
          "output_type": "stream",
          "name": "stdout",
          "text": [
            "{'name': 'Event_Advice_JINE001', 'text': '糖糖: 我正在想下次搞什么企划呢～阿P帮帮我 出出主意\\n男主: 比如一直打游戏到通关？\\n糖糖:那就这么办吧（超听话）\\n', 'embedding': [0.002292723162099719, 0.02949404902756214, 0.009405561722815037, 0.0440058708190918, -0.014423998072743416, -0.024256421253085136, -0.047747764736413956, 0.05321034789085388, -0.06738205999135971, 0.0327933095395565, 0.09224429726600647, -0.3719632029533386, -0.11805228888988495, -0.05472917854785919, -0.004580599255859852, 0.006189336068928242, 0.057040274143218994, 0.008912482298910618, -0.01382911205291748, -0.03249835595488548, -0.018301956355571747, -0.03298800811171532, 0.028939763084053993, 0.05641625076532364, 0.11260654032230377, -0.012770766392350197, 0.04890493303537369, 0.02928582951426506, -0.041359033435583115, -0.023268986493349075, -0.024331429973244667, -0.08133924007415771, 0.0644974410533905, 0.05515966936945915, 0.016765573993325233, 0.0006056315614841878, -0.02337242290377617, -0.03779278323054314, -0.013056544587016106, 0.041804805397987366, -0.004868445452302694, 0.025618193671107292, 0.014246761798858643, -0.05018756166100502, -0.012641405686736107, -0.030722888186573982, -0.034783054143190384, 0.012071939185261726, 0.0052467575296759605, 0.04747385531663895, 0.0018673923332244158, 0.05344518646597862, -0.0010586503194645047, 0.07292380928993225, 0.04591638967394829, -0.02388520911335945, 0.016813086345791817, -0.00870551262050867, 0.05041920021176338, 0.07307659834623337, 0.011429579928517342, -0.04417386278510094, -0.007612216752022505, 0.0019405483035370708, -0.023192565888166428, -0.048783544450998306, 0.04943511635065079, 0.055043336004018784, -0.030788816511631012, 0.02480379305779934, -0.016685083508491516, 0.03059491142630577, 0.04302790015935898, 0.015992658212780952, -0.0019942461512982845, -0.00027459193370305, -0.025094425305724144, 0.006467469036579132, 0.014987039379775524, -0.0002863009867724031, 0.012019147165119648, 0.052619464695453644, -0.03786105662584305, -0.008771447464823723, -0.09514148533344269, -0.06941020488739014, -0.047011975198984146, 0.051028672605752945, -0.03232201933860779, -0.022893322631716728, -0.026151904836297035, -0.040216490626335144, 0.04504585266113281, 0.04190988466143608, -0.013941767625510693, 0.003075351007282734, -0.03829674422740936, -0.007197638973593712, 0.03254838287830353, 0.04071337729692459, 0.04054183512926102, 0.009598273783922195, -0.025065183639526367, 0.014555493369698524, -0.027129925787448883, 0.003248421009629965, 0.01091974601149559, -0.02930109016597271, 0.0455903522670269, -0.08844210207462311, 0.016714010387659073, -0.016704004257917404, -0.07447603344917297, -0.030205652117729187, -0.046692200005054474, 0.039182741194963455, -0.059587329626083374, 0.018613576889038086, -0.005901930388063192, -0.01341991126537323, 0.013360565528273582, -0.009110969491302967, 0.009226386435329914, -0.05839832127094269, 0.050222247838974, 0.02948121167719364, 0.04068470746278763, -0.00212876801379025, -0.014951176941394806, -0.00037604468525387347, 0.00775500200688839, -0.003249149536713958, -0.04425159469246864, -0.004569296259433031, 0.026845593005418777, 0.03489086776971817, 0.007539759855717421, 0.034968964755535126, -0.057785388082265854, 0.021743223071098328, 0.03787439689040184, -0.014907901175320148, -0.01602734625339508, -0.09268569201231003, 0.06185564771294594, -0.07029949873685837, 0.024091755971312523, -0.005413695704191923, -0.07377496361732483, 0.012623968534171581, 0.055859506130218506, -0.12149319052696228, 0.03950297087430954, -0.03806440904736519, 0.03244125843048096, 0.06792038679122925, -0.020568298175930977, 0.01876225136220455, -0.00800118874758482, -0.03391623497009277, -0.0027460441924631596, -0.005386357195675373, -0.024780726060271263, 0.028055362403392792, -0.017238758504390717, -0.039251551032066345, 0.02641601487994194, 0.050779327750205994, -0.01741514354944229, -0.043184928596019745, -0.04007428139448166, 0.0014767666580155492, -0.05373086407780647, -0.027059568092226982, 0.022793494164943695, 0.003653439460322261, -0.06343834102153778, -0.054786041378974915, 0.033322907984256744, -0.027206815779209137, 0.04470248147845268, -0.015780720859766006, -0.013931529596447945, -0.02388511598110199, 0.026696011424064636, 0.09978461265563965, -0.06068509444594383, 0.06370808184146881, 0.008152780123054981, 0.013174946419894695, -0.009414725005626678, -0.029000641778111458, -0.022646931931376457, 0.042579129338264465, 0.04325379058718681, -0.003305453574284911, -0.0013671597698703408, 0.029551105573773384, 0.011713732965290546, -0.045075539499521255, -0.06563737988471985, -0.035487838089466095, 0.028566371649503708, 0.02351442538201809, -0.010855795815587044, 0.0232570581138134, -0.020265135914087296, -0.041673362255096436, 0.015194233506917953, -0.01903325691819191, -0.014771162532269955, -0.042202550917863846, -0.017559628933668137, -0.06219948083162308, -0.037661612033843994, 0.016107365489006042, -0.03248037025332451, 0.015141242183744907, 0.047076962888240814, -0.013533567078411579, -0.02697407267987728, 0.047494444996118546, -0.01554049365222454, -0.029491592198610306, -0.03938436508178711, 0.04005448892712593, 0.0019574612379074097, 0.0763460099697113, 0.004158641677349806, 0.0022767323534935713, 0.007764849346131086, 0.003963281866163015, -0.010180049575865269, -0.07592783123254776, 0.0224001444876194, -0.0465247705578804, -0.019675377756357193, 0.05846536159515381, -0.033229295164346695, -0.0016292448854073882, 0.06673644483089447, 0.11289112269878387, -0.022470569238066673, -0.007106872741132975, -0.01792955957353115, 0.07406650483608246, -0.04485417529940605, -0.041680626571178436, 0.04105580225586891, 0.02796640247106552, -0.029425960034132004, -0.02949826605618, -0.019520217552781105, -0.028612472116947174, -0.02246931754052639, -0.04542914405465126, -0.028780367225408554, -0.02951115556061268, -0.06138649955391884, 0.04430137574672699, -0.028585484251379967, -0.02111407369375229, -0.023059139028191566, -0.09699296951293945, -0.011006811633706093, 0.017575381323695183, 0.038376253098249435, 0.015459704212844372, -0.026616616174578667, 0.04830852523446083, -0.003133596619591117, -0.02035975456237793, -0.030941063538193703, 0.003324387362226844, -0.02188057452440262, 0.014616644009947777, -0.024013379588723183, -0.030296633020043373, 0.023303067311644554, -0.011871976777911186, 0.013416890054941177, -0.008982294239103794, 0.0174212995916605, -0.019093850627541542, -0.026953935623168945, -0.00022821981110610068, -0.06730490922927856, -0.028217997401952744, 0.020938120782375336, -0.06926385313272476, 0.023760467767715454, 0.03656553849577904, 0.09960067272186279, -0.0024489923380315304, -0.037400271743535995, -0.021717270836234093, 0.003963388968259096, 0.009287686087191105, 0.04624006152153015, -0.0579584501683712, -0.024074455723166466, 0.04893529415130615, 0.04096968099474907, -0.028772443532943726, -0.008172227069735527, -0.00024296337505802512, 0.017771078273653984, -0.03164903447031975, 0.06263401359319687, 0.016334006562829018, -0.05449680611491203, 0.0539156012237072, -0.005275411531329155, 0.017013536766171455, 0.02989642135798931, -0.017227737233042717, 0.008186637423932552, -0.020017556846141815, -0.042346276342868805, 0.0022910679690539837, -0.031165409833192825, 0.0468209944665432, -0.02449820749461651, 0.0046951668336987495, -0.033387068659067154, 0.052143462002277374, 0.006200119853019714, 0.0715346708893776, 0.0167223047465086, -0.04389527440071106, 0.02394277974963188, 0.013986606150865555, -0.050587475299835205, -0.00399772496894002, 0.05677255988121033, -0.006513196974992752, -0.04187814146280289, -0.07006314396858215, 0.04093249514698982, 0.06274821609258652, 0.0025118826888501644, 0.029828809201717377, 0.013954123482108116, 0.058936867862939835, 0.04390973597764969, 0.007387331686913967, -0.04808393493294716, -0.021458124741911888, -0.04398045688867569, 0.021725740283727646, 0.022344954311847687, -0.053588587790727615, -0.03315545618534088, -0.02272815816104412, 0.04586507007479668, 0.025878213346004486, 0.014454053714871407, -0.046225618571043015, 0.049825504422187805, 0.03151654824614525, -0.0009525300120003521, -0.02400960773229599, -0.014137320220470428, -0.039715733379125595, -0.023014454171061516, -0.04531741142272949, -0.03696581348776817, 0.0013899524929001927, 0.013163330033421516, 0.030449075624346733, 0.035400390625, -0.034576643258333206, 0.02584734745323658, -0.021763689815998077, -0.004455055110156536, -0.056676436215639114, -0.05839847773313522, 0.01874900795519352, 0.00038877350743860006, 0.0466533787548542, 0.016953233629465103, 0.06573179364204407, 0.007358452770859003, -0.01260657049715519, 0.15195022523403168, -0.037547677755355835, -0.057093676179647446, -0.029770201072096825, -0.03673684597015381, 0.05079672485589981, 0.006746315862983465, -0.007466014474630356, 0.041149720549583435, -0.04433798789978027, -0.027695467695593834, 0.004147871397435665, 0.014586362987756729, -0.002058757236227393, -0.019000230357050896, -0.025589659810066223, -0.010652481578290462, 0.023817455396056175, 0.011247090995311737, 0.027261676266789436, -0.03768240287899971, -0.05134177580475807, -0.043663352727890015, -0.06773640215396881, -0.011968900449573994, 0.03671877086162567, 0.264678418636322, -0.05544695630669594, 0.014589602127671242, 0.03743357956409454, 0.04464004561305046, 0.07006725668907166, -0.03301870450377464, -0.004598725121468306, -0.047072749584913254, -0.05295524373650551, 0.04547508805990219, 0.005621364805847406, -0.029679277911782265, -0.06519095599651337, -0.0013770852237939835, -0.060187794268131256, 0.0031179310753941536, 0.04991205409169197, -0.13153964281082153, 0.04344167187809944, -0.025156104937195778, 0.006164158694446087, -0.008422808721661568, -0.046005479991436005, 0.035064227879047394, -0.029639963060617447, -0.01797301322221756, 0.007358940783888102, 0.050877753645181656, 0.05283154174685478, -0.039576344192028046, 0.0012021631700918078, 0.04610784724354744, 0.02331198751926422, -0.0015197335742413998, 0.07398402690887451, 0.00035335338907316327, 0.03977580368518829, 0.04864130914211273, 0.04135124385356903, 0.018639935180544853, -0.017907867208123207, -0.010285099036991596, 0.024035686627030373, 0.05291643738746643, 0.05164969712495804, -0.08581219613552094, -0.06687263399362564, 0.04766056314110756, -0.016864066943526268, -0.007893729023635387, -0.06861192733049393, -0.017613133415579796, -0.006551557686179876, -0.07612217217683792, -0.00048677821177989244, -0.03243261203169823, -0.02100607007741928, -0.025877557694911957, 0.03526053950190544, -0.042224057018756866, -0.05632280558347702, 0.015669159591197968, 0.00030873637297190726, -0.09131156653165817, -0.008050648495554924, -0.006304780021309853, 0.055091481655836105, 0.00319562666118145, -0.010531255975365639, 0.019127892330288887, -0.011850167065858841, 0.007169933058321476, -0.031503986567258835, 0.025307154282927513, -0.01959899254143238, 0.026747385039925575, 0.06557024270296097, 0.005669236183166504, -0.004562432877719402, -0.0393754318356514, 0.023067520931363106, -0.06271585822105408, 0.02896735817193985, -0.05823984369635582, 0.0025683173444122076, -0.06230204552412033, -0.007163526490330696, 0.0029462780803442, 0.0001353164843749255, -0.05892842262983322, -0.023628126829862595, 0.021534789353609085, -0.010906046256422997, -0.0015469588106498122, 0.06343770027160645, 0.07693515717983246, 0.021268567070364952, -0.05979536473751068, -0.03005078434944153, 0.012023978866636753, 0.03463556244969368], 'memory_attribute': '', 'emoji': '📄'}\n"
          ]
        }
      ]
    },
    {
      "cell_type": "code",
      "source": [],
      "metadata": {
        "id": "QRI8xOcPDjXH"
      },
      "execution_count": null,
      "outputs": []
    },
    {
      "cell_type": "markdown",
      "source": [
        "TODO:\n",
        "\n",
        "把之前读入的events也都默认转入到Memory\n",
        "\n",
        "做一下embedding的函数"
      ],
      "metadata": {
        "id": "DHIvsRljqnj1"
      }
    },
    {
      "cell_type": "markdown",
      "source": [
        "我希望使用python实现一个简单的文字对话游戏\n",
        "\n",
        "我希望先实现一个GameMaster类\n",
        "\n",
        "这个类会不断的和用户对话\n",
        "\n",
        "GameMaster类会有三个状态，\n",
        "\n",
        "在Menu状态下，GameMaster会询问玩家是\n",
        "\n",
        "```\n",
        "1. 随机一个事件\n",
        "2. 自由聊天\n",
        "```\n",
        "\n",
        "当玩家选择1的时候，GameMaster的交互会交给 EventMaster\n",
        "\n",
        "当玩家选择2的时候，GameMaster的交互会交给 ChatMaster\n",
        "\n",
        "当玩家在EventMaster的时候，会经历一次选择，之后就会退出\n",
        "\n",
        "在ChatMaster的时候，如果玩家输入quit，则会退出，不然则会继续聊天。\n",
        "\n",
        "请为我编写合适的框架，如果有一些具体的函数，可以先用pass实现。"
      ],
      "metadata": {
        "id": "SYk3meZdouUm"
      }
    },
    {
      "cell_type": "code",
      "source": [
        "class EventMaster:\n",
        "    def run(self, agent ):\n",
        "        print(\"事件发生了！\")\n",
        "        # 这里可以添加事件相关的逻辑\n",
        "        input(\"按任意键继续...\")\n"
      ],
      "metadata": {
        "id": "jQ6MS0cpuSrP"
      },
      "execution_count": null,
      "outputs": []
    },
    {
      "cell_type": "markdown",
      "source": [
        "ChatMaster实际上需要\n",
        "\n",
        "根据agent的属性 先去filter一遍事件\n",
        "\n",
        "然后从剩余事件中，找到和当前text最接近的k个embedding，放入ChatHaruhi架构中"
      ],
      "metadata": {
        "id": "3vhG1DVEucfT"
      }
    },
    {
      "cell_type": "code",
      "source": [
        "\n",
        "\n",
        "\n",
        "class ChatMaster:\n",
        "\n",
        "    def __init__(self):\n",
        "        self.top_K = 7\n",
        "\n",
        "        self.memory_pool = MemoryPool()\n",
        "\n",
        "\n",
        "    def run(self, agent):\n",
        "        while True:\n",
        "            user_input = input(\"聊天：\")\n",
        "            user_input = user_input.strip()\n",
        "\n",
        "            if \"quit\" in user_input or \"Quit\" in user_input:\n",
        "                break\n",
        "\n",
        "            # 首先根据当前的agent，判断每个事件的条件是不是吻合，如果吻合则加入搜索\n",
        "\n",
        "            #\n"
      ],
      "metadata": {
        "id": "0c7nCT4qubll"
      },
      "execution_count": null,
      "outputs": []
    },
    {
      "cell_type": "code",
      "execution_count": null,
      "metadata": {
        "id": "BDEdz_RBol7Y"
      },
      "outputs": [],
      "source": [
        "class GameMaster:\n",
        "    def __init__(self, agent = None):\n",
        "        self.state = \"Menu\"\n",
        "        if agent is None:\n",
        "            self.agent = Agent()\n",
        "\n",
        "\n",
        "    def run(self):\n",
        "        while True:\n",
        "            if self.state == \"Menu\":\n",
        "                self.menu()\n",
        "            elif self.state == \"EventMaster\":\n",
        "                self.event_master()\n",
        "                self.state = \"Menu\"\n",
        "            elif self.state == \"ChatMaster\":\n",
        "                self.chat_master()\n",
        "            elif self.state == \"Quit\":\n",
        "                break\n",
        "\n",
        "    def menu(self):\n",
        "        print(\"1. 随机一个事件\")\n",
        "        print(\"2. 自由聊天\")\n",
        "        # (opt) 结局系统\n",
        "        # 放动画\n",
        "        # 后台修改attribute\n",
        "        print(\"或者输入Quit退出\")\n",
        "        choice = input(\"请选择一个选项: \")\n",
        "        if choice == \"1\":\n",
        "            self.state = \"EventMaster\"\n",
        "        elif choice == \"2\":\n",
        "            self.state = \"ChatMaster\"\n",
        "        elif \"quit\" in choice or \"Quit\" in choice or \"QUIT\" in choice:\n",
        "            self.state = \"Quit\"\n",
        "        else:\n",
        "            print(\"无效的选项，请重新选择\")\n",
        "\n",
        "    def event_master(self):\n",
        "        event_master = EventMaster()\n",
        "        event_master.run(self.agent)\n",
        "        self.state = \"Menu\"\n",
        "\n",
        "    def chat_master(self):\n",
        "        chat_master = ChatMaster()\n",
        "        chat_master.run(self.agent)\n",
        "        self.state = \"Menu\"\n",
        "\n",
        "\n"
      ]
    },
    {
      "cell_type": "code",
      "source": [
        "game_master = GameMaster()\n",
        "game_master.run()"
      ],
      "metadata": {
        "colab": {
          "base_uri": "https://localhost:8080/"
        },
        "id": "zPmr9kVepwjh",
        "outputId": "43550794-74dc-4513-8069-79b444b60c0c"
      },
      "execution_count": null,
      "outputs": [
        {
          "name": "stdout",
          "output_type": "stream",
          "text": [
            "1. 随机一个事件\n",
            "2. 自由聊天\n",
            "请选择一个选项: 1\n",
            "事件发生了！\n",
            "按任意键继续...\n",
            "1. 随机一个事件\n",
            "2. 自由聊天\n",
            "请选择一个选项: 2\n",
            "聊天：\n",
            "\n",
            "False\n",
            "聊天：Quit\n",
            "Quit\n",
            "False\n",
            "聊天：Quit\n",
            "Quit\n",
            "False\n",
            "聊天：quit\n",
            "quit\n",
            "True\n",
            "1. 随机一个事件\n",
            "2. 自由聊天\n",
            "请选择一个选项: quit\n"
          ]
        }
      ]
    }
  ]
}