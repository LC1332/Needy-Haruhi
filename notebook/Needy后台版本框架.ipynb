{
  "nbformat": 4,
  "nbformat_minor": 0,
  "metadata": {
    "colab": {
      "provenance": [],
      "authorship_tag": "ABX9TyOeNO6xPhtg60SHjSgvDCMU",
      "include_colab_link": true
    },
    "kernelspec": {
      "name": "python3",
      "display_name": "Python 3"
    },
    "language_info": {
      "name": "python"
    }
  },
  "cells": [
    {
      "cell_type": "markdown",
      "metadata": {
        "id": "view-in-github",
        "colab_type": "text"
      },
      "source": [
        "<a href=\"https://colab.research.google.com/github/LC1332/Needy-Haruhi/blob/main/notebook/Needy%E5%90%8E%E5%8F%B0%E7%89%88%E6%9C%AC%E6%A1%86%E6%9E%B6.ipynb\" target=\"_parent\"><img src=\"https://colab.research.google.com/assets/colab-badge.svg\" alt=\"Open In Colab\"/></a>"
      ]
    },
    {
      "cell_type": "code",
      "source": [
        "%cd /content\n",
        "!rm -rf /content/Needy-Haruhi\n",
        "!git clone https://github.com/LC1332/Needy-Haruhi.git\n"
      ],
      "metadata": {
        "colab": {
          "base_uri": "https://localhost:8080/"
        },
        "id": "Fc5MKTS5q90b",
        "outputId": "48b312d7-ae51-4c21-d7b9-f3062df7e1c2"
      },
      "execution_count": 1,
      "outputs": [
        {
          "output_type": "stream",
          "name": "stdout",
          "text": [
            "/content\n",
            "Cloning into 'Needy-Haruhi'...\n",
            "remote: Enumerating objects: 41, done.\u001b[K\n",
            "remote: Counting objects: 100% (41/41), done.\u001b[K\n",
            "remote: Compressing objects: 100% (35/35), done.\u001b[K\n",
            "remote: Total 41 (delta 13), reused 23 (delta 4), pack-reused 0\u001b[K\n",
            "Receiving objects: 100% (41/41), 24.30 KiB | 4.05 MiB/s, done.\n",
            "Resolving deltas: 100% (13/13), done.\n"
          ]
        }
      ]
    },
    {
      "cell_type": "code",
      "source": [
        "import sys\n",
        "sys.path.append('/content/Needy-Haruhi/src')\n"
      ],
      "metadata": {
        "id": "WywHifBOrr7q"
      },
      "execution_count": 2,
      "outputs": []
    },
    {
      "cell_type": "markdown",
      "source": [
        "# Agent系统"
      ],
      "metadata": {
        "id": "fvfT09AXlr7z"
      }
    },
    {
      "cell_type": "markdown",
      "source": [
        "agent已经被移动到 src/Agent.py"
      ],
      "metadata": {
        "id": "IX0PJDnHql9i"
      }
    },
    {
      "cell_type": "code",
      "source": [
        "from Agent import Agent\n",
        "\n",
        "if __name__ == \"__main__\":\n",
        "    # 示例用法\n",
        "    agent = Agent()\n",
        "    print(agent[\"Stress\"])  # 输出 0\n",
        "    agent[\"Stress\"] += 1\n",
        "    print(agent[\"Stress\"])  # 输出 1\n",
        "    agent.apply_attribute_change({\"Darkness\": -1, \"Stress\": 1})\n",
        "    print(agent[\"Darkness\"])  # 输出 -1\n",
        "    print(agent[\"Stress\"])  # 输出 2\n",
        "    agent.apply_attribute_change({\"Nonexistent\": 5})  # 输出 Warning: Nonexistent not in attributes, skipping\n",
        "\n",
        "    condition = ('Stress', 0, 19)\n",
        "\n",
        "    print( agent.in_condition( condition ) )"
      ],
      "metadata": {
        "colab": {
          "base_uri": "https://localhost:8080/"
        },
        "id": "Fv_uu-YLrXtz",
        "outputId": "85402be6-a999-452f-8971-3e8e846d7391"
      },
      "execution_count": 3,
      "outputs": [
        {
          "output_type": "stream",
          "name": "stdout",
          "text": [
            "0\n",
            "1\n",
            "-1\n",
            "2\n",
            "Warning: Nonexistent not in attributes, skipping\n",
            "True\n"
          ]
        }
      ]
    },
    {
      "cell_type": "markdown",
      "source": [
        "## Attribute String解析\n",
        "\n"
      ],
      "metadata": {
        "id": "1O-TQ4I2yQBs"
      }
    },
    {
      "cell_type": "code",
      "source": [
        "from util import parse_attribute_string\n",
        "\n",
        "# Test cases\n",
        "print(parse_attribute_string(\"Stress: -1.0, Affection: +0.5\"))  # Output: {'Stress': -1.0, 'Affection': 0.5}\n",
        "print(parse_attribute_string(\"Affection: +4.0, Stress: -2.0, Darkness: -1.0\"))  # Output: {'Affection': 4.0, 'Stress': -2.0, 'Darkness': -1.0}\n",
        "print(parse_attribute_string(\"Affection: +2.0, Stress: -1.0, Darkness: ?\"))  # Output: {'Affection': 2.0, 'Stress': -1.0, 'Darkness': 0}\n",
        "print(parse_attribute_string(\"Stress: -1.0\"))  # Output: {'Stress': -1.0}\n"
      ],
      "metadata": {
        "colab": {
          "base_uri": "https://localhost:8080/"
        },
        "id": "U86M9L_Qzbck",
        "outputId": "6a67d338-2f1d-4eae-ac9c-e026262da481"
      },
      "execution_count": 4,
      "outputs": [
        {
          "output_type": "stream",
          "name": "stdout",
          "text": [
            "{'Stress': -1.0, 'Affection': 0.5}\n",
            "{'Stress': -2.0, 'Affection': 4.0, 'Darkness': -1.0}\n",
            "{'Stress': -1.0, 'Affection': 2.0, 'Darkness': 0}\n",
            "{'Stress': -1.0}\n"
          ]
        }
      ]
    },
    {
      "cell_type": "markdown",
      "source": [
        "## Condition字符串解析 parsing_condition_string"
      ],
      "metadata": {
        "id": "ReRe5cf8n6x_"
      }
    },
    {
      "cell_type": "code",
      "source": [
        "from util import parsing_condition_string\n",
        "\n",
        "# 测试例子\n",
        "example_inputs = [\n",
        "    \"Random Noon Event: Darkness 0-39\",\n",
        "    \"Random Noon Event: Stress 0-19\",\n",
        "    \"Random Noon Event: Affection 61+\",\n",
        "    \"Random Noon Event: No Attribute\"\n",
        "]\n",
        "\n",
        "for example_input in example_inputs:\n",
        "    print(f\"example_input:\\n{example_input}\\nexample_output\\n{parsing_condition_string(example_input)}\\n\")\n"
      ],
      "metadata": {
        "colab": {
          "base_uri": "https://localhost:8080/"
        },
        "id": "So42a3n3pKKQ",
        "outputId": "31efa81c-c78a-4c5b-a3a9-2bdcf9b936b8"
      },
      "execution_count": 5,
      "outputs": [
        {
          "output_type": "stream",
          "name": "stdout",
          "text": [
            "example_input:\n",
            "Random Noon Event: Darkness 0-39\n",
            "example_output\n",
            "('Darkness', 0, 39)\n",
            "\n",
            "example_input:\n",
            "Random Noon Event: Stress 0-19\n",
            "example_output\n",
            "('Stress', 0, 19)\n",
            "\n",
            "example_input:\n",
            "Random Noon Event: Affection 61+\n",
            "example_output\n",
            "('Affection', 61, 100)\n",
            "\n",
            "example_input:\n",
            "Random Noon Event: No Attribute\n",
            "example_output\n",
            "None\n",
            "\n"
          ]
        }
      ]
    },
    {
      "cell_type": "markdown",
      "source": [
        "# DialogueEvent"
      ],
      "metadata": {
        "id": "Uls9L_inl1sg"
      }
    },
    {
      "cell_type": "markdown",
      "source": [
        "移动DialogueEvent 到src/DialogueEvent.py"
      ],
      "metadata": {
        "id": "r6evvoizwW0I"
      }
    },
    {
      "cell_type": "code",
      "source": [
        "from DialogueEvent import DialogueEvent\n",
        "\n",
        "\n",
        "example_json_str = \"\"\"{\"prefix\": \"糖糖: 嘿嘿，最近我在想要不要改变直播风格，你觉得我应该怎么做呀？\", \"options\": [{\"user\": \"你可以试试唱歌直播呀！\", \"reply\": \"糖糖: 哇！唱歌直播是个好主意！我可以把我的可爱音色展现给大家听听！谢谢你的建议！\", \"attribute_change\": \"Stress: -1.0\"}, {\"user\": \"你可以尝试做一些搞笑的小品，逗大家开心。\", \"reply\": \"糖糖: 哈哈哈，小品确实挺有趣的！我可以挑战一些搞笑角色，给大家带来欢乐！谢谢你的建议！\", \"attribute_change\": \"Stress: -1.0\"}, {\"user\": \"你可以尝试做游戏直播，和观众一起玩游戏。\", \"reply\": \"糖糖: 游戏直播也不错！我可以和观众一起玩游戏，互动更加有趣！谢谢你的建议！\", \"attribute_change\": \"Stress: -1.0\"}]}\"\"\"\n",
        "\n",
        "# 通过给定的json字符串初始化DialogueEvent实例\n",
        "event = DialogueEvent(example_json_str)\n",
        "\n",
        "# 通过类似字典的方式访问数据\n",
        "# print(event[\"options\"])  # 打印options字段的内容\n",
        "\n",
        "print(event.transfer_output(1) )\n",
        "\n",
        "print(event.get_most_neutral())\n",
        "\n",
        "print(event.most_neutral_output())\n",
        "\n"
      ],
      "metadata": {
        "colab": {
          "base_uri": "https://localhost:8080/"
        },
        "id": "_99jUS3-l3xR",
        "outputId": "7016fb25-7573-4c24-88eb-0bb23878f2e5"
      },
      "execution_count": 6,
      "outputs": [
        {
          "output_type": "stream",
          "name": "stdout",
          "text": [
            "糖糖: 嘿嘿，最近我在想要不要改变直播风格，你觉得我应该怎么做呀？\n",
            "男主: 你可以尝试做一些搞笑的小品，逗大家开心。\n",
            "糖糖: 哈哈哈，小品确实挺有趣的！我可以挑战一些搞笑角色，给大家带来欢乐！谢谢你的建议！\n",
            "\n",
            "0\n",
            "糖糖: 嘿嘿，最近我在想要不要改变直播风格，你觉得我应该怎么做呀？\n",
            "男主: 你可以试试唱歌直播呀！\n",
            "糖糖: 哇！唱歌直播是个好主意！我可以把我的可爱音色展现给大家听听！谢谢你的建议！\n",
            "\n"
          ]
        }
      ]
    },
    {
      "cell_type": "markdown",
      "source": [
        "批量载入，形成events"
      ],
      "metadata": {
        "id": "4ndNSFqDwwMB"
      }
    },
    {
      "cell_type": "code",
      "source": [
        "file_name =  \"/content/Needy-Haruhi/data/original_story_23.jsonl\"\n",
        "\n",
        "import json\n",
        "\n",
        "events = []\n",
        "\n",
        "with open(file_name, encoding='utf-8') as f:\n",
        "    for line in f:\n",
        "        event = DialogueEvent( line )\n",
        "        events.append( event )\n",
        "\n",
        "print(events[0].most_neutral_output())\n",
        "\n",
        "print(events[0][\"id\"])\n",
        "\n",
        "print(events[0][\"category\"])\n",
        "\n",
        "print(events[0][\"name\"])\n",
        "\n",
        "print(events[0][\"condition\"])\n",
        "\n",
        "print(events[0].get_emoji(0))"
      ],
      "metadata": {
        "colab": {
          "base_uri": "https://localhost:8080/"
        },
        "id": "VPishF9yvGne",
        "outputId": "828bf7ac-8bfd-4935-a4cb-10cc46528f48"
      },
      "execution_count": 7,
      "outputs": [
        {
          "output_type": "stream",
          "name": "stdout",
          "text": [
            "糖糖: 我正在想下次搞什么企划呢～阿P帮帮我 出出主意\n",
            "男主: 比如一直打游戏到通关？\n",
            "糖糖:那就这么办吧（超听话）\n",
            "\n",
            "Event_Advice_JINE001\n",
            "Random Noon Event: Darkness 0-39\n",
            "Event_Advice_JINE001\n",
            "('Darkness', 0, 39)\n",
            "📄📄\n"
          ]
        }
      ]
    },
    {
      "cell_type": "markdown",
      "source": [
        "# Memory\n",
        "\n",
        "memory我们希望Event和Memory是分离的Event的标准字段如下\n",
        "\n",
        "- Name， Event的Name，用来后续如果玩家进行游戏修改的话可以根据\n",
        "- Text， 这个event下完整的对话文本\n",
        "- Embedding， text的embedding\n",
        "- Condition， 这个event对应的出现条件\n",
        "- Emoji， 这个memory的缩写显示emoji\n",
        "\n",
        "Memory应该可以从Event去默认load一个"
      ],
      "metadata": {
        "id": "vNoYQxJGntqL"
      }
    },
    {
      "cell_type": "code",
      "source": [
        "example_memory_json = {\n",
        "    \"Name\": \"EventName\",\n",
        "    \"Text\": \"Sample Text\",\n",
        "    \"Embedding\": [0,0,0],\n",
        "    \"Condition\": \"\",\n",
        "    \"Emoji\": \"😓🤯\"\n",
        "}"
      ],
      "metadata": {
        "id": "FCr1unIRqql5"
      },
      "execution_count": null,
      "outputs": []
    },
    {
      "cell_type": "markdown",
      "source": [
        "Memory会包含下面几个字段\n",
        "\n",
        "example_memory_json = {\n",
        "    \"Name\": \"EventName\",\n",
        "    \"Text\": \"Sample Text\",\n",
        "    \"Embedding\": [0,0,0],\n",
        "    \"Condition\": \"\",\n",
        "    \"Emoji\": \"😓🤯\"\n",
        "}\n",
        "\n",
        "请为我创建一个Memory类\n",
        "\n",
        "这个memory类可以通过Memory(json_str)来载入\n",
        "\n",
        "同时这个类也有和DIalogueEvent类似的get和setitem的功能"
      ],
      "metadata": {
        "id": "FMt9G2m1rTNR"
      }
    },
    {
      "cell_type": "markdown",
      "source": [
        "我感觉memory直接使用一个MemoryPool的类来进行管理就可以\n",
        "\n",
        "MemoryPool会有几个方法\n",
        "\n",
        "- load_from_events 这个是不带Embedding的，会自动抽取Embedding\n",
        "- save， 保存成一个jsonl格式，其中embedding是base64压缩的\n",
        "- load， 从jsonl读取\n",
        "-"
      ],
      "metadata": {
        "id": "0vvqiVGH7VYg"
      }
    },
    {
      "cell_type": "code",
      "source": [
        "import json\n",
        "\n",
        "class Memory:\n",
        "    def __init__(self, json_str=None):\n",
        "        if json_str:\n",
        "            try:\n",
        "                self.data = json.loads(json_str)\n",
        "            except json.JSONDecodeError:\n",
        "                print(\"输入的字符串不是有效的JSON格式。\")\n",
        "                self.data = {}\n",
        "        else:\n",
        "            self.data = {}\n",
        "\n",
        "    def load_from_event( event ):\n",
        "        pass\n",
        "\n",
        "    def __getitem__(self, key):\n",
        "        return self.data.get(key, None)\n",
        "\n",
        "    def __setitem__(self, key, value):\n",
        "        self.data[key] = value\n",
        "\n",
        "    def __repr__(self):\n",
        "        return str(self.data)\n",
        "\n",
        "\n",
        "example_memory_json = {\n",
        "    \"Name\": \"EventName\",\n",
        "    \"Text\": \"Sample Text\",\n",
        "    \"Embedding\": [0, 0, 0],\n",
        "    \"Condition\": \"\",\n",
        "    \"Emoji\": \"😓🤯\"\n",
        "}\n",
        "\n",
        "# 通过给定的json字符串初始化Memory实例\n",
        "memory = Memory(json.dumps(example_memory_json))\n",
        "\n",
        "# 通过类似字典的方式访问数据\n",
        "print(memory[\"Name\"])  # 打印Name字段的内容\n",
        "print(memory[\"Emoji\"])  # 打印Emoji字段的内容\n"
      ],
      "metadata": {
        "colab": {
          "base_uri": "https://localhost:8080/"
        },
        "id": "1DO_kek5rR94",
        "outputId": "3af7c023-8f42-4d68-e43f-b4c8a13716d1"
      },
      "execution_count": null,
      "outputs": [
        {
          "output_type": "stream",
          "name": "stdout",
          "text": [
            "EventName\n",
            "😓🤯\n"
          ]
        }
      ]
    },
    {
      "cell_type": "markdown",
      "source": [
        "TODO:\n",
        "\n",
        "把之前读入的events也都默认转入到Memory\n",
        "\n",
        "做一下embedding的函数"
      ],
      "metadata": {
        "id": "DHIvsRljqnj1"
      }
    },
    {
      "cell_type": "markdown",
      "source": [
        "我希望使用python实现一个简单的文字对话游戏\n",
        "\n",
        "我希望先实现一个GameMaster类\n",
        "\n",
        "这个类会不断的和用户对话\n",
        "\n",
        "GameMaster类会有三个状态，\n",
        "\n",
        "在Menu状态下，GameMaster会询问玩家是\n",
        "\n",
        "```\n",
        "1. 随机一个事件\n",
        "2. 自由聊天\n",
        "```\n",
        "\n",
        "当玩家选择1的时候，GameMaster的交互会交给 EventMaster\n",
        "\n",
        "当玩家选择2的时候，GameMaster的交互会交给 ChatMaster\n",
        "\n",
        "当玩家在EventMaster的时候，会经历一次选择，之后就会退出\n",
        "\n",
        "在ChatMaster的时候，如果玩家输入quit，则会退出，不然则会继续聊天。\n",
        "\n",
        "请为我编写合适的框架，如果有一些具体的函数，可以先用pass实现。"
      ],
      "metadata": {
        "id": "SYk3meZdouUm"
      }
    },
    {
      "cell_type": "code",
      "source": [
        "class EventMaster:\n",
        "    def run(self, agent ):\n",
        "        print(\"事件发生了！\")\n",
        "        # 这里可以添加事件相关的逻辑\n",
        "        input(\"按任意键继续...\")\n"
      ],
      "metadata": {
        "id": "jQ6MS0cpuSrP"
      },
      "execution_count": null,
      "outputs": []
    },
    {
      "cell_type": "markdown",
      "source": [
        "ChatMaster实际上需要\n",
        "\n",
        "根据agent的属性 先去filter一遍事件\n",
        "\n",
        "然后从剩余事件中，找到和当前text最接近的k个embedding，放入ChatHaruhi架构中"
      ],
      "metadata": {
        "id": "3vhG1DVEucfT"
      }
    },
    {
      "cell_type": "code",
      "source": [
        "class MemoryPool:\n",
        "    def __init__(self):\n",
        "        memory = {}\n",
        "\n",
        "    def change_memory( memory_name , new_text ):\n",
        "        pass\n",
        "\n",
        "    def retrieve( agent, query_text ):\n",
        "        pass\n",
        "\n",
        "\n",
        "class ChatMaster:\n",
        "\n",
        "    def __init__(self):\n",
        "        self.top_K = 7\n",
        "\n",
        "        self.memory_pool = MemoryPool()\n",
        "\n",
        "\n",
        "    def run(self, agent):\n",
        "        while True:\n",
        "            user_input = input(\"聊天：\")\n",
        "            user_input = user_input.strip()\n",
        "\n",
        "            if \"quit\" in user_input or \"Quit\" in user_input:\n",
        "                break\n",
        "\n",
        "            # 首先根据当前的agent，判断每个事件的条件是不是吻合，如果吻合则加入搜索\n",
        "\n",
        "            #\n"
      ],
      "metadata": {
        "id": "0c7nCT4qubll"
      },
      "execution_count": null,
      "outputs": []
    },
    {
      "cell_type": "code",
      "execution_count": null,
      "metadata": {
        "id": "BDEdz_RBol7Y"
      },
      "outputs": [],
      "source": [
        "class GameMaster:\n",
        "    def __init__(self, agent = None):\n",
        "        self.state = \"Menu\"\n",
        "        if agent is None:\n",
        "            self.agent = Agent()\n",
        "\n",
        "\n",
        "    def run(self):\n",
        "        while True:\n",
        "            if self.state == \"Menu\":\n",
        "                self.menu()\n",
        "            elif self.state == \"EventMaster\":\n",
        "                self.event_master()\n",
        "                self.state = \"Menu\"\n",
        "            elif self.state == \"ChatMaster\":\n",
        "                self.chat_master()\n",
        "            elif self.state == \"Quit\":\n",
        "                break\n",
        "\n",
        "    def menu(self):\n",
        "        print(\"1. 随机一个事件\")\n",
        "        print(\"2. 自由聊天\")\n",
        "        # (opt) 结局系统\n",
        "        # 放动画\n",
        "        # 后台修改attribute\n",
        "        print(\"或者输入Quit退出\")\n",
        "        choice = input(\"请选择一个选项: \")\n",
        "        if choice == \"1\":\n",
        "            self.state = \"EventMaster\"\n",
        "        elif choice == \"2\":\n",
        "            self.state = \"ChatMaster\"\n",
        "        elif \"quit\" in choice or \"Quit\" in choice or \"QUIT\" in choice:\n",
        "            self.state = \"Quit\"\n",
        "        else:\n",
        "            print(\"无效的选项，请重新选择\")\n",
        "\n",
        "    def event_master(self):\n",
        "        event_master = EventMaster()\n",
        "        event_master.run(self.agent)\n",
        "        self.state = \"Menu\"\n",
        "\n",
        "    def chat_master(self):\n",
        "        chat_master = ChatMaster()\n",
        "        chat_master.run(self.agent)\n",
        "        self.state = \"Menu\"\n",
        "\n",
        "\n"
      ]
    },
    {
      "cell_type": "code",
      "source": [
        "game_master = GameMaster()\n",
        "game_master.run()"
      ],
      "metadata": {
        "colab": {
          "base_uri": "https://localhost:8080/"
        },
        "id": "zPmr9kVepwjh",
        "outputId": "43550794-74dc-4513-8069-79b444b60c0c"
      },
      "execution_count": null,
      "outputs": [
        {
          "name": "stdout",
          "output_type": "stream",
          "text": [
            "1. 随机一个事件\n",
            "2. 自由聊天\n",
            "请选择一个选项: 1\n",
            "事件发生了！\n",
            "按任意键继续...\n",
            "1. 随机一个事件\n",
            "2. 自由聊天\n",
            "请选择一个选项: 2\n",
            "聊天：\n",
            "\n",
            "False\n",
            "聊天：Quit\n",
            "Quit\n",
            "False\n",
            "聊天：Quit\n",
            "Quit\n",
            "False\n",
            "聊天：quit\n",
            "quit\n",
            "True\n",
            "1. 随机一个事件\n",
            "2. 自由聊天\n",
            "请选择一个选项: quit\n"
          ]
        }
      ]
    }
  ]
}