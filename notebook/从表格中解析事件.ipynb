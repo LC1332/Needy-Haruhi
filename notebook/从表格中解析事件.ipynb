{
  "nbformat": 4,
  "nbformat_minor": 0,
  "metadata": {
    "colab": {
      "provenance": [],
      "include_colab_link": true
    },
    "kernelspec": {
      "name": "python3",
      "display_name": "Python 3"
    },
    "language_info": {
      "name": "python"
    }
  },
  "cells": [
    {
      "cell_type": "markdown",
      "metadata": {
        "id": "view-in-github",
        "colab_type": "text"
      },
      "source": [
        "<a href=\"https://colab.research.google.com/github/LC1332/Needy-Haruhi/blob/main/notebook/%E4%BB%8E%E8%A1%A8%E6%A0%BC%E4%B8%AD%E8%A7%A3%E6%9E%90%E4%BA%8B%E4%BB%B6.ipynb\" target=\"_parent\"><img src=\"https://colab.research.google.com/assets/colab-badge.svg\" alt=\"Open In Colab\"/></a>"
      ]
    },
    {
      "cell_type": "code",
      "execution_count": 1,
      "metadata": {
        "id": "nAJ2Ubu1-MUb",
        "outputId": "d4b88502-60dc-49cf-efb3-4151a994e79c",
        "colab": {
          "base_uri": "https://localhost:8080/"
        }
      },
      "outputs": [
        {
          "output_type": "stream",
          "name": "stdout",
          "text": [
            "--2023-11-05 02:16:18--  https://github.com/LC1332/Needy-Haruhi/raw/main/data/Jines.csv\n",
            "Resolving github.com (github.com)... 140.82.112.4\n",
            "Connecting to github.com (github.com)|140.82.112.4|:443... connected.\n",
            "HTTP request sent, awaiting response... 302 Found\n",
            "Location: https://raw.githubusercontent.com/LC1332/Needy-Haruhi/main/data/Jines.csv [following]\n",
            "--2023-11-05 02:16:18--  https://raw.githubusercontent.com/LC1332/Needy-Haruhi/main/data/Jines.csv\n",
            "Resolving raw.githubusercontent.com (raw.githubusercontent.com)... 185.199.108.133, 185.199.109.133, 185.199.110.133, ...\n",
            "Connecting to raw.githubusercontent.com (raw.githubusercontent.com)|185.199.108.133|:443... connected.\n",
            "HTTP request sent, awaiting response... 200 OK\n",
            "Length: 249489 (244K) [text/plain]\n",
            "Saving to: ‘Jines.csv’\n",
            "\n",
            "Jines.csv           100%[===================>] 243.64K  --.-KB/s    in 0.03s   \n",
            "\n",
            "2023-11-05 02:16:19 (9.50 MB/s) - ‘Jines.csv’ saved [249489/249489]\n",
            "\n"
          ]
        }
      ],
      "source": [
        "# 下载文件。\n",
        "!wget https://github.com/LC1332/Needy-Haruhi/raw/main/data/Jines.csv"
      ]
    },
    {
      "cell_type": "code",
      "source": [
        "import os\n",
        "import re\n",
        "import shutil\n",
        "\n",
        "import pandas as pd\n",
        "\n",
        "Jines_file = r\"/content/Jines.csv\"  # 更改文件路径和扩展名\n",
        "\n",
        "# # 读取CSV文件\n",
        "Jines = pd.read_csv(Jines_file, lineterminator='\\n')"
      ],
      "metadata": {
        "id": "1-kV6t_ARAGN"
      },
      "execution_count": 2,
      "outputs": []
    },
    {
      "cell_type": "code",
      "source": [
        "import os\n",
        "import re\n",
        "import shutil\n",
        "\n",
        "import pandas as pd\n",
        "\n",
        "Jines_file = r\"/content/Jines.csv\"  # Change the file path and extension as needed\n",
        "\n",
        "# Read the CSV file\n",
        "Jines = pd.read_csv(Jines_file, lineterminator='\\n')\n",
        "\n",
        "\n"
      ],
      "metadata": {
        "id": "SRQcHQgHRTDz"
      },
      "execution_count": 4,
      "outputs": []
    },
    {
      "cell_type": "markdown",
      "source": [
        "实现一个python函数，输入是字符串，输出也是一个字符串，找到第一个\"(\"，取括号之前的字符串并strip后输出\n",
        "\n",
        "例子输入\n",
        "Day0_JINE (First Part)\n",
        "例子输出\n",
        "Day0_JINE"
      ],
      "metadata": {
        "id": "j0UF0Oh7R9ou"
      }
    },
    {
      "cell_type": "code",
      "source": [
        "def extract_string_before_parentheses(input_value):\n",
        "    # Check if the input is not a string\n",
        "    if pd.isnull(input_value):\n",
        "        return \"\"\n",
        "    elif not isinstance(input_value, str):\n",
        "        print(\"Warning: Input is not a string. Converting to string.\")\n",
        "        # Convert to string if possible\n",
        "        input_value = str(input_value)\n",
        "        print(input_value)\n",
        "\n",
        "    # Split the string at the first occurrence of '('\n",
        "    parts = input_value.split('(', 1)\n",
        "    # Take the first part and strip it of whitespace\n",
        "    return parts[0].strip()\n",
        "\n",
        "# Example usage with a string:\n",
        "input_example_str = \"Day0_JINE (First Part)\"\n",
        "print(extract_string_before_parentheses(input_example_str))  # Expected output: Day0_JINE\n",
        "\n",
        "# Example usage with a non-string:\n",
        "input_example_non_str = 12345\n",
        "print(extract_string_before_parentheses(input_example_non_str))  # Expected output: Warning + \"12345\"\n"
      ],
      "metadata": {
        "colab": {
          "base_uri": "https://localhost:8080/"
        },
        "id": "mBWfbACoSPLr",
        "outputId": "6d9d7e52-a87e-47d2-c959-ca4fd722d5c4"
      },
      "execution_count": 15,
      "outputs": [
        {
          "output_type": "stream",
          "name": "stdout",
          "text": [
            "Day0_JINE\n",
            "Warning: Input is not a string. Converting to string.\n",
            "12345\n",
            "12345\n"
          ]
        }
      ]
    },
    {
      "cell_type": "code",
      "source": [
        "count = 0\n",
        "\n",
        "lines = []\n",
        "\n",
        "last_parent = \"\"\n",
        "last_category = \"\"\n",
        "\n",
        "all_events = []\n",
        "\n",
        "# Loop through each row and print the 'Category' and 'Parent'\n",
        "for index, row in Jines.iterrows():\n",
        "\n",
        "    if pd.isnull(row['ParentId (more info)']):\n",
        "        continue\n",
        "\n",
        "    parent = extract_string_before_parentheses(row['ParentId (more info)'])\n",
        "    category = row['Category']\n",
        "\n",
        "    if parent.startswith(\"Ending\"):\n",
        "        break\n",
        "\n",
        "\n",
        "    # print(f\"Category: {category}, Parent: {parent}\")\n",
        "\n",
        "    if category == last_category and last_parent == parent:\n",
        "        lines.append(row)\n",
        "    else:\n",
        "        data = {\n",
        "            \"parent\": last_parent,\n",
        "            \"category\": last_category,\n",
        "            \"lines\": lines\n",
        "        }\n",
        "        all_events.append(data)\n",
        "\n",
        "        last_parent = parent\n",
        "        last_category = category\n",
        "        lines = [row]\n",
        "\n",
        "if len(lines) > 0:\n",
        "    data = {\n",
        "        \"parent\": last_parent,\n",
        "        \"category\": last_category,\n",
        "        \"lines\": lines\n",
        "    }\n",
        "    all_events.append(data)\n",
        "\n",
        "all_events = all_events[1:]"
      ],
      "metadata": {
        "id": "MNZSH1qRRcdF"
      },
      "execution_count": 28,
      "outputs": []
    },
    {
      "cell_type": "code",
      "source": [
        "print(len(all_events))"
      ],
      "metadata": {
        "colab": {
          "base_uri": "https://localhost:8080/"
        },
        "id": "vCcRJXR2TiE7",
        "outputId": "82be5beb-2a83-4cff-c78a-66b4f3bfb6c0"
      },
      "execution_count": 29,
      "outputs": [
        {
          "output_type": "stream",
          "name": "stdout",
          "text": [
            "196\n"
          ]
        }
      ]
    },
    {
      "cell_type": "code",
      "source": [
        "for i, event in enumerate(all_events):\n",
        "    if i % 3 == 0:\n",
        "        print(i, event['parent'])\n",
        "    else:\n",
        "        print(i, event['parent'], end = ' ')"
      ],
      "metadata": {
        "id": "Qe3Cb7kVTlqd"
      },
      "execution_count": null,
      "outputs": []
    },
    {
      "cell_type": "code",
      "source": [
        "for i, event in enumerate(all_events):\n",
        "    only_ame_flag = True\n",
        "    for line in event['lines']:\n",
        "        speaker = line[\"Speaker/Action (in blue)\"]\n",
        "        if speaker != \"ame\":\n",
        "            only_ame_flag = False\n",
        "            break\n",
        "    if only_ame_flag:\n",
        "        print(event['parent'])"
      ],
      "metadata": {
        "colab": {
          "base_uri": "https://localhost:8080/"
        },
        "id": "kpHE_EI_YeD5",
        "outputId": "5c3f4d93-7107-4a7d-a5b6-4c331486b519"
      },
      "execution_count": 38,
      "outputs": [
        {
          "output_type": "stream",
          "name": "stdout",
          "text": [
            "weekday\n",
            "Event_4timesJINE\n",
            "Event_Brokenphone\n",
            "Event_Amecalling_Kowai\n",
            "Event_Amecalling_Kawaii\n",
            "Event_Hemp\n",
            "Event_Antherline\n",
            "Event_Doubt\n",
            "Event_Singlebed\n",
            "Event_Suggest\n",
            "Event_HaishinSiyou\n",
            "Event_Dox\n",
            "Event_Urge\n",
            "Event_Approval\n",
            "Event_Anxiety\n",
            "Event_Kasoworry\n",
            "Event_Choudare\n",
            "Event_HelpJINE\n",
            "Event_Damon\n",
            "Event_Egosastop\n",
            "Event_Nickname\n",
            "StHi_FollowHi\n",
            "StHi_FollowHi\n",
            "StHi_FollowHi\n",
            "YamiHi_FollowHi\n",
            "YamiHi_FollowHi\n",
            "YamiHi_FollowHi\n",
            "KenjoHi\n",
            "KenjoHi\n",
            "KenjoHi\n",
            "KenjoHi\n",
            "YamiHi_SukiHi\n",
            "YamiHi_SukiHi\n",
            "Event_Sokubaku\n",
            "Event_Nerarenai_Night\n",
            "Event_Badtrip_Sihan\n",
            "Event_Badtrip_Syohou\n",
            "Event_Wristcat\n",
            "NetaGet_Zatudan\n",
            "NetaGet_Zatudan\n",
            "NetaGet_Zatudan\n",
            "NetaGet_Zatudan\n",
            "NetaGet_ASMR\n",
            "NetaGet_ASMR\n",
            "NetaGet_ASMR\n",
            "NetaGet_ASMR\n",
            "NetaGet_ASMR\n",
            "NetaGet_ASMR\n",
            "NetaGet_Kaisetu\n",
            "NetaGet_Kaisetu\n",
            "NetaGet_Kaisetu\n",
            "NetaGet_Kaisetu\n",
            "NetaGet_Kaisetu\n",
            "NetaGet_HnaHaishin\n",
            "NetaGet_HnaHaishin\n",
            "NetaGet_HnaHaishin\n",
            "NetaGet_HnaHaishin\n",
            "NetaGet_HnaHaishin\n",
            "NetaGet_Yami\n",
            "NetaGet_Yami\n",
            "NetaGet_Yami\n",
            "NetaGet_Yami\n",
            "NetaGet_Yami\n",
            "NetaGet_Game\n",
            "NetaGet_Game\n",
            "NetaGet_Game\n",
            "NetaGet_Game\n",
            "NetaGet_Game\n",
            "NetaGet_Imbouron\n",
            "NetaGet_Imbouron\n",
            "NetaGet_Imbouron\n",
            "NetaGet_Imbouron\n",
            "NetaGet_Imbouron\n",
            "NetaGet_Kaidan\n",
            "NetaGet_Kaidan\n",
            "NetaGet_Kaidan\n",
            "NetaGet_Kaidan\n",
            "NetaGet_Kaidan\n",
            "NetaGet_Taiken\n",
            "NetaGet_Taiken\n",
            "NetaGet_Taiken\n",
            "NetaGet_Taiken\n",
            "NetaGet_Taiken\n",
            "NetaGet_OtakuTalk\n",
            "NetaGet_OtakuTalk\n",
            "NetaGet_OtakuTalk\n",
            "NetaGet_OtakuTalk\n",
            "NetaGet_OtakuTalk\n",
            "NetaGet_Darkness\n",
            "NetaGet_Darkness\n",
            "NetaGet_Angel\n",
            "NetaGet_Angel\n",
            "NetaGet_Angel\n",
            "NetaGet_Angel\n",
            "NetaGet_Angel\n",
            "NetaGet_PR\n",
            "NetaGet_PR\n",
            "NetaGet_PR\n",
            "NetaGet_PR\n",
            "NetaGet_PR\n",
            "reply\n",
            "Jine_Reply\n",
            "doudemoii\n",
            "Jine_Reply\n",
            "sorena\n",
            "Jine_Reply\n",
            "siakouka\n",
            "Jine_Reply\n",
            "pien\n",
            "Jine_Reply\n",
            "ok\n",
            "Jine_Reply\n",
            "love\n",
            "Jine_Reply\n",
            "gomen\n",
            "Jine_Reply\n",
            "dead\n",
            "renda\n",
            "Day0_JINE\n",
            "Event_Password\n",
            "Event_Aim_Rent\n",
            "Event_Wishlist_Kekka\n",
            "Event_Wishlist_Kekka\n",
            "Event_Wishlist_Kekka\n",
            "Event_Wishlist_Kekka\n",
            "Event_Aim_NotAchieved_Day10\n",
            "Event_Aim_NotAchieved_Day14\n",
            "Event_Aim_Achieved_Day14\n",
            "Scenario_start_follower_high\n",
            "Scenario_start_follower_low\n",
            "Event_LongLINE\n",
            "YamiHi_SukiHi\n",
            "Scenario_happa_yamitoraikeike\n",
            "Scenario_happa_kentoraikeike\n",
            "Scenario_happa_yamihateikeike\n",
            "Scenario_happa_yamihateikeike\n",
            "Scenario_happa_yamitora\n",
            "Scenario_happa_yamitora\n",
            "Scenario_happa_yamihate\n",
            "Scenario_happa_kenhate\n",
            "Event_Day20\n",
            "Scenario_topstreamer_trahappa\n",
            "Scenario_topstreamer_trakenjo\n",
            "Event_Hometown\n",
            "Scenario_topstreamer_trahappaikeike\n",
            "Event_Song\n"
          ]
        }
      ]
    },
    {
      "cell_type": "code",
      "source": [
        "for event in all_events:\n",
        "    flag = False\n",
        "    for line in event['lines']:\n",
        "        parent = line['ParentId (more info)']\n",
        "        if \"2ndOption\" in parent:\n",
        "            flag = True\n",
        "            break\n",
        "\n",
        "    if flag:\n",
        "        print(event['parent'])"
      ],
      "metadata": {
        "colab": {
          "base_uri": "https://localhost:8080/"
        },
        "id": "myJ3x9xGVCir",
        "outputId": "96594bd6-0178-4048-fbf9-f9fe1e3a394f"
      },
      "execution_count": 33,
      "outputs": [
        {
          "output_type": "stream",
          "name": "stdout",
          "text": [
            "Event_NextDate\n",
            "Event_Yandeiru\n",
            "Event_Yutabon\n",
            "Event_MailInterview\n",
            "Event_Dialog\n"
          ]
        }
      ]
    },
    {
      "cell_type": "code",
      "source": [
        "count = 0\n",
        "\n",
        "for event in all_events:\n",
        "    if len(event['lines']) == 1:\n",
        "        continue\n",
        "\n",
        "    flag = False\n",
        "    for line in event['lines']:\n",
        "        parent = line['ParentId (more info)']\n",
        "        if \"2ndOption\" in parent:\n",
        "            flag = True\n",
        "            break\n",
        "\n",
        "    if flag:\n",
        "        continue\n",
        "\n",
        "    count += 1\n",
        "\n",
        "print(count)"
      ],
      "metadata": {
        "colab": {
          "base_uri": "https://localhost:8080/"
        },
        "id": "6apNMqgXV5aH",
        "outputId": "8eb21455-999e-46b3-d575-05841afb5adb"
      },
      "execution_count": 35,
      "outputs": [
        {
          "output_type": "stream",
          "name": "stdout",
          "text": [
            "176\n"
          ]
        }
      ]
    },
    {
      "cell_type": "code",
      "source": [
        "\n",
        "\n",
        "\n",
        "# # 查询有选项的内容\n",
        "pattern = r'(?<=\\().*?(?=\\))'\n",
        "\n",
        "# # 匹配事件\n",
        "Title = Jines.loc[(Jines['ParentId (more info)'].str.contains(pattern, regex=True, na=False))]\n",
        "\n",
        "Attribute_temp = {\"Affection\": 0, \"Stress\": 0, \"Darkness\": 0}\n"
      ],
      "metadata": {
        "id": "vmh37VqKCiw-"
      },
      "execution_count": 61,
      "outputs": []
    },
    {
      "cell_type": "markdown",
      "source": [
        "Jines_file = r\"/content/Jines.csv\"  # 更改文件路径和扩展名\n",
        "\n",
        "使用utf-8读取这个文件后，为我split成多行"
      ],
      "metadata": {
        "id": "5ZS0MWuxJoIN"
      }
    },
    {
      "cell_type": "code",
      "source": [
        "def sanitize_filename(filename):\n",
        "    invalid_chars = '<>:\"/\\\\|?*\\n'\n",
        "    for char in invalid_chars:\n",
        "        filename = filename.replace(char, '_')\n",
        "    return filename"
      ],
      "metadata": {
        "id": "aOBxpvtlK8B5"
      },
      "execution_count": 68,
      "outputs": []
    },
    {
      "cell_type": "code",
      "source": [
        "!rm -rf /content/events\n",
        "!mkdir events\n"
      ],
      "metadata": {
        "id": "PLoXThkLLC7e"
      },
      "execution_count": 84,
      "outputs": []
    },
    {
      "cell_type": "code",
      "source": [
        "def set_json_value( a, key, value, verbose = True):\n",
        "    if key in a and a[key] != value:\n",
        "        event_name = a[\"Name_while_read_csv\"]\n",
        "        if verbose:\n",
        "            print(f\"Warning! Key {key} already exists in event {event_name}\")\n",
        "            print(f\"try overwrite {a[key]} to {value}\")\n",
        "    else:\n",
        "        a[key] = value\n",
        "    return a"
      ],
      "metadata": {
        "id": "AydtmWYmLm6z"
      },
      "execution_count": 111,
      "outputs": []
    },
    {
      "cell_type": "markdown",
      "source": [
        "请为我实现一个python函数，输入和输出都是字符串\n",
        "去掉字符串末尾3位可能的数字。"
      ],
      "metadata": {
        "id": "yE5sAn59ODk4"
      }
    },
    {
      "cell_type": "code",
      "source": [
        "def remove_trailing_digits(s: str) -> str:\n",
        "    \"\"\"\n",
        "    Remove up to three trailing digits from a string.\n",
        "\n",
        "    :param s: Input string that may end with up to three digits.\n",
        "    :return: String with the trailing digits removed.\n",
        "    \"\"\"\n",
        "    # 初始化一个变量，用于计数尾部连续数字的数量\n",
        "    trailing_digit_count = 0\n",
        "\n",
        "    # 从字符串末尾开始，向前检查每个字符\n",
        "    for char in reversed(s[-3:]):  # 查看最后三个字符\n",
        "        if char.isdigit():  # 如果字符是数字\n",
        "            trailing_digit_count += 1  # 增加计数\n",
        "        else:\n",
        "            break  # 如果遇到非数字字符，跳出循环\n",
        "\n",
        "    # 如果尾部有数字，去除相应数量的字符\n",
        "    if trailing_digit_count > 0:\n",
        "        return s[:-trailing_digit_count]\n",
        "    else:\n",
        "        return s\n",
        "\n",
        "\n",
        "# 示例用法\n",
        "input_str = \"example123\"\n",
        "output_str = remove_trailing_digits(input_str)\n",
        "print(output_str)  # 应该输出 \"example\"\n"
      ],
      "metadata": {
        "colab": {
          "base_uri": "https://localhost:8080/"
        },
        "id": "dAGwJKDoOOam",
        "outputId": "c217ad74-e14d-4c17-92d5-917c1b5ef1d5"
      },
      "execution_count": 112,
      "outputs": [
        {
          "output_type": "stream",
          "name": "stdout",
          "text": [
            "example\n"
          ]
        }
      ]
    },
    {
      "cell_type": "code",
      "source": [
        "event_name_to_data = {}\n",
        "\n",
        "# 把文件转换为txt\n",
        "def format_output(row):\n",
        "\n",
        "    # ID\n",
        "    ParentId = f'{row[\"ParentId (more info)\"]}'\n",
        "    Category_temp = f'{row[\"Category\"]}'\n",
        "    Category = sanitize_filename(Category_temp)\n",
        "    ID = f'{row[\"Id\"]}'\n",
        "\n",
        "    # 匹配标题\n",
        "    regex1 = r\"\\w+(?= \\()\"\n",
        "    title = re.search(regex1, ParentId)\n",
        "    title_str = title.group()\n",
        "\n",
        "    current_data = {}\n",
        "\n",
        "    # 通过title_str 索引出数据\n",
        "    if title_str in event_name_to_data:\n",
        "        current_data = event_name_to_data[title_str]\n",
        "    else:\n",
        "        current_data = {\"Name_while_read_csv\":title_str,\"options\":[] }\n",
        "        event_name_to_data[title_str] = current_data\n",
        "\n",
        "\n",
        "    # 事件\n",
        "    event_list = []\n",
        "\n",
        "    # 匹配提问\n",
        "    match = re.search(r\"\\(First Part\\)\", ParentId)\n",
        "    match2 = re.search(r\"\\(First Part; end\\)\", ParentId)\n",
        "    match3 = re.search(r\"\\(Third Part\\)\", ParentId)\n",
        "    match4 = re.search(r\"\\(Second Part\\)\", ParentId)\n",
        "    match5 = re.search(r\"\\(Fourth Part\\)\", ParentId)\n",
        "\n",
        "    # 数值\n",
        "    aff = f\"Affection: {row['Affection']}\"\n",
        "    str = f\"Stress: {row['Stress']}\"\n",
        "    dar = f\"Darkness: {row['Darkness']}\"\n",
        "\n",
        "    # 匹配选项以及回复\n",
        "    choose_time = re.search(r\"\\d+\", ParentId)\n",
        "    reply_ = re.search(r'(\\(.*Option[0-9]+;end\\))', ParentId)\n",
        "    reply_2 = re.search(r'(\\(.*Option[0-9]\\))', ParentId)\n",
        "\n",
        "    # 处理提问\n",
        "    # if match or match2 or match4 or match5 or match3:\n",
        "    if match or match2 or match3 or match4 or match5:\n",
        "\n",
        "        Prefix = f'\\n## 对话\\n### Prefix Category_temp:{Category} ID:{ID}'\n",
        "\n",
        "        current_data = set_json_value(current_data, \"category\", Category,False)\n",
        "\n",
        "        if ID and len(ID) > 0 and ID != \"nan\":\n",
        "            ID = remove_trailing_digits(ID)\n",
        "            current_data = set_json_value(current_data, \"id\", ID, False)\n",
        "\n",
        "\n",
        "\n",
        "        Ame = f\"糖糖: {row['BodyCn']}\"\n",
        "        with open(f'events/{title_str}.txt', 'a+', encoding='utf-8') as f:\n",
        "            # 使用 join 方法将 Ame, Title_ame, Category 连接成一个字符串，并在每个字段之间添加一个制表符\n",
        "            line = '\\n'.join([Prefix, Ame])\n",
        "\n",
        "            line_bytes = line.encode('utf-8')\n",
        "            # 将字节对象写入到文件中\n",
        "            line_str = line_bytes.decode('utf-8')\n",
        "            # 将字符串对象写入到文件中\n",
        "            f.write(line_str)\n",
        "\n",
        "        return \"\\n\".join([Prefix, Ame])\n",
        "\n",
        "    # 处理选项\n",
        "    elif row['Speaker/Action (in blue)'] == 'pi':\n",
        "        # 跳过数值为空的回复\n",
        "        try:\n",
        "            key = f'\\n### Option-{choose_time.group()}'\n",
        "            user = f\"User:　{row['BodyCn']}\"\n",
        "\n",
        "            if aff == 'Affection: nan':\n",
        "                aff = ''\n",
        "            if str == 'Stress: nan':\n",
        "                str = ''\n",
        "            if dar == 'Darkness: nan':\n",
        "                dar = ''\n",
        "            value = f\"Attribute Change: {aff} {str} {dar}\"\n",
        "\n",
        "            if value == 'Attribute Change:   ':\n",
        "                value = ''\n",
        "\n",
        "            with open(f'events/{title_str}.txt', 'a+', encoding='utf-8') as f:\n",
        "                # 使用 join 方法将 Ame, Title_ame, Category 连接成一个字符串，并在每个字段之间添加一个制表符\n",
        "                line = '\\n'.join([key, user, value])\n",
        "\n",
        "                line_bytes = line.encode('utf-8')\n",
        "                # 将字节对象写入到文件中\n",
        "                line_str = line_bytes.decode('utf-8')\n",
        "                # 将字符串对象写入到文件中\n",
        "                f.write(line_str)\n",
        "            return \"\\n\".join([key, user, value])\n",
        "        except:\n",
        "            pass\n",
        "\n",
        "    # 处理选项回复\n",
        "    elif reply_ or (reply_2 and row['Speaker/Action (in blue)'] == 'ame'):\n",
        "        try:\n",
        "            key = f'\\nReply：\\n糖糖：{row[\"BodyCn\"]}'\n",
        "\n",
        "            if aff == 'Affection: nan':\n",
        "                aff = ''\n",
        "            if str == 'Stress: nan':\n",
        "                str = ''\n",
        "            if dar == 'Darkness: nan':\n",
        "                dar = ''\n",
        "            value = f\"Attribute Change: {aff} {str} {dar}\"\n",
        "\n",
        "            if value == 'Attribute Change:   ':\n",
        "                value = 'Attribute Change: None'\n",
        "\n",
        "            if key == '\\nReply：\\n糖糖：nan':\n",
        "                with open(f'events/{title_str}.txt', 'a+', encoding='utf-8') as f:\n",
        "                    # 使用 join 方法将 Ame, Title_ame, Category 连接成一个字符串，并在每个字段之间添加一个制表符\n",
        "                    line = '\\n'.join([value])\n",
        "                    line_bytes = line.encode('utf-8')\n",
        "                    # 将字节对象写入到文件中\n",
        "                    line_str = line_bytes.decode('utf-8')\n",
        "                    # 将字符串对象写入到文件中\n",
        "                    f.write(line_str)\n",
        "\n",
        "                return \"\\n\".join([value])\n",
        "\n",
        "            with open(f'events/{title_str}.txt', 'a+', encoding='utf-8') as f:\n",
        "                # 使用 join 方法将 Ame, Title_ame, Category 连接成一个字符串，并在每个字段之间添加一个制表符\n",
        "                line = '\\n'.join([key, value])\n",
        "\n",
        "                line_bytes = line.encode('utf-8')\n",
        "                # 将字节对象写入到文件中\n",
        "                line_str = line_bytes.decode('utf-8')\n",
        "                # 将字符串对象写入到文件中\n",
        "                f.write(line_str)\n",
        "\n",
        "            return \"\\n\".join([key, value])\n",
        "        except:\n",
        "            pass\n"
      ],
      "metadata": {
        "id": "DgCgTdvC-eEe"
      },
      "execution_count": 116,
      "outputs": []
    },
    {
      "cell_type": "code",
      "source": [
        "# 转换为txt\n",
        "re_Title = Title.apply(format_output, axis=1)\n",
        "# output_str = re_Title.str.cat(sep=\"\\n \\n\")  # 用空格分隔每个元素"
      ],
      "metadata": {
        "colab": {
          "base_uri": "https://localhost:8080/"
        },
        "id": "ZHdGWB-qF9v0",
        "outputId": "80271ca6-995a-416f-a9dc-f5b36e0a2938"
      },
      "execution_count": 115,
      "outputs": [
        {
          "output_type": "stream",
          "name": "stdout",
          "text": [
            "Warning! Key category already exists in event StHi_FollowHi\n",
            "try overwrite Random Noon Event_ Followers 100k+_and Stress Cap Raised to 120 to Random Noon Event_ Followers 250k+_and Stress Cap Raised to 120\n",
            "Warning! Key category already exists in event StHi_FollowHi\n",
            "try overwrite Random Noon Event_ Followers 100k+_and Stress Cap Raised to 120 to Random Noon Event_ Followers 250k+_and Stress Cap Raised to 120\n",
            "Warning! Key category already exists in event StHi_FollowHi\n",
            "try overwrite Random Noon Event_ Followers 100k+_and Stress Cap Raised to 120 to Random Noon Event_ Followers 250k+_and Stress Cap Raised to 120\n",
            "Warning! Key category already exists in event StHi_FollowHi\n",
            "try overwrite Random Noon Event_ Followers 100k+_and Stress Cap Raised to 120 to Random Noon Event_ Followers 250k+_and Stress Cap Raised to 120\n",
            "Warning! Key category already exists in event StHi_FollowHi\n",
            "try overwrite Random Noon Event_ Followers 100k+_and Stress Cap Raised to 120 to Random Noon Event_ Followers 500k+_and Stress Cap Raised to 120\n",
            "Warning! Key category already exists in event StHi_FollowHi\n",
            "try overwrite Random Noon Event_ Followers 100k+_and Stress Cap Raised to 120 to Random Noon Event_ Followers 500k+_and Stress Cap Raised to 120\n",
            "Warning! Key category already exists in event StHi_FollowHi\n",
            "try overwrite Random Noon Event_ Followers 100k+_and Stress Cap Raised to 120 to Random Noon Event_ Followers 500k+_and Stress Cap Raised to 120\n",
            "Warning! Key category already exists in event StHi_FollowHi\n",
            "try overwrite Random Noon Event_ Followers 100k+_and Stress Cap Raised to 120 to Random Noon Event_ Followers 1m+_and Stress Cap Raised to 120\n",
            "Warning! Key category already exists in event StHi_FollowHi\n",
            "try overwrite Random Noon Event_ Followers 100k+_and Stress Cap Raised to 120 to Random Noon Event_ Followers 1m+_and Stress Cap Raised to 120\n",
            "Warning! Key category already exists in event StHi_FollowHi\n",
            "try overwrite Random Noon Event_ Followers 100k+_and Stress Cap Raised to 120 to Random Noon Event_ Followers 1m+_and Stress Cap Raised to 120\n",
            "Warning! Key category already exists in event StHi_FollowHi\n",
            "try overwrite Random Noon Event_ Followers 100k+_and Stress Cap Raised to 120 to Random Noon Event_ Followers 1m+_and Stress Cap Raised to 120\n",
            "Warning! Key category already exists in event YamiHi_FollowHi\n",
            "try overwrite Random Noon Event_ Followers 250k+_and Darkness 61+ to Random Noon Event_ Followers 500k+_and Darkness 61+\n",
            "Warning! Key category already exists in event YamiHi_FollowHi\n",
            "try overwrite Random Noon Event_ Followers 250k+_and Darkness 61+ to Random Noon Event_ Followers 500k+_and Darkness 61+\n",
            "Warning! Key category already exists in event YamiHi_FollowHi\n",
            "try overwrite Random Noon Event_ Followers 250k+_and Darkness 61+ to Random Noon Event_ Followers 1m+_and Darkness 61+\n",
            "Warning! Key category already exists in event YamiHi_FollowHi\n",
            "try overwrite Random Noon Event_ Followers 250k+_and Darkness 61+ to Random Noon Event_ Followers 1m+_and Darkness 61+\n",
            "Warning! Key category already exists in event YamiHi_FollowHi\n",
            "try overwrite Random Noon Event_ Followers 250k+_and Darkness 61+ to Random Noon Event_ Followers 1m+_and Darkness 61+\n",
            "Warning! Key category already exists in event KenjoHi\n",
            "try overwrite Random Noon Event_ Darkness 0-19 to Random Noon Event_ Darkness 0-14\n",
            "Warning! Key category already exists in event KenjoHi\n",
            "try overwrite Random Noon Event_ Darkness 0-19 to Random Noon Event_ Darkness 0-9\n",
            "Warning! Key category already exists in event KenjoHi\n",
            "try overwrite Random Noon Event_ Darkness 0-19 to Random Noon Event_ Darkness 0-9\n",
            "Warning! Key category already exists in event KenjoHi\n",
            "try overwrite Random Noon Event_ Darkness 0-19 to Random Noon Event_ Darkness 0-4\n",
            "Warning! Key category already exists in event KenjoHi\n",
            "try overwrite Random Noon Event_ Darkness 0-19 to Random Noon Event_ Darkness 0-4\n",
            "Warning! Key category already exists in event YamiHi_SukiHi\n",
            "try overwrite Random Noon Event_ Affection _and Darkness at 41+ to Random Noon Event_ Affection _and Darkness at 61+\n",
            "Warning! Key category already exists in event YamiHi_SukiHi\n",
            "try overwrite Random Noon Event_ Affection _and Darkness at 41+ to Random Noon Event_ Affection _and Darkness at 61+\n",
            "Warning! Key category already exists in event YamiHi_SukiHi\n",
            "try overwrite Random Noon Event_ Affection _and Darkness at 41+ to Random Noon Event_ Affection _and Darkness at 81+\n",
            "Warning! Key category already exists in event Day0_JINE\n",
            "try overwrite Day 1_ Logged In (Before Stream) to Day 1_ Logged In (After Stream)\n",
            "Warning! Key category already exists in event Day0_JINE\n",
            "try overwrite Day 1_ Logged In (Before Stream) to Day 1_ Logged In (After Stream)\n",
            "Warning! Key category already exists in event Day0_JINE\n",
            "try overwrite Day 1_ Logged In (Before Stream) to Day 1_ Logged In (After Stream)\n",
            "Warning! Key category already exists in event Day0_JINE\n",
            "try overwrite Day 1_ Logged In (Before Stream) to Day 1_ Logged In (After Stream)\n",
            "Warning! Key category already exists in event Day0_JINE\n",
            "try overwrite Day 1_ Logged In (Before Stream) to Day 1_ Logged In (After Stream)\n",
            "Warning! Key category already exists in event Day0_JINE\n",
            "try overwrite Day 1_ Logged In (Before Stream) to Day 1_ Logged In (After Stream)\n",
            "Warning! Key category already exists in event Day0_JINE\n",
            "try overwrite Day 1_ Logged In (Before Stream) to Day 1_ Logged In (After Stream)\n",
            "Warning! Key category already exists in event Day0_JINE\n",
            "try overwrite Day 1_ Logged In (Before Stream) to Day 1_ Logged In (After Stream)\n",
            "Warning! Key category already exists in event Day0_JINE\n",
            "try overwrite Day 1_ Logged In (Before Stream) to Day 1_ Logged In (After Stream)\n",
            "Warning! Key category already exists in event Day0_JINE\n",
            "try overwrite Day 1_ Logged In (Before Stream) to Day 1_ Logged In (After Stream)\n",
            "Warning! Key category already exists in event Day0_JINE\n",
            "try overwrite Day 1_ Logged In (Before Stream) to Day 1_ Logged In (After Stream)\n",
            "Warning! Key category already exists in event Day0_JINE\n",
            "try overwrite Day 1_ Logged In (Before Stream) to Day 1_ Logged In (After Stream)\n",
            "Warning! Key category already exists in event Ending_Normal\n",
            "try overwrite Ending_ Utopian Parody to Ending_ Utopian Parody _(With Trauma Event)\n",
            "Warning! Key category already exists in event Ending_Normal\n",
            "try overwrite Ending_ Utopian Parody to Ending_ Utopian Parody _(With Trauma Event)\n",
            "Warning! Key category already exists in event Ending_Normal\n",
            "try overwrite Ending_ Utopian Parody to Ending_ Utopian Parody _(With Trauma Event; answered correctly)\n",
            "Warning! Key category already exists in event Ending_Normal\n",
            "try overwrite Ending_ Utopian Parody to Ending_ Utopian Parody _(With Trauma Event; answered correctly)\n",
            "Warning! Key category already exists in event Ending_Normal\n",
            "try overwrite Ending_ Utopian Parody to Ending_ Utopian Parody _(With Trauma Event; answered correctly)\n",
            "Warning! Key category already exists in event Ending_Normal\n",
            "try overwrite Ending_ Utopian Parody to Ending_ Utopian Parody _(With Trauma Event; answered correctly)\n"
          ]
        }
      ]
    },
    {
      "cell_type": "code",
      "source": [
        "print(re_Title.head)"
      ],
      "metadata": {
        "colab": {
          "base_uri": "https://localhost:8080/"
        },
        "id": "VSuD3iv_GGjt",
        "outputId": "2f9a34cf-6302-4caf-b29b-bbfaeaa5bb09"
      },
      "execution_count": 30,
      "outputs": [
        {
          "output_type": "stream",
          "name": "stdout",
          "text": [
            "Empty DataFrame\n",
            "Columns: [{\"payload\":{\"allShortcutsEnabled\":false, fileTree:{\"data\":{\"items\":[{\"name\":\"Jines.csv\", path:\"data/Jines.csv\", contentType:\"file\"}, {\"name\":\"Jines.xlsx\", path:\"data/Jines.xlsx\", contentType:\"file\"}.1, {\"name\":\"emoji_story_23.jsonl\", path:\"data/emoji_story_23.jsonl\", contentType:\"file\"}.2, {\"name\":\"original_story_23.jsonl\", path:\"data/original_story_23.jsonl\", contentType:\"file\"}], totalCount:4}, :{\"items\":[{\"name\":\"data\", path:\"data\", contentType:\"directory\"}, {\"name\":\"notebook\", path:\"notebook\", contentType:\"directory\"}.1, {\"name\":\"src\", path:\"src\", contentType:\"directory\"}.2, {\"name\":\".DS_Store\", path:\".DS_Store\", contentType:\"file\"}.3, {\"name\":\".gitignore\", path:\".gitignore\", contentType:\"file\"}.4, {\"name\":\"LICENSE\", path:\"LICENSE\", contentType:\"file\"}.5, {\"name\":\"README.md\", path:\"README.md\", contentType:\"file\"}].1, totalCount:7}}, fileTreeProcessingTime:5.894192, foldersToFetch:[], reducedMotionEnabled:null, repo:{\"id\":713164097, defaultBranch:\"main\", name:\"Needy-Haruhi\", ownerLogin:\"LC1332\", currentUserCanPush:false, isFork:false, isEmpty:false, createdAt:\"2023-11-02T01:04:46.000Z\", ownerAvatar:\"https://avatars.githubusercontent.com/u/5266090?v=4\", public:true, private:false, isOrgOwned:false}, symbolsExpanded:false, treeExpanded:true, refInfo:{\"name\":\"main\", listCacheKey:\"v0:1699146562.0\", canEdit:false, refType:\"branch\", currentOid:\"7804db2cd6540b664df0e89e5d6c2ee0e62248ac\"}, path:\"data/Jines.csv\".1, currentUser:null, blob:{\"rawLines\":null, stylingDirectives:null, csv:[[\"Category\", Id, ParentId (more info), Speaker/Action (in blue), Stress, Affection, Darkness, BodyCn, null, null.1, null.2, null.3, null.4, null.5, null.6, null.7, null.8, null.9, null.10, null.11, null.12, null.13, null.14, null.15, null.16, null.17, null.18, null.19, null.20, null], [\"Random Dusk/Night Texts\", LineWeekDay003, weekday, ame, null.21, null.22, null.23, 早上起不来！好想死～～～, ...]\n",
            "Index: []\n",
            "\n",
            "[0 rows x 46399 columns]\n"
          ]
        }
      ]
    },
    {
      "cell_type": "code",
      "source": [
        "# txt文件转换为jsonl\n",
        "def parse_to_jsonl(file_path):\n",
        "    with open(file_path, 'r', encoding='utf-8') as f:\n",
        "        lines = iter(f.readlines())\n",
        "    dialogs = []\n",
        "    dialog = {}\n",
        "    option = {}\n",
        "    for line in lines:\n",
        "        line = line.strip()\n",
        "        if line.startswith(\"## 对话\") or line.startswith(\"## 对话组\"):\n",
        "            if dialog and option:\n",
        "                dialog[\"options\"].append(option)\n",
        "                option = {}\n",
        "            if dialog:\n",
        "                dialogs.append(dialog)\n",
        "            dialog = {\"prefix\": \"\", \"options\": []}\n",
        "        elif line.startswith(\"### Prefix\") or line.startswith('**Prefix'):\n",
        "            prefix = next(lines).strip()\n",
        "            ids, categories = search_in_excel(prefix)\n",
        "            # print(ids, categories)\n",
        "            if ids and categories:\n",
        "                dialog[\"id\"] = ids[0]\n",
        "                dialog[\"category\"] = categories[0]\n",
        "            dialog[\"prefix\"] = prefix\n",
        "        elif line.startswith(\"### Option\") or line.startswith('**Option'):\n",
        "            if option:\n",
        "                dialog[\"options\"].append(option)\n",
        "            option = {\"user\": \"\", \"reply\": \"\", \"attribute_change\": \"\"}\n",
        "\n",
        "        elif line.startswith(\"User\") or line.startswith(\"User:\"):\n",
        "            option[\"user\"] = line[5:].strip()\n",
        "        elif line.startswith(\"Reply\") or line.startswith('**Reply:**'):\n",
        "            option[\"reply\"] = next(lines).strip()\n",
        "        elif line.startswith(\"Attribute Change\") or line.startswith('**Attribute Change:**'):\n",
        "            option[\"attribute_change\"] = line[17:].strip()\n",
        "\n",
        "    if option:\n",
        "        dialog[\"options\"].append(option)\n",
        "    if dialog:\n",
        "        dialogs.append(dialog)\n",
        "\n",
        "    with open('emoji_story_23.jsonl', 'a+', encoding=\"utf-8\") as outfile:\n",
        "        for entry in dialogs:\n",
        "            json.dump(entry, outfile, ensure_ascii=False)\n",
        "            outfile.write('\\n')"
      ],
      "metadata": {
        "id": "sghUu4Or-uC4"
      },
      "execution_count": null,
      "outputs": []
    },
    {
      "cell_type": "code",
      "source": [
        "# 转换为jsonl\n",
        "for filename in os.listdir('events'):\n",
        "    if filename.endswith(\".txt\"):\n",
        "        try:\n",
        "            parse_to_jsonl(f'events/{filename}')\n",
        "        except:\n",
        "            shutil.move(f'move/{filename}', f'error/{filename}')\n",
        "            print(filename)"
      ],
      "metadata": {
        "id": "nBLuoQov_C_5"
      },
      "execution_count": null,
      "outputs": []
    }
  ]
}